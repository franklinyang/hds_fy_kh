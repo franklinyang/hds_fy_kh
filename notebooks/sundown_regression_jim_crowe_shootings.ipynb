{
 "cells": [
  {
   "cell_type": "code",
   "execution_count": 1,
   "metadata": {},
   "outputs": [],
   "source": [
    "import statsmodels.api as sm\n",
    "import statsmodels.formula.api as smf\n",
    "import pandas as pd\n",
    "import numpy as np\n",
    "import os\n",
    "import csv"
   ]
  },
  {
   "cell_type": "code",
   "execution_count": 2,
   "metadata": {},
   "outputs": [
    {
     "name": "stderr",
     "output_type": "stream",
     "text": [
      "/usr/local/lib/python3.7/site-packages/IPython/core/interactiveshell.py:3049: DtypeWarning: Columns (9,11) have mixed types. Specify dtype option on import or set low_memory=False.\n",
      "  interactivity=interactivity, compiler=compiler, result=result)\n"
     ]
    }
   ],
   "source": [
    "mortality_with_sundown_census_poverty = pd.read_csv('../data/mortality_with_sundown_census_poverty.csv')"
   ]
  },
  {
   "cell_type": "code",
   "execution_count": 3,
   "metadata": {},
   "outputs": [],
   "source": [
    "mortality_with_sundown_census_poverty = mortality_with_sundown_census_poverty.rename(\n",
    "    columns={\n",
    "        'All Ages in Poverty Percent': 'perc_poverty',\n",
    "        'Median Household Income in Dollars': 'median_income_str'\n",
    "    })"
   ]
  },
  {
   "cell_type": "code",
   "execution_count": 4,
   "metadata": {},
   "outputs": [],
   "source": [
    "df_sundown = pd.read_csv('../data/sundown_with_counties.csv')\n",
    "analysis_df = pd.merge(mortality_with_sundown_census_poverty, df_sundown, how='left', left_on='County', right_on=\"county\")"
   ]
  },
  {
   "cell_type": "code",
   "execution_count": 5,
   "metadata": {},
   "outputs": [],
   "source": [
    "# pull out state\n",
    "analysis_df['state'] = analysis_df.County.apply(lambda x: x.split(', ')[1])"
   ]
  },
  {
   "cell_type": "code",
   "execution_count": 6,
   "metadata": {},
   "outputs": [],
   "source": [
    "# merge in state shootings data\n",
    "state_shootings = pd.read_csv('../data/police-killings-state.csv')\n",
    "analysis_df = pd.merge(analysis_df, state_shootings, left_on='state', right_on='State Abbreviation', how='left')"
   ]
  },
  {
   "cell_type": "code",
   "execution_count": 7,
   "metadata": {},
   "outputs": [],
   "source": [
    "# layer in jim crow states\n",
    "jim_crow_states = [\n",
    "    'TX', 'OK', 'MO', 'AR', 'LA', 'KY', 'WV', 'MD', 'VA', 'TN', 'NC', 'MS', 'AL', 'GA', 'SC', 'FL'\n",
    "]\n",
    "analysis_df['is_jim_crow_state'] = analysis_df.state.apply(lambda x: x in jim_crow_states)"
   ]
  },
  {
   "cell_type": "code",
   "execution_count": 8,
   "metadata": {},
   "outputs": [],
   "source": [
    "# layer in state racism index\n",
    "racism_index = pd.read_csv('../data/racism_index.csv')\n",
    "analysis_df = pd.merge(analysis_df, racism_index, left_on='state', right_on='state_abbr', how='left')"
   ]
  },
  {
   "cell_type": "code",
   "execution_count": 9,
   "metadata": {},
   "outputs": [],
   "source": [
    "# Merge in city shootings df\n",
    "city_shootings = pd.read_csv('../data/police-killings-city.csv')\n",
    "analysis_df = pd.merge(analysis_df, city_shootings, left_on='County', right_on='county', how='left')"
   ]
  },
  {
   "cell_type": "code",
   "execution_count": 81,
   "metadata": {},
   "outputs": [
    {
     "name": "stderr",
     "output_type": "stream",
     "text": [
      "/usr/local/lib/python3.7/site-packages/ipykernel_launcher.py:3: SettingWithCopyWarning: \n",
      "A value is trying to be set on a copy of a slice from a DataFrame.\n",
      "Try using .loc[row_indexer,col_indexer] = value instead\n",
      "\n",
      "See the caveats in the documentation: http://pandas.pydata.org/pandas-docs/stable/indexing.html#indexing-view-versus-copy\n",
      "  This is separate from the ipykernel package so we can avoid doing imports until\n",
      "/usr/local/lib/python3.7/site-packages/ipykernel_launcher.py:4: SettingWithCopyWarning: \n",
      "A value is trying to be set on a copy of a slice from a DataFrame.\n",
      "Try using .loc[row_indexer,col_indexer] = value instead\n",
      "\n",
      "See the caveats in the documentation: http://pandas.pydata.org/pandas-docs/stable/indexing.html#indexing-view-versus-copy\n",
      "  after removing the cwd from sys.path.\n",
      "/usr/local/lib/python3.7/site-packages/ipykernel_launcher.py:5: SettingWithCopyWarning: \n",
      "A value is trying to be set on a copy of a slice from a DataFrame.\n",
      "Try using .loc[row_indexer,col_indexer] = value instead\n",
      "\n",
      "See the caveats in the documentation: http://pandas.pydata.org/pandas-docs/stable/indexing.html#indexing-view-versus-copy\n",
      "  \"\"\"\n",
      "/usr/local/lib/python3.7/site-packages/ipykernel_launcher.py:6: SettingWithCopyWarning: \n",
      "A value is trying to be set on a copy of a slice from a DataFrame.\n",
      "Try using .loc[row_indexer,col_indexer] = value instead\n",
      "\n",
      "See the caveats in the documentation: http://pandas.pydata.org/pandas-docs/stable/indexing.html#indexing-view-versus-copy\n",
      "  \n",
      "/usr/local/lib/python3.7/site-packages/ipykernel_launcher.py:9: SettingWithCopyWarning: \n",
      "A value is trying to be set on a copy of a slice from a DataFrame.\n",
      "Try using .loc[row_indexer,col_indexer] = value instead\n",
      "\n",
      "See the caveats in the documentation: http://pandas.pydata.org/pandas-docs/stable/indexing.html#indexing-view-versus-copy\n",
      "  if __name__ == '__main__':\n",
      "/usr/local/lib/python3.7/site-packages/ipykernel_launcher.py:10: SettingWithCopyWarning: \n",
      "A value is trying to be set on a copy of a slice from a DataFrame.\n",
      "Try using .loc[row_indexer,col_indexer] = value instead\n",
      "\n",
      "See the caveats in the documentation: http://pandas.pydata.org/pandas-docs/stable/indexing.html#indexing-view-versus-copy\n",
      "  # Remove the CWD from sys.path while we load stuff.\n",
      "/usr/local/lib/python3.7/site-packages/ipykernel_launcher.py:11: SettingWithCopyWarning: \n",
      "A value is trying to be set on a copy of a slice from a DataFrame.\n",
      "Try using .loc[row_indexer,col_indexer] = value instead\n",
      "\n",
      "See the caveats in the documentation: http://pandas.pydata.org/pandas-docs/stable/indexing.html#indexing-view-versus-copy\n",
      "  # This is added back by InteractiveShellApp.init_path()\n"
     ]
    }
   ],
   "source": [
    "analysis_df_with_city_shootings = analysis_df.dropna(subset=['Killings by Police per 10k Arrests'])\n",
    "\n",
    "analysis_df_with_city_shootings['killings_per_10k'] = analysis_df_with_city_shootings['Killings by Police per 10k Arrests']\n",
    "analysis_df_with_city_shootings['diss_index'] = analysis_df_with_city_shootings['Black-White Dissimilarity Index (2010)']\n",
    "analysis_df_with_city_shootings['num_sundown_towns'] = analysis_df_with_city_shootings['#']\n",
    "analysis_df_with_city_shootings['perc_white'] = 1 - analysis_df_with_city_shootings['perc_minority']\n",
    "\n",
    "# coerce White, Black to int\n",
    "analysis_df_with_city_shootings['White_pop'] = analysis_df_with_city_shootings['White'].apply(lambda x: int(x.replace(',', '')))\n",
    "analysis_df_with_city_shootings['Black_pop'] = analysis_df_with_city_shootings['Black'].apply(lambda x: int(x.replace(',', '')))\n",
    "analysis_df_with_city_shootings['black_to_white_shootings_ratio'] = (analysis_df_with_city_shootings['White People Killed by Police (1/1/2013-12/31/2019)'] / analysis_df_with_city_shootings['White_pop']) / (analysis_df_with_city_shootings['Black People Killed by Police (1/1/2013-12/31/2019)'] / analysis_df_with_city_shootings['Black_pop'])\n",
    "\n",
    "analysis_df_with_city_shootings = analysis_df_with_city_shootings.dropna(subset=['black_to_white_shootings_ratio'])"
   ]
  },
  {
   "cell_type": "code",
   "execution_count": 82,
   "metadata": {},
   "outputs": [],
   "source": [
    "analysis_df['median_income'] = analysis_df.median_income_str.apply(lambda x: float(x.replace('$', '').replace(',', ''))/10000)\n",
    "analysis_df_with_city_shootings['median_income'] = analysis_df_with_city_shootings.median_income_str.apply(lambda x: float(x.replace('$', '').replace(',', ''))/10000)"
   ]
  },
  {
   "cell_type": "markdown",
   "metadata": {},
   "source": [
    "# Analysis using full dataframe (full analysis_df)"
   ]
  },
  {
   "cell_type": "code",
   "execution_count": 50,
   "metadata": {},
   "outputs": [
    {
     "name": "stderr",
     "output_type": "stream",
     "text": [
      "/usr/local/lib/python3.7/site-packages/ipykernel_launcher.py:12: FutureWarning: convert_objects is deprecated.  To re-infer data dtypes for object columns, use DataFrame.infer_objects()\n",
      "For all other conversions use the data-type specific converters pd.to_datetime, pd.to_timedelta and pd.to_numeric.\n",
      "  if sys.path[0] == '':\n",
      "/usr/local/lib/python3.7/site-packages/ipykernel_launcher.py:13: FutureWarning: convert_objects is deprecated.  To re-infer data dtypes for object columns, use Series.infer_objects()\n",
      "For all other conversions use the data-type specific converters pd.to_datetime, pd.to_timedelta and pd.to_numeric.\n",
      "  del sys.path[0]\n"
     ]
    }
   ],
   "source": [
    "# analysis using full dataframe\n",
    "\n",
    "y = analysis_df['Death_Population_Ratio']\n",
    "logit_covariates = [\n",
    "    'perc_minority',\n",
    "    '#',\n",
    "    'perc_poverty',\n",
    "    'is_jim_crow_state',\n",
    "    'median_income',\n",
    "]\n",
    "X = analysis_df[logit_covariates]\n",
    "X = X.convert_objects(convert_numeric=True)\n",
    "y = y.convert_objects(convert_numeric=True)"
   ]
  },
  {
   "cell_type": "code",
   "execution_count": 51,
   "metadata": {},
   "outputs": [
    {
     "name": "stdout",
     "output_type": "stream",
     "text": [
      "Optimization terminated successfully.\n",
      "         Current function value: 0.014563\n",
      "         Iterations 9\n"
     ]
    }
   ],
   "source": [
    "logit_model = sm.Logit(y.astype(float), X.astype(float))\n",
    "result = logit_model.fit()"
   ]
  },
  {
   "cell_type": "code",
   "execution_count": 52,
   "metadata": {},
   "outputs": [
    {
     "name": "stderr",
     "output_type": "stream",
     "text": [
      "/usr/local/lib/python3.7/site-packages/statsmodels/discrete/discrete_model.py:3390: RuntimeWarning: divide by zero encountered in double_scalars\n",
      "  return 1 - self.llf/self.llnull\n"
     ]
    },
    {
     "data": {
      "text/html": [
       "<table class=\"simpletable\">\n",
       "<tr>\n",
       "        <td>Model:</td>                 <td>Logit</td>         <td>Pseudo R-squared:</td>     <td>inf</td>   \n",
       "</tr>\n",
       "<tr>\n",
       "  <td>Dependent Variable:</td> <td>Death_Population_Ratio</td>       <td>AIC:</td>        <td>11492.1915</td>\n",
       "</tr>\n",
       "<tr>\n",
       "         <td>Date:</td>           <td>2020-11-16 20:28</td>          <td>BIC:</td>        <td>11546.6147</td>\n",
       "</tr>\n",
       "<tr>\n",
       "   <td>No. Observations:</td>          <td>394212</td>          <td>Log-Likelihood:</td>    <td>-5741.1</td> \n",
       "</tr>\n",
       "<tr>\n",
       "       <td>Df Model:</td>                 <td>4</td>               <td>LL-Null:</td>        <td>0.0000</td>  \n",
       "</tr>\n",
       "<tr>\n",
       "     <td>Df Residuals:</td>            <td>394207</td>           <td>LLR p-value:</td>      <td>1.0000</td>  \n",
       "</tr>\n",
       "<tr>\n",
       "      <td>Converged:</td>              <td>1.0000</td>              <td>Scale:</td>         <td>1.0000</td>  \n",
       "</tr>\n",
       "<tr>\n",
       "    <td>No. Iterations:</td>           <td>9.0000</td>                 <td></td>               <td></td>     \n",
       "</tr>\n",
       "</table>\n",
       "<table class=\"simpletable\">\n",
       "<tr>\n",
       "          <td></td>           <th>Coef.</th>  <th>Std.Err.</th>     <th>z</th>     <th>P>|z|</th> <th>[0.025</th>  <th>0.975]</th> \n",
       "</tr>\n",
       "<tr>\n",
       "  <th>perc_minority</th>     <td>1.0630</td>   <td>0.1082</td>   <td>9.8211</td>  <td>0.0000</td> <td>0.8509</td>  <td>1.2752</td> \n",
       "</tr>\n",
       "<tr>\n",
       "  <th>#</th>                 <td>0.0076</td>   <td>0.0026</td>   <td>2.9072</td>  <td>0.0036</td> <td>0.0025</td>  <td>0.0127</td> \n",
       "</tr>\n",
       "<tr>\n",
       "  <th>perc_poverty</th>      <td>-0.1137</td>  <td>0.0024</td>  <td>-46.4366</td> <td>0.0000</td> <td>-0.1185</td> <td>-0.1089</td>\n",
       "</tr>\n",
       "<tr>\n",
       "  <th>is_jim_crow_state</th> <td>-0.1988</td>  <td>0.0349</td>   <td>-5.6964</td> <td>0.0000</td> <td>-0.2671</td> <td>-0.1304</td>\n",
       "</tr>\n",
       "<tr>\n",
       "  <th>median_income</th>     <td>-0.4836</td>  <td>0.0051</td>  <td>-94.8202</td> <td>0.0000</td> <td>-0.4936</td> <td>-0.4736</td>\n",
       "</tr>\n",
       "</table>"
      ],
      "text/plain": [
       "<class 'statsmodels.iolib.summary2.Summary'>\n",
       "\"\"\"\n",
       "                            Results: Logit\n",
       "=======================================================================\n",
       "Model:              Logit                  Pseudo R-squared: inf       \n",
       "Dependent Variable: Death_Population_Ratio AIC:              11492.1915\n",
       "Date:               2020-11-16 20:28       BIC:              11546.6147\n",
       "No. Observations:   394212                 Log-Likelihood:   -5741.1   \n",
       "Df Model:           4                      LL-Null:          0.0000    \n",
       "Df Residuals:       394207                 LLR p-value:      1.0000    \n",
       "Converged:          1.0000                 Scale:            1.0000    \n",
       "No. Iterations:     9.0000                                             \n",
       "------------------------------------------------------------------------\n",
       "                    Coef.   Std.Err.     z      P>|z|    [0.025   0.975]\n",
       "------------------------------------------------------------------------\n",
       "perc_minority       1.0630    0.1082    9.8211  0.0000   0.8509   1.2752\n",
       "#                   0.0076    0.0026    2.9072  0.0036   0.0025   0.0127\n",
       "perc_poverty       -0.1137    0.0024  -46.4366  0.0000  -0.1185  -0.1089\n",
       "is_jim_crow_state  -0.1988    0.0349   -5.6964  0.0000  -0.2671  -0.1304\n",
       "median_income      -0.4836    0.0051  -94.8202  0.0000  -0.4936  -0.4736\n",
       "=======================================================================\n",
       "\n",
       "\"\"\""
      ]
     },
     "execution_count": 52,
     "metadata": {},
     "output_type": "execute_result"
    }
   ],
   "source": [
    "result.summary2()"
   ]
  },
  {
   "cell_type": "markdown",
   "metadata": {},
   "source": [
    "# Analysis using just cities we have shootings data for"
   ]
  },
  {
   "cell_type": "markdown",
   "metadata": {},
   "source": [
    "1. regress (minority%, # of sundown town, perc of poverty, jim crow state, median income) -> killings by police"
   ]
  },
  {
   "cell_type": "code",
   "execution_count": 60,
   "metadata": {},
   "outputs": [
    {
     "name": "stderr",
     "output_type": "stream",
     "text": [
      "/usr/local/lib/python3.7/site-packages/ipykernel_launcher.py:10: FutureWarning: convert_objects is deprecated.  To re-infer data dtypes for object columns, use DataFrame.infer_objects()\n",
      "For all other conversions use the data-type specific converters pd.to_datetime, pd.to_timedelta and pd.to_numeric.\n",
      "  # Remove the CWD from sys.path while we load stuff.\n",
      "/usr/local/lib/python3.7/site-packages/ipykernel_launcher.py:11: FutureWarning: convert_objects is deprecated.  To re-infer data dtypes for object columns, use Series.infer_objects()\n",
      "For all other conversions use the data-type specific converters pd.to_datetime, pd.to_timedelta and pd.to_numeric.\n",
      "  # This is added back by InteractiveShellApp.init_path()\n"
     ]
    }
   ],
   "source": [
    "y = analysis_df_with_city_shootings['black_to_white_shootings_ratio']\n",
    "logit_covariates = [\n",
    "    'perc_minority',\n",
    "    '#',\n",
    "    'perc_poverty',\n",
    "    'is_jim_crow_state',\n",
    "    'median_income',\n",
    "]\n",
    "X = analysis_df_with_city_shootings[logit_covariates]\n",
    "X = X.convert_objects(convert_numeric=True)\n",
    "y = y.convert_objects(convert_numeric=True)"
   ]
  },
  {
   "cell_type": "code",
   "execution_count": 61,
   "metadata": {},
   "outputs": [],
   "source": [
    "ols_model = sm.OLS(y.astype(float), X.astype(float))\n",
    "ols_result = ols_model.fit()"
   ]
  },
  {
   "cell_type": "code",
   "execution_count": 62,
   "metadata": {},
   "outputs": [
    {
     "data": {
      "text/html": [
       "<table class=\"simpletable\">\n",
       "<tr>\n",
       "          <td>Model:</td>                        <td>OLS</td>              <td>Adj. R-squared (uncentered):</td>    <td>0.441</td>   \n",
       "</tr>\n",
       "<tr>\n",
       "    <td>Dependent Variable:</td>   <td>black_to_white_shootings_ratio</td>             <td>AIC:</td>             <td>278631.5694</td>\n",
       "</tr>\n",
       "<tr>\n",
       "           <td>Date:</td>                 <td>2020-11-16 20:31</td>                    <td>BIC:</td>             <td>278677.8755</td>\n",
       "</tr>\n",
       "<tr>\n",
       "     <td>No. Observations:</td>                 <td>77748</td>                    <td>Log-Likelihood:</td>       <td>-1.3931e+05</td>\n",
       "</tr>\n",
       "<tr>\n",
       "         <td>Df Model:</td>                       <td>5</td>                       <td>F-statistic:</td>          <td>1.225e+04</td> \n",
       "</tr>\n",
       "<tr>\n",
       "       <td>Df Residuals:</td>                   <td>77743</td>                  <td>Prob (F-statistic):</td>        <td>0.00</td>    \n",
       "</tr>\n",
       "<tr>\n",
       "  <td>R-squared (uncentered):</td>              <td>0.441</td>                        <td>Scale:</td>              <td>2.1082</td>   \n",
       "</tr>\n",
       "</table>\n",
       "<table class=\"simpletable\">\n",
       "<tr>\n",
       "          <td></td>           <th>Coef.</th>  <th>Std.Err.</th>     <th>t</th>      <th>P>|t|</th> <th>[0.025</th>  <th>0.975]</th> \n",
       "</tr>\n",
       "<tr>\n",
       "  <th>perc_minority</th>     <td>-7.0333</td>  <td>0.0587</td>  <td>-119.8460</td> <td>0.0000</td> <td>-7.1483</td> <td>-6.9183</td>\n",
       "</tr>\n",
       "<tr>\n",
       "  <th>#</th>                 <td>-0.0299</td>  <td>0.0006</td>  <td>-48.8427</td>  <td>0.0000</td> <td>-0.0311</td> <td>-0.0287</td>\n",
       "</tr>\n",
       "<tr>\n",
       "  <th>perc_poverty</th>      <td>0.0802</td>   <td>0.0012</td>   <td>68.5921</td>  <td>0.0000</td> <td>0.0779</td>  <td>0.0825</td> \n",
       "</tr>\n",
       "<tr>\n",
       "  <th>is_jim_crow_state</th> <td>-0.3712</td>  <td>0.0153</td>  <td>-24.2303</td>  <td>0.0000</td> <td>-0.4013</td> <td>-0.3412</td>\n",
       "</tr>\n",
       "<tr>\n",
       "  <th>median_income</th>     <td>0.3325</td>   <td>0.0023</td>  <td>145.1978</td>  <td>0.0000</td> <td>0.3280</td>  <td>0.3370</td> \n",
       "</tr>\n",
       "</table>\n",
       "<table class=\"simpletable\">\n",
       "<tr>\n",
       "     <td>Omnibus:</td>    <td>56130.776</td>  <td>Durbin-Watson:</td>      <td>0.214</td>  \n",
       "</tr>\n",
       "<tr>\n",
       "  <td>Prob(Omnibus):</td>   <td>0.000</td>   <td>Jarque-Bera (JB):</td> <td>918532.526</td>\n",
       "</tr>\n",
       "<tr>\n",
       "       <td>Skew:</td>       <td>3.395</td>       <td>Prob(JB):</td>        <td>0.000</td>  \n",
       "</tr>\n",
       "<tr>\n",
       "     <td>Kurtosis:</td>    <td>18.409</td>    <td>Condition No.:</td>       <td>221</td>   \n",
       "</tr>\n",
       "</table>"
      ],
      "text/plain": [
       "<class 'statsmodels.iolib.summary2.Summary'>\n",
       "\"\"\"\n",
       "                                Results: Ordinary least squares\n",
       "===============================================================================================\n",
       "Model:                  OLS                            Adj. R-squared (uncentered): 0.441      \n",
       "Dependent Variable:     black_to_white_shootings_ratio AIC:                         278631.5694\n",
       "Date:                   2020-11-16 20:31               BIC:                         278677.8755\n",
       "No. Observations:       77748                          Log-Likelihood:              -1.3931e+05\n",
       "Df Model:               5                              F-statistic:                 1.225e+04  \n",
       "Df Residuals:           77743                          Prob (F-statistic):          0.00       \n",
       "R-squared (uncentered): 0.441                          Scale:                       2.1082     \n",
       "----------------------------------------------------------------------------------------------------\n",
       "                           Coef.       Std.Err.          t          P>|t|        [0.025       0.975]\n",
       "----------------------------------------------------------------------------------------------------\n",
       "perc_minority             -7.0333        0.0587      -119.8460      0.0000      -7.1483      -6.9183\n",
       "#                         -0.0299        0.0006       -48.8427      0.0000      -0.0311      -0.0287\n",
       "perc_poverty               0.0802        0.0012        68.5921      0.0000       0.0779       0.0825\n",
       "is_jim_crow_state         -0.3712        0.0153       -24.2303      0.0000      -0.4013      -0.3412\n",
       "median_income              0.3325        0.0023       145.1978      0.0000       0.3280       0.3370\n",
       "-----------------------------------------------------------------------------------------------\n",
       "Omnibus:                     56130.776               Durbin-Watson:                  0.214     \n",
       "Prob(Omnibus):               0.000                   Jarque-Bera (JB):               918532.526\n",
       "Skew:                        3.395                   Prob(JB):                       0.000     \n",
       "Kurtosis:                    18.409                  Condition No.:                  221       \n",
       "===============================================================================================\n",
       "\n",
       "\"\"\""
      ]
     },
     "execution_count": 62,
     "metadata": {},
     "output_type": "execute_result"
    }
   ],
   "source": [
    "ols_result.summary2()"
   ]
  },
  {
   "cell_type": "markdown",
   "metadata": {},
   "source": [
    "2.  Regression with JIM Crow + Sundowntowns + % minority + median_income + perc_poverty → Black White Dissimilarity Index (2010)"
   ]
  },
  {
   "cell_type": "code",
   "execution_count": 63,
   "metadata": {},
   "outputs": [
    {
     "name": "stderr",
     "output_type": "stream",
     "text": [
      "/usr/local/lib/python3.7/site-packages/ipykernel_launcher.py:7: FutureWarning: convert_objects is deprecated.  To re-infer data dtypes for object columns, use DataFrame.infer_objects()\n",
      "For all other conversions use the data-type specific converters pd.to_datetime, pd.to_timedelta and pd.to_numeric.\n",
      "  import sys\n",
      "/usr/local/lib/python3.7/site-packages/ipykernel_launcher.py:8: FutureWarning: convert_objects is deprecated.  To re-infer data dtypes for object columns, use Series.infer_objects()\n",
      "For all other conversions use the data-type specific converters pd.to_datetime, pd.to_timedelta and pd.to_numeric.\n",
      "  \n"
     ]
    },
    {
     "data": {
      "text/html": [
       "<table class=\"simpletable\">\n",
       "<tr>\n",
       "          <td>Model:</td>                            <td>OLS</td>                  <td>Adj. R-squared (uncentered):</td>    <td>0.645</td>   \n",
       "</tr>\n",
       "<tr>\n",
       "    <td>Dependent Variable:</td>   <td>Black-White Dissimilarity Index (2010)</td>             <td>AIC:</td>             <td>774706.9453</td>\n",
       "</tr>\n",
       "<tr>\n",
       "           <td>Date:</td>                     <td>2020-11-16 20:31</td>                        <td>BIC:</td>             <td>774725.4677</td>\n",
       "</tr>\n",
       "<tr>\n",
       "     <td>No. Observations:</td>                     <td>77748</td>                        <td>Log-Likelihood:</td>       <td>-3.8735e+05</td>\n",
       "</tr>\n",
       "<tr>\n",
       "         <td>Df Model:</td>                           <td>2</td>                           <td>F-statistic:</td>          <td>7.062e+04</td> \n",
       "</tr>\n",
       "<tr>\n",
       "       <td>Df Residuals:</td>                       <td>77746</td>                      <td>Prob (F-statistic):</td>        <td>0.00</td>    \n",
       "</tr>\n",
       "<tr>\n",
       "  <td>R-squared (uncentered):</td>                  <td>0.645</td>                            <td>Scale:</td>              <td>1244.4</td>   \n",
       "</tr>\n",
       "</table>\n",
       "<table class=\"simpletable\">\n",
       "<tr>\n",
       "          <td></td>           <th>Coef.</th>  <th>Std.Err.</th>     <th>t</th>     <th>P>|t|</th> <th>[0.025</th>  <th>0.975]</th> \n",
       "</tr>\n",
       "<tr>\n",
       "  <th>#</th>                 <td>3.1268</td>   <td>0.0093</td>  <td>337.1340</td> <td>0.0000</td> <td>3.1086</td>  <td>3.1450</td> \n",
       "</tr>\n",
       "<tr>\n",
       "  <th>is_jim_crow_state</th> <td>45.0082</td>  <td>0.3283</td>  <td>137.0929</td> <td>0.0000</td> <td>44.3648</td> <td>45.6517</td>\n",
       "</tr>\n",
       "</table>\n",
       "<table class=\"simpletable\">\n",
       "<tr>\n",
       "     <td>Omnibus:</td>    <td>7901.686</td>  <td>Durbin-Watson:</td>     <td>0.093</td> \n",
       "</tr>\n",
       "<tr>\n",
       "  <td>Prob(Omnibus):</td>   <td>0.000</td>  <td>Jarque-Bera (JB):</td> <td>6881.886</td>\n",
       "</tr>\n",
       "<tr>\n",
       "       <td>Skew:</td>       <td>0.651</td>      <td>Prob(JB):</td>       <td>0.000</td> \n",
       "</tr>\n",
       "<tr>\n",
       "     <td>Kurtosis:</td>     <td>2.346</td>   <td>Condition No.:</td>      <td>36</td>   \n",
       "</tr>\n",
       "</table>"
      ],
      "text/plain": [
       "<class 'statsmodels.iolib.summary2.Summary'>\n",
       "\"\"\"\n",
       "                                    Results: Ordinary least squares\n",
       "=======================================================================================================\n",
       "Model:                  OLS                                    Adj. R-squared (uncentered): 0.645      \n",
       "Dependent Variable:     Black-White Dissimilarity Index (2010) AIC:                         774706.9453\n",
       "Date:                   2020-11-16 20:31                       BIC:                         774725.4677\n",
       "No. Observations:       77748                                  Log-Likelihood:              -3.8735e+05\n",
       "Df Model:               2                                      F-statistic:                 7.062e+04  \n",
       "Df Residuals:           77746                                  Prob (F-statistic):          0.00       \n",
       "R-squared (uncentered): 0.645                                  Scale:                       1244.4     \n",
       "--------------------------------------------------------------------------------------------------------------\n",
       "                            Coef.         Std.Err.           t            P>|t|          [0.025         0.975]\n",
       "--------------------------------------------------------------------------------------------------------------\n",
       "#                           3.1268          0.0093        337.1340        0.0000         3.1086         3.1450\n",
       "is_jim_crow_state          45.0082          0.3283        137.0929        0.0000        44.3648        45.6517\n",
       "-------------------------------------------------------------------------------------------------------\n",
       "Omnibus:                          7901.686                  Durbin-Watson:                     0.093   \n",
       "Prob(Omnibus):                    0.000                     Jarque-Bera (JB):                  6881.886\n",
       "Skew:                             0.651                     Prob(JB):                          0.000   \n",
       "Kurtosis:                         2.346                     Condition No.:                     36      \n",
       "=======================================================================================================\n",
       "\n",
       "\"\"\""
      ]
     },
     "execution_count": 63,
     "metadata": {},
     "output_type": "execute_result"
    }
   ],
   "source": [
    "y = analysis_df_with_city_shootings['Black-White Dissimilarity Index (2010)']\n",
    "logit_covariates = [\n",
    "    '#',\n",
    "    'is_jim_crow_state',\n",
    "]\n",
    "X = analysis_df_with_city_shootings[logit_covariates]\n",
    "X = X.convert_objects(convert_numeric=True)\n",
    "y = y.convert_objects(convert_numeric=True)\n",
    "\n",
    "ols_model = sm.OLS(y.astype(float), X.astype(float))\n",
    "ols_result = ols_model.fit()\n",
    "ols_result.summary2()"
   ]
  },
  {
   "cell_type": "code",
   "execution_count": 64,
   "metadata": {},
   "outputs": [
    {
     "name": "stderr",
     "output_type": "stream",
     "text": [
      "/usr/local/lib/python3.7/site-packages/ipykernel_launcher.py:8: FutureWarning: convert_objects is deprecated.  To re-infer data dtypes for object columns, use DataFrame.infer_objects()\n",
      "For all other conversions use the data-type specific converters pd.to_datetime, pd.to_timedelta and pd.to_numeric.\n",
      "  \n",
      "/usr/local/lib/python3.7/site-packages/ipykernel_launcher.py:9: FutureWarning: convert_objects is deprecated.  To re-infer data dtypes for object columns, use Series.infer_objects()\n",
      "For all other conversions use the data-type specific converters pd.to_datetime, pd.to_timedelta and pd.to_numeric.\n",
      "  if __name__ == '__main__':\n"
     ]
    },
    {
     "data": {
      "text/html": [
       "<table class=\"simpletable\">\n",
       "<tr>\n",
       "          <td>Model:</td>                            <td>OLS</td>                  <td>Adj. R-squared (uncentered):</td>    <td>0.832</td>   \n",
       "</tr>\n",
       "<tr>\n",
       "    <td>Dependent Variable:</td>   <td>Black-White Dissimilarity Index (2010)</td>             <td>AIC:</td>             <td>716451.4719</td>\n",
       "</tr>\n",
       "<tr>\n",
       "           <td>Date:</td>                     <td>2020-11-16 20:31</td>                        <td>BIC:</td>             <td>716479.2556</td>\n",
       "</tr>\n",
       "<tr>\n",
       "     <td>No. Observations:</td>                     <td>77748</td>                        <td>Log-Likelihood:</td>       <td>-3.5822e+05</td>\n",
       "</tr>\n",
       "<tr>\n",
       "         <td>Df Model:</td>                           <td>3</td>                           <td>F-statistic:</td>          <td>1.285e+05</td> \n",
       "</tr>\n",
       "<tr>\n",
       "       <td>Df Residuals:</td>                       <td>77745</td>                      <td>Prob (F-statistic):</td>        <td>0.00</td>    \n",
       "</tr>\n",
       "<tr>\n",
       "  <td>R-squared (uncentered):</td>                  <td>0.832</td>                            <td>Scale:</td>              <td>588.24</td>   \n",
       "</tr>\n",
       "</table>\n",
       "<table class=\"simpletable\">\n",
       "<tr>\n",
       "          <td></td>           <th>Coef.</th>  <th>Std.Err.</th>     <th>t</th>     <th>P>|t|</th> <th>[0.025</th>  <th>0.975]</th> \n",
       "</tr>\n",
       "<tr>\n",
       "  <th>#</th>                 <td>0.9116</td>   <td>0.0099</td>   <td>92.4451</td> <td>0.0000</td> <td>0.8923</td>  <td>0.9309</td> \n",
       "</tr>\n",
       "<tr>\n",
       "  <th>is_jim_crow_state</th> <td>13.1118</td>  <td>0.2504</td>   <td>52.3717</td> <td>0.0000</td> <td>12.6211</td> <td>13.6025</td>\n",
       "</tr>\n",
       "<tr>\n",
       "  <th>median_income</th>     <td>6.3932</td>   <td>0.0217</td>  <td>294.4960</td> <td>0.0000</td> <td>6.3507</td>  <td>6.4358</td> \n",
       "</tr>\n",
       "</table>\n",
       "<table class=\"simpletable\">\n",
       "<tr>\n",
       "     <td>Omnibus:</td>    <td>3399.171</td>  <td>Durbin-Watson:</td>     <td>0.197</td> \n",
       "</tr>\n",
       "<tr>\n",
       "  <td>Prob(Omnibus):</td>   <td>0.000</td>  <td>Jarque-Bera (JB):</td> <td>3092.288</td>\n",
       "</tr>\n",
       "<tr>\n",
       "       <td>Skew:</td>      <td>-0.431</td>      <td>Prob(JB):</td>       <td>0.000</td> \n",
       "</tr>\n",
       "<tr>\n",
       "     <td>Kurtosis:</td>     <td>2.540</td>   <td>Condition No.:</td>      <td>42</td>   \n",
       "</tr>\n",
       "</table>"
      ],
      "text/plain": [
       "<class 'statsmodels.iolib.summary2.Summary'>\n",
       "\"\"\"\n",
       "                                    Results: Ordinary least squares\n",
       "=======================================================================================================\n",
       "Model:                  OLS                                    Adj. R-squared (uncentered): 0.832      \n",
       "Dependent Variable:     Black-White Dissimilarity Index (2010) AIC:                         716451.4719\n",
       "Date:                   2020-11-16 20:31                       BIC:                         716479.2556\n",
       "No. Observations:       77748                                  Log-Likelihood:              -3.5822e+05\n",
       "Df Model:               3                                      F-statistic:                 1.285e+05  \n",
       "Df Residuals:           77745                                  Prob (F-statistic):          0.00       \n",
       "R-squared (uncentered): 0.832                                  Scale:                       588.24     \n",
       "--------------------------------------------------------------------------------------------------------------\n",
       "                            Coef.         Std.Err.           t            P>|t|          [0.025         0.975]\n",
       "--------------------------------------------------------------------------------------------------------------\n",
       "#                           0.9116          0.0099         92.4451        0.0000         0.8923         0.9309\n",
       "is_jim_crow_state          13.1118          0.2504         52.3717        0.0000        12.6211        13.6025\n",
       "median_income               6.3932          0.0217        294.4960        0.0000         6.3507         6.4358\n",
       "-------------------------------------------------------------------------------------------------------\n",
       "Omnibus:                          3399.171                  Durbin-Watson:                     0.197   \n",
       "Prob(Omnibus):                    0.000                     Jarque-Bera (JB):                  3092.288\n",
       "Skew:                             -0.431                    Prob(JB):                          0.000   \n",
       "Kurtosis:                         2.540                     Condition No.:                     42      \n",
       "=======================================================================================================\n",
       "\n",
       "\"\"\""
      ]
     },
     "execution_count": 64,
     "metadata": {},
     "output_type": "execute_result"
    }
   ],
   "source": [
    "y = analysis_df_with_city_shootings['Black-White Dissimilarity Index (2010)']\n",
    "logit_covariates = [\n",
    "    '#',\n",
    "    'is_jim_crow_state',\n",
    "    'median_income',\n",
    "]\n",
    "X = analysis_df_with_city_shootings[logit_covariates]\n",
    "X = X.convert_objects(convert_numeric=True)\n",
    "y = y.convert_objects(convert_numeric=True)\n",
    "\n",
    "ols_model = sm.OLS(y.astype(float), X.astype(float))\n",
    "ols_result = ols_model.fit()\n",
    "ols_result.summary2()"
   ]
  },
  {
   "cell_type": "markdown",
   "metadata": {},
   "source": [
    "3. regress (minority%, # of sundown town, sundown county status, perc of poverty, jim crow state, median income) -> ratio of blacks / whites killings by police"
   ]
  },
  {
   "cell_type": "code",
   "execution_count": 83,
   "metadata": {},
   "outputs": [
    {
     "name": "stderr",
     "output_type": "stream",
     "text": [
      "/usr/local/lib/python3.7/site-packages/ipykernel_launcher.py:8: FutureWarning: convert_objects is deprecated.  To re-infer data dtypes for object columns, use DataFrame.infer_objects()\n",
      "For all other conversions use the data-type specific converters pd.to_datetime, pd.to_timedelta and pd.to_numeric.\n",
      "  \n",
      "/usr/local/lib/python3.7/site-packages/ipykernel_launcher.py:9: FutureWarning: convert_objects is deprecated.  To re-infer data dtypes for object columns, use Series.infer_objects()\n",
      "For all other conversions use the data-type specific converters pd.to_datetime, pd.to_timedelta and pd.to_numeric.\n",
      "  if __name__ == '__main__':\n"
     ]
    },
    {
     "data": {
      "text/html": [
       "<table class=\"simpletable\">\n",
       "<tr>\n",
       "          <td>Model:</td>                        <td>OLS</td>              <td>Adj. R-squared (uncentered):</td>    <td>0.401</td>  \n",
       "</tr>\n",
       "<tr>\n",
       "    <td>Dependent Variable:</td>   <td>black_to_white_shootings_ratio</td>             <td>AIC:</td>             <td>23613.3938</td>\n",
       "</tr>\n",
       "<tr>\n",
       "           <td>Date:</td>                 <td>2020-11-17 22:09</td>                    <td>BIC:</td>             <td>23641.1775</td>\n",
       "</tr>\n",
       "<tr>\n",
       "     <td>No. Observations:</td>                 <td>77748</td>                    <td>Log-Likelihood:</td>         <td>-11804.</td> \n",
       "</tr>\n",
       "<tr>\n",
       "         <td>Df Model:</td>                       <td>3</td>                       <td>F-statistic:</td>          <td>1.734e+04</td>\n",
       "</tr>\n",
       "<tr>\n",
       "       <td>Df Residuals:</td>                   <td>77745</td>                  <td>Prob (F-statistic):</td>        <td>0.00</td>   \n",
       "</tr>\n",
       "<tr>\n",
       "  <td>R-squared (uncentered):</td>              <td>0.401</td>                        <td>Scale:</td>             <td>0.079325</td> \n",
       "</tr>\n",
       "</table>\n",
       "<table class=\"simpletable\">\n",
       "<tr>\n",
       "          <td></td>           <th>Coef.</th>  <th>Std.Err.</th>     <th>t</th>     <th>P>|t|</th> <th>[0.025</th>  <th>0.975]</th> \n",
       "</tr>\n",
       "<tr>\n",
       "  <th>perc_minority</th>     <td>0.7332</td>   <td>0.0057</td>  <td>127.6636</td> <td>0.0000</td> <td>0.7219</td>  <td>0.7444</td> \n",
       "</tr>\n",
       "<tr>\n",
       "  <th>#</th>                 <td>-0.0011</td>  <td>0.0001</td>   <td>-9.7739</td> <td>0.0000</td> <td>-0.0013</td> <td>-0.0009</td>\n",
       "</tr>\n",
       "<tr>\n",
       "  <th>is_jim_crow_state</th> <td>0.1700</td>   <td>0.0029</td>   <td>58.6934</td> <td>0.0000</td> <td>0.1643</td>  <td>0.1757</td> \n",
       "</tr>\n",
       "</table>\n",
       "<table class=\"simpletable\">\n",
       "<tr>\n",
       "     <td>Omnibus:</td>    <td>53585.664</td>  <td>Durbin-Watson:</td>      <td>0.055</td>  \n",
       "</tr>\n",
       "<tr>\n",
       "  <td>Prob(Omnibus):</td>   <td>0.000</td>   <td>Jarque-Bera (JB):</td> <td>797937.542</td>\n",
       "</tr>\n",
       "<tr>\n",
       "       <td>Skew:</td>       <td>3.210</td>       <td>Prob(JB):</td>        <td>0.000</td>  \n",
       "</tr>\n",
       "<tr>\n",
       "     <td>Kurtosis:</td>    <td>17.321</td>    <td>Condition No.:</td>       <td>80</td>    \n",
       "</tr>\n",
       "</table>"
      ],
      "text/plain": [
       "<class 'statsmodels.iolib.summary2.Summary'>\n",
       "\"\"\"\n",
       "                               Results: Ordinary least squares\n",
       "==============================================================================================\n",
       "Model:                  OLS                            Adj. R-squared (uncentered): 0.401     \n",
       "Dependent Variable:     black_to_white_shootings_ratio AIC:                         23613.3938\n",
       "Date:                   2020-11-17 22:09               BIC:                         23641.1775\n",
       "No. Observations:       77748                          Log-Likelihood:              -11804.   \n",
       "Df Model:               3                              F-statistic:                 1.734e+04 \n",
       "Df Residuals:           77745                          Prob (F-statistic):          0.00      \n",
       "R-squared (uncentered): 0.401                          Scale:                       0.079325  \n",
       "---------------------------------------------------------------------------------------------------\n",
       "                           Coef.       Std.Err.         t          P>|t|        [0.025       0.975]\n",
       "---------------------------------------------------------------------------------------------------\n",
       "perc_minority              0.7332        0.0057      127.6636      0.0000       0.7219       0.7444\n",
       "#                         -0.0011        0.0001       -9.7739      0.0000      -0.0013      -0.0009\n",
       "is_jim_crow_state          0.1700        0.0029       58.6934      0.0000       0.1643       0.1757\n",
       "----------------------------------------------------------------------------------------------\n",
       "Omnibus:                      53585.664              Durbin-Watson:                 0.055     \n",
       "Prob(Omnibus):                0.000                  Jarque-Bera (JB):              797937.542\n",
       "Skew:                         3.210                  Prob(JB):                      0.000     \n",
       "Kurtosis:                     17.321                 Condition No.:                 80        \n",
       "==============================================================================================\n",
       "\n",
       "\"\"\""
      ]
     },
     "execution_count": 83,
     "metadata": {},
     "output_type": "execute_result"
    }
   ],
   "source": [
    "y = analysis_df_with_city_shootings['black_to_white_shootings_ratio']\n",
    "logit_covariates = [\n",
    "    'perc_minority',\n",
    "    '#',\n",
    "    'is_jim_crow_state',\n",
    "]\n",
    "X = analysis_df_with_city_shootings[logit_covariates]\n",
    "X = X.convert_objects(convert_numeric=True)\n",
    "y = y.convert_objects(convert_numeric=True)\n",
    "\n",
    "ols_model = sm.OLS(y.astype(float), X.astype(float))\n",
    "ols_result = ols_model.fit()\n",
    "ols_result.summary2()"
   ]
  },
  {
   "cell_type": "markdown",
   "metadata": {},
   "source": [
    "4. Add interaction term: white_perc * diss_index"
   ]
  },
  {
   "cell_type": "code",
   "execution_count": 84,
   "metadata": {},
   "outputs": [
    {
     "name": "stderr",
     "output_type": "stream",
     "text": [
      "/usr/local/lib/python3.7/site-packages/ipykernel_launcher.py:10: FutureWarning: convert_objects is deprecated.  To re-infer data dtypes for object columns, use DataFrame.infer_objects()\n",
      "For all other conversions use the data-type specific converters pd.to_datetime, pd.to_timedelta and pd.to_numeric.\n",
      "  # Remove the CWD from sys.path while we load stuff.\n",
      "/usr/local/lib/python3.7/site-packages/ipykernel_launcher.py:11: FutureWarning: convert_objects is deprecated.  To re-infer data dtypes for object columns, use Series.infer_objects()\n",
      "For all other conversions use the data-type specific converters pd.to_datetime, pd.to_timedelta and pd.to_numeric.\n",
      "  # This is added back by InteractiveShellApp.init_path()\n"
     ]
    },
    {
     "data": {
      "text/html": [
       "<table class=\"simpletable\">\n",
       "<tr>\n",
       "          <td>Model:</td>                        <td>OLS</td>              <td>Adj. R-squared (uncentered):</td>    <td>0.474</td>  \n",
       "</tr>\n",
       "<tr>\n",
       "    <td>Dependent Variable:</td>   <td>black_to_white_shootings_ratio</td>             <td>AIC:</td>             <td>13506.4969</td>\n",
       "</tr>\n",
       "<tr>\n",
       "           <td>Date:</td>                 <td>2020-11-17 22:09</td>                    <td>BIC:</td>             <td>13552.8030</td>\n",
       "</tr>\n",
       "<tr>\n",
       "     <td>No. Observations:</td>                 <td>77748</td>                    <td>Log-Likelihood:</td>         <td>-6748.2</td> \n",
       "</tr>\n",
       "<tr>\n",
       "         <td>Df Model:</td>                       <td>5</td>                       <td>F-statistic:</td>          <td>1.401e+04</td>\n",
       "</tr>\n",
       "<tr>\n",
       "       <td>Df Residuals:</td>                   <td>77743</td>                  <td>Prob (F-statistic):</td>        <td>0.00</td>   \n",
       "</tr>\n",
       "<tr>\n",
       "  <td>R-squared (uncentered):</td>              <td>0.474</td>                        <td>Scale:</td>             <td>0.069654</td> \n",
       "</tr>\n",
       "</table>\n",
       "<table class=\"simpletable\">\n",
       "<tr>\n",
       "                     <td></td>                     <th>Coef.</th>  <th>Std.Err.</th>     <th>t</th>     <th>P>|t|</th> <th>[0.025</th>  <th>0.975]</th> \n",
       "</tr>\n",
       "<tr>\n",
       "  <th>perc_minority</th>                          <td>-0.1627</td>  <td>0.0117</td>  <td>-13.8928</td> <td>0.0000</td> <td>-0.1857</td> <td>-0.1398</td>\n",
       "</tr>\n",
       "<tr>\n",
       "  <th>median_income</th>                          <td>0.0373</td>   <td>0.0004</td>   <td>95.3097</td> <td>0.0000</td> <td>0.0365</td>  <td>0.0380</td> \n",
       "</tr>\n",
       "<tr>\n",
       "  <th>#</th>                                      <td>-0.0049</td>  <td>0.0001</td>  <td>-43.6769</td> <td>0.0000</td> <td>-0.0052</td> <td>-0.0047</td>\n",
       "</tr>\n",
       "<tr>\n",
       "  <th>is_jim_crow_state</th>                      <td>0.1170</td>   <td>0.0028</td>   <td>42.2055</td> <td>0.0000</td> <td>0.1116</td>  <td>0.1224</td> \n",
       "</tr>\n",
       "<tr>\n",
       "  <th>Black-White Dissimilarity Index (2010)</th> <td>0.0013</td>   <td>0.0001</td>   <td>25.2715</td> <td>0.0000</td> <td>0.0012</td>  <td>0.0014</td> \n",
       "</tr>\n",
       "</table>\n",
       "<table class=\"simpletable\">\n",
       "<tr>\n",
       "     <td>Omnibus:</td>    <td>52326.307</td>  <td>Durbin-Watson:</td>      <td>0.055</td>  \n",
       "</tr>\n",
       "<tr>\n",
       "  <td>Prob(Omnibus):</td>   <td>0.000</td>   <td>Jarque-Bera (JB):</td> <td>734111.962</td>\n",
       "</tr>\n",
       "<tr>\n",
       "       <td>Skew:</td>       <td>3.127</td>       <td>Prob(JB):</td>        <td>0.000</td>  \n",
       "</tr>\n",
       "<tr>\n",
       "     <td>Kurtosis:</td>    <td>16.693</td>    <td>Condition No.:</td>       <td>747</td>   \n",
       "</tr>\n",
       "</table>"
      ],
      "text/plain": [
       "<class 'statsmodels.iolib.summary2.Summary'>\n",
       "\"\"\"\n",
       "                               Results: Ordinary least squares\n",
       "==============================================================================================\n",
       "Model:                  OLS                            Adj. R-squared (uncentered): 0.474     \n",
       "Dependent Variable:     black_to_white_shootings_ratio AIC:                         13506.4969\n",
       "Date:                   2020-11-17 22:09               BIC:                         13552.8030\n",
       "No. Observations:       77748                          Log-Likelihood:              -6748.2   \n",
       "Df Model:               5                              F-statistic:                 1.401e+04 \n",
       "Df Residuals:           77743                          Prob (F-statistic):          0.00      \n",
       "R-squared (uncentered): 0.474                          Scale:                       0.069654  \n",
       "-----------------------------------------------------------------------------------------------\n",
       "                                           Coef.   Std.Err.     t      P>|t|    [0.025   0.975]\n",
       "-----------------------------------------------------------------------------------------------\n",
       "perc_minority                             -0.1627    0.0117  -13.8928  0.0000  -0.1857  -0.1398\n",
       "median_income                              0.0373    0.0004   95.3097  0.0000   0.0365   0.0380\n",
       "#                                         -0.0049    0.0001  -43.6769  0.0000  -0.0052  -0.0047\n",
       "is_jim_crow_state                          0.1170    0.0028   42.2055  0.0000   0.1116   0.1224\n",
       "Black-White Dissimilarity Index (2010)     0.0013    0.0001   25.2715  0.0000   0.0012   0.0014\n",
       "----------------------------------------------------------------------------------------------\n",
       "Omnibus:                      52326.307              Durbin-Watson:                 0.055     \n",
       "Prob(Omnibus):                0.000                  Jarque-Bera (JB):              734111.962\n",
       "Skew:                         3.127                  Prob(JB):                      0.000     \n",
       "Kurtosis:                     16.693                 Condition No.:                 747       \n",
       "==============================================================================================\n",
       "\n",
       "\"\"\""
      ]
     },
     "execution_count": 84,
     "metadata": {},
     "output_type": "execute_result"
    }
   ],
   "source": [
    "y = analysis_df_with_city_shootings['black_to_white_shootings_ratio']\n",
    "logit_covariates = [\n",
    "    'perc_minority',\n",
    "    'median_income',\n",
    "    '#',\n",
    "    'is_jim_crow_state',\n",
    "    'Black-White Dissimilarity Index (2010)',\n",
    "]\n",
    "X = analysis_df_with_city_shootings[logit_covariates]\n",
    "X = X.convert_objects(convert_numeric=True)\n",
    "y = y.convert_objects(convert_numeric=True)\n",
    "\n",
    "ols_model = sm.OLS(y.astype(float), X.astype(float))\n",
    "ols_result = ols_model.fit()\n",
    "ols_result.summary2()"
   ]
  },
  {
   "cell_type": "markdown",
   "metadata": {},
   "source": [
    "5. Regression with JIM + Sundown towns + **percentage white+ Black White Dissimilarity Index (2010) → Racism index (2013-2017) in state racism index 2013-2017 file"
   ]
  },
  {
   "cell_type": "code",
   "execution_count": 77,
   "metadata": {},
   "outputs": [
    {
     "name": "stderr",
     "output_type": "stream",
     "text": [
      "/usr/local/lib/python3.7/site-packages/ipykernel_launcher.py:9: FutureWarning: convert_objects is deprecated.  To re-infer data dtypes for object columns, use DataFrame.infer_objects()\n",
      "For all other conversions use the data-type specific converters pd.to_datetime, pd.to_timedelta and pd.to_numeric.\n",
      "  if __name__ == '__main__':\n",
      "/usr/local/lib/python3.7/site-packages/ipykernel_launcher.py:10: FutureWarning: convert_objects is deprecated.  To re-infer data dtypes for object columns, use Series.infer_objects()\n",
      "For all other conversions use the data-type specific converters pd.to_datetime, pd.to_timedelta and pd.to_numeric.\n",
      "  # Remove the CWD from sys.path while we load stuff.\n"
     ]
    },
    {
     "data": {
      "text/html": [
       "<table class=\"simpletable\">\n",
       "<tr>\n",
       "          <td>Model:</td>                 <td>OLS</td>       <td>Adj. R-squared (uncentered):</td>    <td>0.956</td>   \n",
       "</tr>\n",
       "<tr>\n",
       "    <td>Dependent Variable:</td>     <td>racism_index</td>               <td>AIC:</td>             <td>604150.6515</td>\n",
       "</tr>\n",
       "<tr>\n",
       "           <td>Date:</td>          <td>2020-11-16 20:39</td>             <td>BIC:</td>             <td>604187.6964</td>\n",
       "</tr>\n",
       "<tr>\n",
       "     <td>No. Observations:</td>          <td>77748</td>             <td>Log-Likelihood:</td>       <td>-3.0207e+05</td>\n",
       "</tr>\n",
       "<tr>\n",
       "         <td>Df Model:</td>                <td>4</td>                <td>F-statistic:</td>          <td>4.268e+05</td> \n",
       "</tr>\n",
       "<tr>\n",
       "       <td>Df Residuals:</td>            <td>77744</td>           <td>Prob (F-statistic):</td>        <td>0.00</td>    \n",
       "</tr>\n",
       "<tr>\n",
       "  <td>R-squared (uncentered):</td>       <td>0.956</td>                 <td>Scale:</td>              <td>138.75</td>   \n",
       "</tr>\n",
       "</table>\n",
       "<table class=\"simpletable\">\n",
       "<tr>\n",
       "          <td></td>           <th>Coef.</th>  <th>Std.Err.</th>     <th>t</th>     <th>P>|t|</th> <th>[0.025</th>  <th>0.975]</th> \n",
       "</tr>\n",
       "<tr>\n",
       "  <th>perc_minority</th>     <td>56.5522</td>  <td>0.3922</td>  <td>144.1812</td> <td>0.0000</td> <td>55.7834</td> <td>57.3209</td>\n",
       "</tr>\n",
       "<tr>\n",
       "  <th>median_income</th>     <td>5.5358</td>   <td>0.0172</td>  <td>321.5183</td> <td>0.0000</td> <td>5.5020</td>  <td>5.5695</td> \n",
       "</tr>\n",
       "<tr>\n",
       "  <th>#</th>                 <td>0.4037</td>   <td>0.0049</td>   <td>82.3186</td> <td>0.0000</td> <td>0.3941</td>  <td>0.4133</td> \n",
       "</tr>\n",
       "<tr>\n",
       "  <th>is_jim_crow_state</th> <td>-7.7471</td>  <td>0.1227</td>  <td>-63.1554</td> <td>0.0000</td> <td>-7.9875</td> <td>-7.5067</td>\n",
       "</tr>\n",
       "</table>\n",
       "<table class=\"simpletable\">\n",
       "<tr>\n",
       "     <td>Omnibus:</td>    <td>965.406</td>  <td>Durbin-Watson:</td>     <td>0.008</td> \n",
       "</tr>\n",
       "<tr>\n",
       "  <td>Prob(Omnibus):</td>  <td>0.000</td>  <td>Jarque-Bera (JB):</td> <td>1515.343</td>\n",
       "</tr>\n",
       "<tr>\n",
       "       <td>Skew:</td>      <td>0.120</td>      <td>Prob(JB):</td>       <td>0.000</td> \n",
       "</tr>\n",
       "<tr>\n",
       "     <td>Kurtosis:</td>    <td>3.640</td>   <td>Condition No.:</td>      <td>136</td>  \n",
       "</tr>\n",
       "</table>"
      ],
      "text/plain": [
       "<class 'statsmodels.iolib.summary2.Summary'>\n",
       "\"\"\"\n",
       "                         Results: Ordinary least squares\n",
       "=================================================================================\n",
       "Model:                  OLS              Adj. R-squared (uncentered): 0.956      \n",
       "Dependent Variable:     racism_index     AIC:                         604150.6515\n",
       "Date:                   2020-11-16 20:39 BIC:                         604187.6964\n",
       "No. Observations:       77748            Log-Likelihood:              -3.0207e+05\n",
       "Df Model:               4                F-statistic:                 4.268e+05  \n",
       "Df Residuals:           77744            Prob (F-statistic):          0.00       \n",
       "R-squared (uncentered): 0.956            Scale:                       138.75     \n",
       "------------------------------------------------------------------------------------\n",
       "                      Coef.     Std.Err.       t        P>|t|      [0.025     0.975]\n",
       "------------------------------------------------------------------------------------\n",
       "perc_minority        56.5522      0.3922    144.1812    0.0000    55.7834    57.3209\n",
       "median_income         5.5358      0.0172    321.5183    0.0000     5.5020     5.5695\n",
       "#                     0.4037      0.0049     82.3186    0.0000     0.3941     0.4133\n",
       "is_jim_crow_state    -7.7471      0.1227    -63.1554    0.0000    -7.9875    -7.5067\n",
       "---------------------------------------------------------------------------------\n",
       "Omnibus:                   965.406           Durbin-Watson:              0.008   \n",
       "Prob(Omnibus):             0.000             Jarque-Bera (JB):           1515.343\n",
       "Skew:                      0.120             Prob(JB):                   0.000   \n",
       "Kurtosis:                  3.640             Condition No.:              136     \n",
       "=================================================================================\n",
       "\n",
       "\"\"\""
      ]
     },
     "execution_count": 77,
     "metadata": {},
     "output_type": "execute_result"
    }
   ],
   "source": [
    "y = analysis_df_with_city_shootings['racism_index']\n",
    "logit_covariates = [\n",
    "    'perc_minority',\n",
    "    'median_income',\n",
    "    '#',\n",
    "    'is_jim_crow_state',\n",
    "]\n",
    "X = analysis_df_with_city_shootings[logit_covariates]\n",
    "X = X.convert_objects(convert_numeric=True)\n",
    "y = y.convert_objects(convert_numeric=True)\n",
    "\n",
    "ols_model = sm.OLS(y.astype(float), X.astype(float))\n",
    "ols_result = ols_model.fit()\n",
    "ols_result.summary2()"
   ]
  },
  {
   "cell_type": "code",
   "execution_count": null,
   "metadata": {},
   "outputs": [],
   "source": []
  }
 ],
 "metadata": {
  "kernelspec": {
   "display_name": "venv",
   "language": "python",
   "name": "venv"
  },
  "language_info": {
   "codemirror_mode": {
    "name": "ipython",
    "version": 3
   },
   "file_extension": ".py",
   "mimetype": "text/x-python",
   "name": "python",
   "nbconvert_exporter": "python",
   "pygments_lexer": "ipython3",
   "version": "3.7.7"
  }
 },
 "nbformat": 4,
 "nbformat_minor": 4
}
