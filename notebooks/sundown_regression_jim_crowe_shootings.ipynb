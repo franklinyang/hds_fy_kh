{
 "cells": [
  {
   "cell_type": "code",
   "execution_count": 188,
   "metadata": {},
   "outputs": [],
   "source": [
    "import statsmodels.api as sm\n",
    "import statsmodels.formula.api as smf\n",
    "import pandas as pd\n",
    "import numpy as np\n",
    "import os\n",
    "import csv"
   ]
  },
  {
   "cell_type": "code",
   "execution_count": 189,
   "metadata": {},
   "outputs": [
    {
     "name": "stderr",
     "output_type": "stream",
     "text": [
      "/usr/local/lib/python3.7/site-packages/IPython/core/interactiveshell.py:3049: DtypeWarning: Columns (9,11) have mixed types. Specify dtype option on import or set low_memory=False.\n",
      "  interactivity=interactivity, compiler=compiler, result=result)\n"
     ]
    }
   ],
   "source": [
    "mortality_with_sundown_census_poverty = pd.read_csv('../data/mortality_with_sundown_census_poverty.csv')"
   ]
  },
  {
   "cell_type": "code",
   "execution_count": 190,
   "metadata": {},
   "outputs": [],
   "source": [
    "mortality_with_sundown_census_poverty = mortality_with_sundown_census_poverty.rename(\n",
    "    columns={\n",
    "        'All Ages in Poverty Percent': 'perc_poverty',\n",
    "        'Median Household Income in Dollars': 'median_income_str'\n",
    "    })"
   ]
  },
  {
   "cell_type": "code",
   "execution_count": 191,
   "metadata": {},
   "outputs": [],
   "source": [
    "df_sundown = pd.read_csv('../data/sundown_with_counties.csv')\n",
    "analysis_df = pd.merge(mortality_with_sundown_census_poverty, df_sundown, how='left', left_on='County', right_on=\"county\")"
   ]
  },
  {
   "cell_type": "code",
   "execution_count": 192,
   "metadata": {},
   "outputs": [],
   "source": [
    "# pull out state\n",
    "analysis_df['state'] = analysis_df.County.apply(lambda x: x.split(', ')[1])"
   ]
  },
  {
   "cell_type": "code",
   "execution_count": 193,
   "metadata": {},
   "outputs": [],
   "source": [
    "# merge in state shootings data\n",
    "state_shootings = pd.read_csv('../data/police-killings-state.csv')\n",
    "analysis_df = pd.merge(analysis_df, state_shootings, left_on='state', right_on='State Abbreviation', how='left')"
   ]
  },
  {
   "cell_type": "code",
   "execution_count": 194,
   "metadata": {},
   "outputs": [],
   "source": [
    "# layer in jim crow states\n",
    "jim_crow_states = [\n",
    "    'TX', 'OK', 'MO', 'AR', 'LA', 'KY', 'WV', 'MD', 'VA', 'TN', 'NC', 'MS', 'AL', 'GA', 'SC', 'FL'\n",
    "]\n",
    "analysis_df['is_jim_crow_state'] = analysis_df.state.apply(lambda x: x in jim_crow_states)"
   ]
  },
  {
   "cell_type": "code",
   "execution_count": 195,
   "metadata": {},
   "outputs": [],
   "source": [
    "# layer in state racism index\n",
    "racism_index = pd.read_csv('../data/racism_index.csv')\n",
    "analysis_df = pd.merge(analysis_df, racism_index, left_on='state', right_on='state_abbr', how='left')"
   ]
  },
  {
   "cell_type": "code",
   "execution_count": 196,
   "metadata": {},
   "outputs": [],
   "source": [
    "# Merge in city shootings df\n",
    "city_shootings = pd.read_csv('../data/police-killings-city.csv')\n",
    "analysis_df = pd.merge(analysis_df, city_shootings, left_on='County', right_on='county', how='left')"
   ]
  },
  {
   "cell_type": "code",
   "execution_count": 200,
   "metadata": {},
   "outputs": [
    {
     "name": "stderr",
     "output_type": "stream",
     "text": [
      "/usr/local/lib/python3.7/site-packages/ipykernel_launcher.py:3: SettingWithCopyWarning: \n",
      "A value is trying to be set on a copy of a slice from a DataFrame.\n",
      "Try using .loc[row_indexer,col_indexer] = value instead\n",
      "\n",
      "See the caveats in the documentation: http://pandas.pydata.org/pandas-docs/stable/indexing.html#indexing-view-versus-copy\n",
      "  This is separate from the ipykernel package so we can avoid doing imports until\n",
      "/usr/local/lib/python3.7/site-packages/ipykernel_launcher.py:4: SettingWithCopyWarning: \n",
      "A value is trying to be set on a copy of a slice from a DataFrame.\n",
      "Try using .loc[row_indexer,col_indexer] = value instead\n",
      "\n",
      "See the caveats in the documentation: http://pandas.pydata.org/pandas-docs/stable/indexing.html#indexing-view-versus-copy\n",
      "  after removing the cwd from sys.path.\n",
      "/usr/local/lib/python3.7/site-packages/ipykernel_launcher.py:5: SettingWithCopyWarning: \n",
      "A value is trying to be set on a copy of a slice from a DataFrame.\n",
      "Try using .loc[row_indexer,col_indexer] = value instead\n",
      "\n",
      "See the caveats in the documentation: http://pandas.pydata.org/pandas-docs/stable/indexing.html#indexing-view-versus-copy\n",
      "  \"\"\"\n",
      "/usr/local/lib/python3.7/site-packages/ipykernel_launcher.py:6: SettingWithCopyWarning: \n",
      "A value is trying to be set on a copy of a slice from a DataFrame.\n",
      "Try using .loc[row_indexer,col_indexer] = value instead\n",
      "\n",
      "See the caveats in the documentation: http://pandas.pydata.org/pandas-docs/stable/indexing.html#indexing-view-versus-copy\n",
      "  \n"
     ]
    }
   ],
   "source": [
    "analysis_df_with_city_shootings = analysis_df.dropna(subset=['Killings by Police per 10k Arrests'])\n",
    "\n",
    "analysis_df_with_city_shootings['killings_per_10k'] = analysis_df_with_city_shootings['Killings by Police per 10k Arrests']\n",
    "analysis_df_with_city_shootings['diss_index'] = analysis_df_with_city_shootings['Black-White Dissimilarity Index (2010)']\n",
    "analysis_df_with_city_shootings['num_sundown_towns'] = analysis_df_with_city_shootings['#']\n",
    "analysis_df_with_city_shootings['perc_white'] = 1 - analysis_df_with_city_shootings['perc_minority']"
   ]
  },
  {
   "cell_type": "code",
   "execution_count": 201,
   "metadata": {},
   "outputs": [],
   "source": [
    "analysis_df['median_income'] = analysis_df.median_income_str.apply(lambda x: x.replace('$', '').replace(',', ''))"
   ]
  },
  {
   "cell_type": "markdown",
   "metadata": {},
   "source": [
    "# Analysis using full dataframe (full analysis_df)"
   ]
  },
  {
   "cell_type": "code",
   "execution_count": 202,
   "metadata": {},
   "outputs": [
    {
     "name": "stderr",
     "output_type": "stream",
     "text": [
      "/usr/local/lib/python3.7/site-packages/ipykernel_launcher.py:13: FutureWarning: convert_objects is deprecated.  To re-infer data dtypes for object columns, use DataFrame.infer_objects()\n",
      "For all other conversions use the data-type specific converters pd.to_datetime, pd.to_timedelta and pd.to_numeric.\n",
      "  del sys.path[0]\n",
      "/usr/local/lib/python3.7/site-packages/ipykernel_launcher.py:14: FutureWarning: convert_objects is deprecated.  To re-infer data dtypes for object columns, use Series.infer_objects()\n",
      "For all other conversions use the data-type specific converters pd.to_datetime, pd.to_timedelta and pd.to_numeric.\n",
      "  \n"
     ]
    }
   ],
   "source": [
    "# analysis using full dataframe\n",
    "\n",
    "y = analysis_df['Death_Population_Ratio']\n",
    "logit_covariates = [\n",
    "    'perc_minority',\n",
    "#     '#',\n",
    "    'is_sundown_county',\n",
    "    'perc_poverty',\n",
    "    'is_jim_crow_state',\n",
    "    'median_income',\n",
    "]\n",
    "X = analysis_df[logit_covariates]\n",
    "X = X.convert_objects(convert_numeric=True)\n",
    "y = y.convert_objects(convert_numeric=True)"
   ]
  },
  {
   "cell_type": "code",
   "execution_count": 128,
   "metadata": {},
   "outputs": [
    {
     "name": "stdout",
     "output_type": "stream",
     "text": [
      "Optimization terminated successfully.\n",
      "         Current function value: 0.014561\n",
      "         Iterations 9\n"
     ]
    }
   ],
   "source": [
    "logit_model = sm.Logit(y.astype(float), X.astype(float))\n",
    "result = logit_model.fit()"
   ]
  },
  {
   "cell_type": "code",
   "execution_count": 129,
   "metadata": {},
   "outputs": [
    {
     "name": "stderr",
     "output_type": "stream",
     "text": [
      "/usr/local/lib/python3.7/site-packages/statsmodels/discrete/discrete_model.py:3390: RuntimeWarning: divide by zero encountered in double_scalars\n",
      "  return 1 - self.llf/self.llnull\n"
     ]
    },
    {
     "data": {
      "text/html": [
       "<table class=\"simpletable\">\n",
       "<tr>\n",
       "        <td>Model:</td>                 <td>Logit</td>         <td>Pseudo R-squared:</td>     <td>inf</td>   \n",
       "</tr>\n",
       "<tr>\n",
       "  <td>Dependent Variable:</td> <td>Death_Population_Ratio</td>       <td>AIC:</td>        <td>11490.5376</td>\n",
       "</tr>\n",
       "<tr>\n",
       "         <td>Date:</td>           <td>2020-11-07 19:40</td>          <td>BIC:</td>        <td>11544.9608</td>\n",
       "</tr>\n",
       "<tr>\n",
       "   <td>No. Observations:</td>          <td>394212</td>          <td>Log-Likelihood:</td>    <td>-5740.3</td> \n",
       "</tr>\n",
       "<tr>\n",
       "       <td>Df Model:</td>                 <td>4</td>               <td>LL-Null:</td>        <td>0.0000</td>  \n",
       "</tr>\n",
       "<tr>\n",
       "     <td>Df Residuals:</td>            <td>394207</td>           <td>LLR p-value:</td>      <td>1.0000</td>  \n",
       "</tr>\n",
       "<tr>\n",
       "      <td>Converged:</td>              <td>1.0000</td>              <td>Scale:</td>         <td>1.0000</td>  \n",
       "</tr>\n",
       "<tr>\n",
       "    <td>No. Iterations:</td>           <td>9.0000</td>                 <td></td>               <td></td>     \n",
       "</tr>\n",
       "</table>\n",
       "<table class=\"simpletable\">\n",
       "<tr>\n",
       "          <td></td>           <th>Coef.</th>  <th>Std.Err.</th>     <th>z</th>     <th>P>|z|</th> <th>[0.025</th>  <th>0.975]</th> \n",
       "</tr>\n",
       "<tr>\n",
       "  <th>perc_minority</th>     <td>1.0910</td>   <td>0.1065</td>   <td>10.2403</td> <td>0.0000</td> <td>0.8822</td>  <td>1.2998</td> \n",
       "</tr>\n",
       "<tr>\n",
       "  <th>is_sundown_county</th> <td>-0.0942</td>  <td>0.0375</td>   <td>-2.5155</td> <td>0.0119</td> <td>-0.1676</td> <td>-0.0208</td>\n",
       "</tr>\n",
       "<tr>\n",
       "  <th>perc_poverty</th>      <td>-0.1117</td>  <td>0.0025</td>  <td>-43.8483</td> <td>0.0000</td> <td>-0.1167</td> <td>-0.1067</td>\n",
       "</tr>\n",
       "<tr>\n",
       "  <th>is_jim_crow_state</th> <td>-0.2980</td>  <td>0.0375</td>   <td>-7.9431</td> <td>0.0000</td> <td>-0.3715</td> <td>-0.2245</td>\n",
       "</tr>\n",
       "<tr>\n",
       "  <th>median_income</th>     <td>-0.0000</td>  <td>0.0000</td>  <td>-78.6454</td> <td>0.0000</td> <td>-0.0000</td> <td>-0.0000</td>\n",
       "</tr>\n",
       "</table>"
      ],
      "text/plain": [
       "<class 'statsmodels.iolib.summary2.Summary'>\n",
       "\"\"\"\n",
       "                            Results: Logit\n",
       "=======================================================================\n",
       "Model:              Logit                  Pseudo R-squared: inf       \n",
       "Dependent Variable: Death_Population_Ratio AIC:              11490.5376\n",
       "Date:               2020-11-07 19:40       BIC:              11544.9608\n",
       "No. Observations:   394212                 Log-Likelihood:   -5740.3   \n",
       "Df Model:           4                      LL-Null:          0.0000    \n",
       "Df Residuals:       394207                 LLR p-value:      1.0000    \n",
       "Converged:          1.0000                 Scale:            1.0000    \n",
       "No. Iterations:     9.0000                                             \n",
       "------------------------------------------------------------------------\n",
       "                    Coef.   Std.Err.     z      P>|z|    [0.025   0.975]\n",
       "------------------------------------------------------------------------\n",
       "perc_minority       1.0910    0.1065   10.2403  0.0000   0.8822   1.2998\n",
       "is_sundown_county  -0.0942    0.0375   -2.5155  0.0119  -0.1676  -0.0208\n",
       "perc_poverty       -0.1117    0.0025  -43.8483  0.0000  -0.1167  -0.1067\n",
       "is_jim_crow_state  -0.2980    0.0375   -7.9431  0.0000  -0.3715  -0.2245\n",
       "median_income      -0.0000    0.0000  -78.6454  0.0000  -0.0000  -0.0000\n",
       "=======================================================================\n",
       "\n",
       "\"\"\""
      ]
     },
     "execution_count": 129,
     "metadata": {},
     "output_type": "execute_result"
    }
   ],
   "source": [
    "result.summary2()"
   ]
  },
  {
   "cell_type": "markdown",
   "metadata": {},
   "source": [
    "# Analysis using just cities we have shootings data for"
   ]
  },
  {
   "cell_type": "markdown",
   "metadata": {},
   "source": [
    "1. regress (minority%, # of sundown town, sundown county status, perc of poverty, jim crow state, median income) -> killings by police"
   ]
  },
  {
   "cell_type": "code",
   "execution_count": 178,
   "metadata": {},
   "outputs": [
    {
     "name": "stderr",
     "output_type": "stream",
     "text": [
      "/usr/local/lib/python3.7/site-packages/ipykernel_launcher.py:11: FutureWarning: convert_objects is deprecated.  To re-infer data dtypes for object columns, use DataFrame.infer_objects()\n",
      "For all other conversions use the data-type specific converters pd.to_datetime, pd.to_timedelta and pd.to_numeric.\n",
      "  # This is added back by InteractiveShellApp.init_path()\n",
      "/usr/local/lib/python3.7/site-packages/ipykernel_launcher.py:12: FutureWarning: convert_objects is deprecated.  To re-infer data dtypes for object columns, use Series.infer_objects()\n",
      "For all other conversions use the data-type specific converters pd.to_datetime, pd.to_timedelta and pd.to_numeric.\n",
      "  if sys.path[0] == '':\n"
     ]
    }
   ],
   "source": [
    "y = analysis_df_with_city_shootings['killings_per_10k']\n",
    "logit_covariates = [\n",
    "    'perc_minority',\n",
    "    '#',\n",
    "    'is_sundown_county',\n",
    "    'perc_poverty',\n",
    "    'is_jim_crow_state',\n",
    "    'median_income',\n",
    "]\n",
    "X = analysis_df_with_city_shootings[logit_covariates]\n",
    "X = X.convert_objects(convert_numeric=True)\n",
    "y = y.convert_objects(convert_numeric=True)"
   ]
  },
  {
   "cell_type": "code",
   "execution_count": 179,
   "metadata": {},
   "outputs": [],
   "source": [
    "ols_model = sm.OLS(y.astype(float), X.astype(float))\n",
    "ols_result = ols_model.fit()"
   ]
  },
  {
   "cell_type": "code",
   "execution_count": 180,
   "metadata": {},
   "outputs": [
    {
     "data": {
      "text/html": [
       "<table class=\"simpletable\">\n",
       "<tr>\n",
       "          <td>Model:</td>                 <td>OLS</td>       <td>Adj. R-squared (uncentered):</td>    <td>0.809</td>   \n",
       "</tr>\n",
       "<tr>\n",
       "    <td>Dependent Variable:</td>   <td>killings_per_10k</td>             <td>AIC:</td>             <td>592561.2394</td>\n",
       "</tr>\n",
       "<tr>\n",
       "           <td>Date:</td>          <td>2020-11-07 20:14</td>             <td>BIC:</td>             <td>592617.6736</td>\n",
       "</tr>\n",
       "<tr>\n",
       "     <td>No. Observations:</td>          <td>89832</td>             <td>Log-Likelihood:</td>       <td>-2.9627e+05</td>\n",
       "</tr>\n",
       "<tr>\n",
       "         <td>Df Model:</td>                <td>6</td>                <td>F-statistic:</td>          <td>6.360e+04</td> \n",
       "</tr>\n",
       "<tr>\n",
       "       <td>Df Residuals:</td>            <td>89826</td>           <td>Prob (F-statistic):</td>        <td>0.00</td>    \n",
       "</tr>\n",
       "<tr>\n",
       "  <td>R-squared (uncentered):</td>       <td>0.809</td>                 <td>Scale:</td>              <td>42.879</td>   \n",
       "</tr>\n",
       "</table>\n",
       "<table class=\"simpletable\">\n",
       "<tr>\n",
       "          <td></td>           <th>Coef.</th>  <th>Std.Err.</th>    <th>t</th>     <th>P>|t|</th> <th>[0.025</th>  <th>0.975]</th>\n",
       "</tr>\n",
       "<tr>\n",
       "  <th>perc_minority</th>     <td>5.8621</td>   <td>0.2461</td>  <td>23.8233</td> <td>0.0000</td> <td>5.3798</td>  <td>6.3444</td>\n",
       "</tr>\n",
       "<tr>\n",
       "  <th>#</th>                 <td>0.0694</td>   <td>0.0028</td>  <td>24.9947</td> <td>0.0000</td> <td>0.0639</td>  <td>0.0748</td>\n",
       "</tr>\n",
       "<tr>\n",
       "  <th>is_sundown_county</th> <td>4.4734</td>   <td>0.0874</td>  <td>51.1929</td> <td>0.0000</td> <td>4.3022</td>  <td>4.6447</td>\n",
       "</tr>\n",
       "<tr>\n",
       "  <th>perc_poverty</th>      <td>0.2713</td>   <td>0.0057</td>  <td>47.7325</td> <td>0.0000</td> <td>0.2602</td>  <td>0.2825</td>\n",
       "</tr>\n",
       "<tr>\n",
       "  <th>is_jim_crow_state</th> <td>-0.1017</td>  <td>0.0668</td>  <td>-1.5230</td> <td>0.1277</td> <td>-0.2327</td> <td>0.0292</td>\n",
       "</tr>\n",
       "<tr>\n",
       "  <th>median_income</th>     <td>0.0000</td>   <td>0.0000</td>  <td>44.8435</td> <td>0.0000</td> <td>0.0000</td>  <td>0.0000</td>\n",
       "</tr>\n",
       "</table>\n",
       "<table class=\"simpletable\">\n",
       "<tr>\n",
       "     <td>Omnibus:</td>    <td>4097.883</td>  <td>Durbin-Watson:</td>     <td>0.937</td> \n",
       "</tr>\n",
       "<tr>\n",
       "  <td>Prob(Omnibus):</td>   <td>0.000</td>  <td>Jarque-Bera (JB):</td> <td>6290.426</td>\n",
       "</tr>\n",
       "<tr>\n",
       "       <td>Skew:</td>       <td>0.413</td>      <td>Prob(JB):</td>       <td>0.000</td> \n",
       "</tr>\n",
       "<tr>\n",
       "     <td>Kurtosis:</td>     <td>3.999</td>   <td>Condition No.:</td>    <td>748801</td> \n",
       "</tr>\n",
       "</table>"
      ],
      "text/plain": [
       "<class 'statsmodels.iolib.summary2.Summary'>\n",
       "\"\"\"\n",
       "                         Results: Ordinary least squares\n",
       "=================================================================================\n",
       "Model:                  OLS              Adj. R-squared (uncentered): 0.809      \n",
       "Dependent Variable:     killings_per_10k AIC:                         592561.2394\n",
       "Date:                   2020-11-07 20:14 BIC:                         592617.6736\n",
       "No. Observations:       89832            Log-Likelihood:              -2.9627e+05\n",
       "Df Model:               6                F-statistic:                 6.360e+04  \n",
       "Df Residuals:           89826            Prob (F-statistic):          0.00       \n",
       "R-squared (uncentered): 0.809            Scale:                       42.879     \n",
       "------------------------------------------------------------------------------------\n",
       "                        Coef.     Std.Err.       t       P>|t|      [0.025    0.975]\n",
       "------------------------------------------------------------------------------------\n",
       "perc_minority           5.8621      0.2461    23.8233    0.0000     5.3798    6.3444\n",
       "#                       0.0694      0.0028    24.9947    0.0000     0.0639    0.0748\n",
       "is_sundown_county       4.4734      0.0874    51.1929    0.0000     4.3022    4.6447\n",
       "perc_poverty            0.2713      0.0057    47.7325    0.0000     0.2602    0.2825\n",
       "is_jim_crow_state      -0.1017      0.0668    -1.5230    0.1277    -0.2327    0.0292\n",
       "median_income           0.0000      0.0000    44.8435    0.0000     0.0000    0.0000\n",
       "---------------------------------------------------------------------------------\n",
       "Omnibus:                  4097.883           Durbin-Watson:              0.937   \n",
       "Prob(Omnibus):            0.000              Jarque-Bera (JB):           6290.426\n",
       "Skew:                     0.413              Prob(JB):                   0.000   \n",
       "Kurtosis:                 3.999              Condition No.:              748801  \n",
       "=================================================================================\n",
       "* The condition number is large (7e+05). This might indicate             strong\n",
       "multicollinearity or other numerical problems.\n",
       "\"\"\""
      ]
     },
     "execution_count": 180,
     "metadata": {},
     "output_type": "execute_result"
    }
   ],
   "source": [
    "ols_result.summary2()"
   ]
  },
  {
   "cell_type": "markdown",
   "metadata": {},
   "source": [
    "2.  Regression with JIM Crow + Sundowntowns → Black White Dissimilarity Index (2010)"
   ]
  },
  {
   "cell_type": "code",
   "execution_count": 181,
   "metadata": {},
   "outputs": [
    {
     "name": "stderr",
     "output_type": "stream",
     "text": [
      "/usr/local/lib/python3.7/site-packages/ipykernel_launcher.py:11: FutureWarning: convert_objects is deprecated.  To re-infer data dtypes for object columns, use DataFrame.infer_objects()\n",
      "For all other conversions use the data-type specific converters pd.to_datetime, pd.to_timedelta and pd.to_numeric.\n",
      "  # This is added back by InteractiveShellApp.init_path()\n",
      "/usr/local/lib/python3.7/site-packages/ipykernel_launcher.py:12: FutureWarning: convert_objects is deprecated.  To re-infer data dtypes for object columns, use Series.infer_objects()\n",
      "For all other conversions use the data-type specific converters pd.to_datetime, pd.to_timedelta and pd.to_numeric.\n",
      "  if sys.path[0] == '':\n"
     ]
    },
    {
     "data": {
      "text/html": [
       "<table class=\"simpletable\">\n",
       "<tr>\n",
       "          <td>Model:</td>                            <td>OLS</td>                  <td>Adj. R-squared (uncentered):</td>    <td>0.925</td>   \n",
       "</tr>\n",
       "<tr>\n",
       "    <td>Dependent Variable:</td>   <td>Black-White Dissimilarity Index (2010)</td>             <td>AIC:</td>             <td>750295.6376</td>\n",
       "</tr>\n",
       "<tr>\n",
       "           <td>Date:</td>                     <td>2020-11-07 20:14</td>                        <td>BIC:</td>             <td>750352.0718</td>\n",
       "</tr>\n",
       "<tr>\n",
       "     <td>No. Observations:</td>                     <td>89832</td>                        <td>Log-Likelihood:</td>       <td>-3.7514e+05</td>\n",
       "</tr>\n",
       "<tr>\n",
       "         <td>Df Model:</td>                           <td>6</td>                           <td>F-statistic:</td>          <td>1.842e+05</td> \n",
       "</tr>\n",
       "<tr>\n",
       "       <td>Df Residuals:</td>                       <td>89826</td>                      <td>Prob (F-statistic):</td>        <td>0.00</td>    \n",
       "</tr>\n",
       "<tr>\n",
       "  <td>R-squared (uncentered):</td>                  <td>0.925</td>                            <td>Scale:</td>              <td>248.21</td>   \n",
       "</tr>\n",
       "</table>\n",
       "<table class=\"simpletable\">\n",
       "<tr>\n",
       "          <td></td>           <th>Coef.</th>  <th>Std.Err.</th>     <th>t</th>     <th>P>|t|</th> <th>[0.025</th>  <th>0.975]</th> \n",
       "</tr>\n",
       "<tr>\n",
       "  <th>perc_minority</th>     <td>75.0784</td>  <td>0.5920</td>  <td>126.8175</td> <td>0.0000</td> <td>73.9180</td> <td>76.2387</td>\n",
       "</tr>\n",
       "<tr>\n",
       "  <th>#</th>                 <td>0.2290</td>   <td>0.0067</td>   <td>34.2971</td> <td>0.0000</td> <td>0.2159</td>  <td>0.2421</td> \n",
       "</tr>\n",
       "<tr>\n",
       "  <th>is_sundown_county</th> <td>10.3204</td>  <td>0.2102</td>   <td>49.0886</td> <td>0.0000</td> <td>9.9083</td>  <td>10.7325</td>\n",
       "</tr>\n",
       "<tr>\n",
       "  <th>perc_poverty</th>      <td>1.9655</td>   <td>0.0137</td>  <td>143.7056</td> <td>0.0000</td> <td>1.9387</td>  <td>1.9923</td> \n",
       "</tr>\n",
       "<tr>\n",
       "  <th>is_jim_crow_state</th> <td>6.3968</td>   <td>0.1607</td>   <td>39.8017</td> <td>0.0000</td> <td>6.0818</td>  <td>6.7118</td> \n",
       "</tr>\n",
       "<tr>\n",
       "  <th>median_income</th>     <td>-0.0001</td>  <td>0.0000</td>  <td>-45.0087</td> <td>0.0000</td> <td>-0.0001</td> <td>-0.0001</td>\n",
       "</tr>\n",
       "</table>\n",
       "<table class=\"simpletable\">\n",
       "<tr>\n",
       "     <td>Omnibus:</td>    <td>9619.138</td>  <td>Durbin-Watson:</td>     <td>0.490</td> \n",
       "</tr>\n",
       "<tr>\n",
       "  <td>Prob(Omnibus):</td>   <td>0.000</td>  <td>Jarque-Bera (JB):</td> <td>2783.905</td>\n",
       "</tr>\n",
       "<tr>\n",
       "       <td>Skew:</td>       <td>0.084</td>      <td>Prob(JB):</td>       <td>0.000</td> \n",
       "</tr>\n",
       "<tr>\n",
       "     <td>Kurtosis:</td>     <td>2.154</td>   <td>Condition No.:</td>    <td>748801</td> \n",
       "</tr>\n",
       "</table>"
      ],
      "text/plain": [
       "<class 'statsmodels.iolib.summary2.Summary'>\n",
       "\"\"\"\n",
       "                                    Results: Ordinary least squares\n",
       "=======================================================================================================\n",
       "Model:                  OLS                                    Adj. R-squared (uncentered): 0.925      \n",
       "Dependent Variable:     Black-White Dissimilarity Index (2010) AIC:                         750295.6376\n",
       "Date:                   2020-11-07 20:14                       BIC:                         750352.0718\n",
       "No. Observations:       89832                                  Log-Likelihood:              -3.7514e+05\n",
       "Df Model:               6                                      F-statistic:                 1.842e+05  \n",
       "Df Residuals:           89826                                  Prob (F-statistic):          0.00       \n",
       "R-squared (uncentered): 0.925                                  Scale:                       248.21     \n",
       "--------------------------------------------------------------------------------------------------------------\n",
       "                            Coef.         Std.Err.           t            P>|t|          [0.025         0.975]\n",
       "--------------------------------------------------------------------------------------------------------------\n",
       "perc_minority              75.0784          0.5920        126.8175        0.0000        73.9180        76.2387\n",
       "#                           0.2290          0.0067         34.2971        0.0000         0.2159         0.2421\n",
       "is_sundown_county          10.3204          0.2102         49.0886        0.0000         9.9083        10.7325\n",
       "perc_poverty                1.9655          0.0137        143.7056        0.0000         1.9387         1.9923\n",
       "is_jim_crow_state           6.3968          0.1607         39.8017        0.0000         6.0818         6.7118\n",
       "median_income              -0.0001          0.0000        -45.0087        0.0000        -0.0001        -0.0001\n",
       "-------------------------------------------------------------------------------------------------------\n",
       "Omnibus:                          9619.138                  Durbin-Watson:                     0.490   \n",
       "Prob(Omnibus):                    0.000                     Jarque-Bera (JB):                  2783.905\n",
       "Skew:                             0.084                     Prob(JB):                          0.000   \n",
       "Kurtosis:                         2.154                     Condition No.:                     748801  \n",
       "=======================================================================================================\n",
       "* The condition number is large (7e+05). This might indicate             strong multicollinearity or\n",
       "other numerical problems.\n",
       "\"\"\""
      ]
     },
     "execution_count": 181,
     "metadata": {},
     "output_type": "execute_result"
    }
   ],
   "source": [
    "y = analysis_df_with_city_shootings['Black-White Dissimilarity Index (2010)']\n",
    "logit_covariates = [\n",
    "    'perc_minority',\n",
    "    '#',\n",
    "    'is_sundown_county',\n",
    "    'perc_poverty',\n",
    "    'is_jim_crow_state',\n",
    "    'median_income',\n",
    "]\n",
    "X = analysis_df_with_city_shootings[logit_covariates]\n",
    "X = X.convert_objects(convert_numeric=True)\n",
    "y = y.convert_objects(convert_numeric=True)\n",
    "\n",
    "ols_model = sm.OLS(y.astype(float), X.astype(float))\n",
    "ols_result = ols_model.fit()\n",
    "ols_result.summary2()"
   ]
  },
  {
   "cell_type": "markdown",
   "metadata": {},
   "source": [
    "3. regress (black-white diss. index(2010), minority%, # of sundown town, sundown county status, perc of poverty, jim crow state, median income) -> killings by police"
   ]
  },
  {
   "cell_type": "code",
   "execution_count": 182,
   "metadata": {},
   "outputs": [
    {
     "name": "stderr",
     "output_type": "stream",
     "text": [
      "/usr/local/lib/python3.7/site-packages/ipykernel_launcher.py:12: FutureWarning: convert_objects is deprecated.  To re-infer data dtypes for object columns, use DataFrame.infer_objects()\n",
      "For all other conversions use the data-type specific converters pd.to_datetime, pd.to_timedelta and pd.to_numeric.\n",
      "  if sys.path[0] == '':\n",
      "/usr/local/lib/python3.7/site-packages/ipykernel_launcher.py:13: FutureWarning: convert_objects is deprecated.  To re-infer data dtypes for object columns, use Series.infer_objects()\n",
      "For all other conversions use the data-type specific converters pd.to_datetime, pd.to_timedelta and pd.to_numeric.\n",
      "  del sys.path[0]\n"
     ]
    },
    {
     "data": {
      "text/html": [
       "<table class=\"simpletable\">\n",
       "<tr>\n",
       "          <td>Model:</td>                          <td>OLS</td>                <td>Adj. R-squared (uncentered):</td>    <td>0.811</td>   \n",
       "</tr>\n",
       "<tr>\n",
       "    <td>Dependent Variable:</td>   <td>Killings by Police per 10k Arrests</td>             <td>AIC:</td>             <td>591853.9356</td>\n",
       "</tr>\n",
       "<tr>\n",
       "           <td>Date:</td>                   <td>2020-11-07 20:14</td>                      <td>BIC:</td>             <td>591919.7754</td>\n",
       "</tr>\n",
       "<tr>\n",
       "     <td>No. Observations:</td>                   <td>89832</td>                      <td>Log-Likelihood:</td>       <td>-2.9592e+05</td>\n",
       "</tr>\n",
       "<tr>\n",
       "         <td>Df Model:</td>                         <td>7</td>                         <td>F-statistic:</td>          <td>5.505e+04</td> \n",
       "</tr>\n",
       "<tr>\n",
       "       <td>Df Residuals:</td>                     <td>89825</td>                    <td>Prob (F-statistic):</td>        <td>0.00</td>    \n",
       "</tr>\n",
       "<tr>\n",
       "  <td>R-squared (uncentered):</td>                <td>0.811</td>                          <td>Scale:</td>              <td>42.542</td>   \n",
       "</tr>\n",
       "</table>\n",
       "<table class=\"simpletable\">\n",
       "<tr>\n",
       "                     <td></td>                     <th>Coef.</th>  <th>Std.Err.</th>     <th>t</th>     <th>P>|t|</th> <th>[0.025</th>  <th>0.975]</th> \n",
       "</tr>\n",
       "<tr>\n",
       "  <th>perc_minority</th>                          <td>8.6295</td>   <td>0.2661</td>   <td>32.4252</td> <td>0.0000</td> <td>8.1079</td>  <td>9.1511</td> \n",
       "</tr>\n",
       "<tr>\n",
       "  <th>#</th>                                      <td>0.0778</td>   <td>0.0028</td>   <td>27.9646</td> <td>0.0000</td> <td>0.0724</td>  <td>0.0833</td> \n",
       "</tr>\n",
       "<tr>\n",
       "  <th>is_sundown_county</th>                      <td>4.8538</td>   <td>0.0882</td>   <td>55.0324</td> <td>0.0000</td> <td>4.6810</td>  <td>5.0267</td> \n",
       "</tr>\n",
       "<tr>\n",
       "  <th>perc_poverty</th>                           <td>0.3438</td>   <td>0.0063</td>   <td>54.7477</td> <td>0.0000</td> <td>0.3315</td>  <td>0.3561</td> \n",
       "</tr>\n",
       "<tr>\n",
       "  <th>is_jim_crow_state</th>                      <td>0.1340</td>   <td>0.0671</td>   <td>1.9971</td>  <td>0.0458</td> <td>0.0025</td>  <td>0.2656</td> \n",
       "</tr>\n",
       "<tr>\n",
       "  <th>Black-White Dissimilarity Index (2010)</th> <td>-0.0369</td>  <td>0.0014</td>  <td>-26.6844</td> <td>0.0000</td> <td>-0.0396</td> <td>-0.0342</td>\n",
       "</tr>\n",
       "<tr>\n",
       "  <th>median_income</th>                          <td>0.0000</td>   <td>0.0000</td>   <td>40.5585</td> <td>0.0000</td> <td>0.0000</td>  <td>0.0000</td> \n",
       "</tr>\n",
       "</table>\n",
       "<table class=\"simpletable\">\n",
       "<tr>\n",
       "     <td>Omnibus:</td>    <td>3425.052</td>  <td>Durbin-Watson:</td>     <td>0.924</td> \n",
       "</tr>\n",
       "<tr>\n",
       "  <td>Prob(Omnibus):</td>   <td>0.000</td>  <td>Jarque-Bera (JB):</td> <td>6129.276</td>\n",
       "</tr>\n",
       "<tr>\n",
       "       <td>Skew:</td>       <td>0.314</td>      <td>Prob(JB):</td>       <td>0.000</td> \n",
       "</tr>\n",
       "<tr>\n",
       "     <td>Kurtosis:</td>     <td>4.115</td>   <td>Condition No.:</td>    <td>813496</td> \n",
       "</tr>\n",
       "</table>"
      ],
      "text/plain": [
       "<class 'statsmodels.iolib.summary2.Summary'>\n",
       "\"\"\"\n",
       "                                  Results: Ordinary least squares\n",
       "===================================================================================================\n",
       "Model:                  OLS                                Adj. R-squared (uncentered): 0.811      \n",
       "Dependent Variable:     Killings by Police per 10k Arrests AIC:                         591853.9356\n",
       "Date:                   2020-11-07 20:14                   BIC:                         591919.7754\n",
       "No. Observations:       89832                              Log-Likelihood:              -2.9592e+05\n",
       "Df Model:               7                                  F-statistic:                 5.505e+04  \n",
       "Df Residuals:           89825                              Prob (F-statistic):          0.00       \n",
       "R-squared (uncentered): 0.811                              Scale:                       42.542     \n",
       "-----------------------------------------------------------------------------------------------------\n",
       "                                            Coef.    Std.Err.      t       P>|t|     [0.025    0.975]\n",
       "-----------------------------------------------------------------------------------------------------\n",
       "perc_minority                               8.6295     0.2661    32.4252   0.0000    8.1079    9.1511\n",
       "#                                           0.0778     0.0028    27.9646   0.0000    0.0724    0.0833\n",
       "is_sundown_county                           4.8538     0.0882    55.0324   0.0000    4.6810    5.0267\n",
       "perc_poverty                                0.3438     0.0063    54.7477   0.0000    0.3315    0.3561\n",
       "is_jim_crow_state                           0.1340     0.0671     1.9971   0.0458    0.0025    0.2656\n",
       "Black-White Dissimilarity Index (2010)     -0.0369     0.0014   -26.6844   0.0000   -0.0396   -0.0342\n",
       "median_income                               0.0000     0.0000    40.5585   0.0000    0.0000    0.0000\n",
       "---------------------------------------------------------------------------------------------------\n",
       "Omnibus:                        3425.052                 Durbin-Watson:                    0.924   \n",
       "Prob(Omnibus):                  0.000                    Jarque-Bera (JB):                 6129.276\n",
       "Skew:                           0.314                    Prob(JB):                         0.000   \n",
       "Kurtosis:                       4.115                    Condition No.:                    813496  \n",
       "===================================================================================================\n",
       "* The condition number is large (8e+05). This might indicate             strong multicollinearity\n",
       "or other numerical problems.\n",
       "\"\"\""
      ]
     },
     "execution_count": 182,
     "metadata": {},
     "output_type": "execute_result"
    }
   ],
   "source": [
    "y = analysis_df_with_city_shootings['Killings by Police per 10k Arrests']\n",
    "logit_covariates = [\n",
    "    'perc_minority',\n",
    "    '#',\n",
    "    'is_sundown_county',\n",
    "    'perc_poverty',\n",
    "    'is_jim_crow_state',\n",
    "    'Black-White Dissimilarity Index (2010)',\n",
    "    'median_income',\n",
    "]\n",
    "X = analysis_df_with_city_shootings[logit_covariates]\n",
    "X = X.convert_objects(convert_numeric=True)\n",
    "y = y.convert_objects(convert_numeric=True)\n",
    "\n",
    "ols_model = sm.OLS(y.astype(float), X.astype(float))\n",
    "ols_result = ols_model.fit()\n",
    "ols_result.summary2()"
   ]
  },
  {
   "cell_type": "markdown",
   "metadata": {},
   "source": [
    "4. Add interaction term: white_perc * diss_index"
   ]
  },
  {
   "cell_type": "code",
   "execution_count": 183,
   "metadata": {},
   "outputs": [
    {
     "name": "stderr",
     "output_type": "stream",
     "text": [
      "/usr/local/lib/python3.7/site-packages/ipykernel_launcher.py:13: FutureWarning: convert_objects is deprecated.  To re-infer data dtypes for object columns, use DataFrame.infer_objects()\n",
      "For all other conversions use the data-type specific converters pd.to_datetime, pd.to_timedelta and pd.to_numeric.\n",
      "  del sys.path[0]\n",
      "/usr/local/lib/python3.7/site-packages/ipykernel_launcher.py:14: FutureWarning: convert_objects is deprecated.  To re-infer data dtypes for object columns, use Series.infer_objects()\n",
      "For all other conversions use the data-type specific converters pd.to_datetime, pd.to_timedelta and pd.to_numeric.\n",
      "  \n"
     ]
    },
    {
     "data": {
      "text/html": [
       "<table class=\"simpletable\">\n",
       "<tr>\n",
       "        <td>Model:</td>               <td>OLS</td>         <td>Adj. R-squared:</td>      <td>0.147</td>   \n",
       "</tr>\n",
       "<tr>\n",
       "  <td>Dependent Variable:</td> <td>killings_per_10k</td>        <td>AIC:</td>         <td>583167.1069</td>\n",
       "</tr>\n",
       "<tr>\n",
       "         <td>Date:</td>        <td>2020-11-07 20:14</td>        <td>BIC:</td>         <td>583242.3525</td>\n",
       "</tr>\n",
       "<tr>\n",
       "   <td>No. Observations:</td>        <td>89832</td>        <td>Log-Likelihood:</td>   <td>-2.9158e+05</td>\n",
       "</tr>\n",
       "<tr>\n",
       "       <td>Df Model:</td>              <td>7</td>           <td>F-statistic:</td>        <td>2217.</td>   \n",
       "</tr>\n",
       "<tr>\n",
       "     <td>Df Residuals:</td>          <td>89824</td>      <td>Prob (F-statistic):</td>    <td>0.00</td>    \n",
       "</tr>\n",
       "<tr>\n",
       "      <td>R-squared:</td>            <td>0.147</td>            <td>Scale:</td>          <td>38.621</td>   \n",
       "</tr>\n",
       "</table>\n",
       "<table class=\"simpletable\">\n",
       "<tr>\n",
       "              <td></td>                <th>Coef.</th>  <th>Std.Err.</th>     <th>t</th>     <th>P>|t|</th>  <th>[0.025</th>   <th>0.975]</th> \n",
       "</tr>\n",
       "<tr>\n",
       "  <th>Intercept</th>                  <td>65.8639</td>  <td>0.6094</td>  <td>108.0835</td> <td>0.0000</td>  <td>64.6695</td>  <td>67.0582</td>\n",
       "</tr>\n",
       "<tr>\n",
       "  <th>is_sundown_county[T.True]</th>  <td>2.4301</td>   <td>0.0886</td>   <td>27.4208</td> <td>0.0000</td>  <td>2.2564</td>   <td>2.6038</td> \n",
       "</tr>\n",
       "<tr>\n",
       "  <th>is_jim_crow_state[T.True]</th>  <td>-1.6780</td>  <td>0.0671</td>  <td>-25.0077</td> <td>0.0000</td>  <td>-1.8095</td>  <td>-1.5465</td>\n",
       "</tr>\n",
       "<tr>\n",
       "  <th>perc_white</th>                <td>-73.8067</td>  <td>0.7629</td>  <td>-96.7492</td> <td>0.0000</td> <td>-75.3019</td> <td>-72.3115</td>\n",
       "</tr>\n",
       "<tr>\n",
       "  <th>diss_index</th>                 <td>-0.9644</td>  <td>0.0104</td>  <td>-92.5396</td> <td>0.0000</td>  <td>-0.9849</td>  <td>-0.9440</td>\n",
       "</tr>\n",
       "<tr>\n",
       "  <th>perc_white:diss_index</th>      <td>1.2550</td>   <td>0.0141</td>   <td>88.7978</td> <td>0.0000</td>  <td>1.2273</td>   <td>1.2827</td> \n",
       "</tr>\n",
       "<tr>\n",
       "  <th>num_sundown_towns</th>          <td>0.0738</td>   <td>0.0026</td>   <td>27.8846</td> <td>0.0000</td>  <td>0.0686</td>   <td>0.0790</td> \n",
       "</tr>\n",
       "<tr>\n",
       "  <th>perc_poverty</th>               <td>0.1645</td>   <td>0.0073</td>   <td>22.4807</td> <td>0.0000</td>  <td>0.1502</td>   <td>0.1789</td> \n",
       "</tr>\n",
       "</table>\n",
       "<table class=\"simpletable\">\n",
       "<tr>\n",
       "     <td>Omnibus:</td>    <td>3155.151</td>  <td>Durbin-Watson:</td>     <td>0.892</td> \n",
       "</tr>\n",
       "<tr>\n",
       "  <td>Prob(Omnibus):</td>   <td>0.000</td>  <td>Jarque-Bera (JB):</td> <td>7885.381</td>\n",
       "</tr>\n",
       "<tr>\n",
       "       <td>Skew:</td>       <td>0.166</td>      <td>Prob(JB):</td>       <td>0.000</td> \n",
       "</tr>\n",
       "<tr>\n",
       "     <td>Kurtosis:</td>     <td>4.413</td>   <td>Condition No.:</td>     <td>3395</td>  \n",
       "</tr>\n",
       "</table>"
      ],
      "text/plain": [
       "<class 'statsmodels.iolib.summary2.Summary'>\n",
       "\"\"\"\n",
       "                       Results: Ordinary least squares\n",
       "=============================================================================\n",
       "Model:                 OLS                 Adj. R-squared:        0.147      \n",
       "Dependent Variable:    killings_per_10k    AIC:                   583167.1069\n",
       "Date:                  2020-11-07 20:14    BIC:                   583242.3525\n",
       "No. Observations:      89832               Log-Likelihood:        -2.9158e+05\n",
       "Df Model:              7                   F-statistic:           2217.      \n",
       "Df Residuals:          89824               Prob (F-statistic):    0.00       \n",
       "R-squared:             0.147               Scale:                 38.621     \n",
       "-----------------------------------------------------------------------------\n",
       "                           Coef.   Std.Err.    t     P>|t|   [0.025   0.975] \n",
       "-----------------------------------------------------------------------------\n",
       "Intercept                  65.8639   0.6094 108.0835 0.0000  64.6695  67.0582\n",
       "is_sundown_county[T.True]   2.4301   0.0886  27.4208 0.0000   2.2564   2.6038\n",
       "is_jim_crow_state[T.True]  -1.6780   0.0671 -25.0077 0.0000  -1.8095  -1.5465\n",
       "perc_white                -73.8067   0.7629 -96.7492 0.0000 -75.3019 -72.3115\n",
       "diss_index                 -0.9644   0.0104 -92.5396 0.0000  -0.9849  -0.9440\n",
       "perc_white:diss_index       1.2550   0.0141  88.7978 0.0000   1.2273   1.2827\n",
       "num_sundown_towns           0.0738   0.0026  27.8846 0.0000   0.0686   0.0790\n",
       "perc_poverty                0.1645   0.0073  22.4807 0.0000   0.1502   0.1789\n",
       "-----------------------------------------------------------------------------\n",
       "Omnibus:                3155.151          Durbin-Watson:             0.892   \n",
       "Prob(Omnibus):          0.000             Jarque-Bera (JB):          7885.381\n",
       "Skew:                   0.166             Prob(JB):                  0.000   \n",
       "Kurtosis:               4.413             Condition No.:             3395    \n",
       "=============================================================================\n",
       "* The condition number is large (3e+03). This might indicate\n",
       "strong multicollinearity or other numerical problems.\n",
       "\"\"\""
      ]
     },
     "execution_count": 183,
     "metadata": {},
     "output_type": "execute_result"
    }
   ],
   "source": [
    "ols_model = smf.ols(formula='killings_per_10k ~ 1 + perc_white*diss_index + num_sundown_towns + is_sundown_county + perc_poverty + is_jim_crow_state',\n",
    "                   data=analysis_df_with_city_shootings)\n",
    "ols_result = ols_model.fit()\n",
    "ols_result.summary2()"
   ]
  },
  {
   "cell_type": "markdown",
   "metadata": {},
   "source": [
    "5. Regression with JIM + Sundown towns + **percentage white+ Black White Dissimilarity Index (2010) → Racism index (2013-2017) in state racism index 2013-2017 file"
   ]
  },
  {
   "cell_type": "code",
   "execution_count": 203,
   "metadata": {},
   "outputs": [
    {
     "data": {
      "text/html": [
       "<table class=\"simpletable\">\n",
       "<tr>\n",
       "        <td>Model:</td>               <td>OLS</td>         <td>Adj. R-squared:</td>      <td>0.461</td>   \n",
       "</tr>\n",
       "<tr>\n",
       "  <td>Dependent Variable:</td>   <td>racism_index</td>          <td>AIC:</td>         <td>618818.7050</td>\n",
       "</tr>\n",
       "<tr>\n",
       "         <td>Date:</td>        <td>2020-11-07 20:17</td>        <td>BIC:</td>         <td>618893.9506</td>\n",
       "</tr>\n",
       "<tr>\n",
       "   <td>No. Observations:</td>        <td>89832</td>        <td>Log-Likelihood:</td>   <td>-3.0940e+05</td>\n",
       "</tr>\n",
       "<tr>\n",
       "       <td>Df Model:</td>              <td>7</td>           <td>F-statistic:</td>      <td>1.099e+04</td> \n",
       "</tr>\n",
       "<tr>\n",
       "     <td>Df Residuals:</td>          <td>89824</td>      <td>Prob (F-statistic):</td>    <td>0.00</td>    \n",
       "</tr>\n",
       "<tr>\n",
       "      <td>R-squared:</td>            <td>0.461</td>            <td>Scale:</td>          <td>57.435</td>   \n",
       "</tr>\n",
       "</table>\n",
       "<table class=\"simpletable\">\n",
       "<tr>\n",
       "              <td></td>                <th>Coef.</th>  <th>Std.Err.</th>     <th>t</th>      <th>P>|t|</th>  <th>[0.025</th>   <th>0.975]</th> \n",
       "</tr>\n",
       "<tr>\n",
       "  <th>Intercept</th>                  <td>46.4702</td>  <td>0.7431</td>   <td>62.5328</td>  <td>0.0000</td>  <td>45.0137</td>  <td>47.9267</td>\n",
       "</tr>\n",
       "<tr>\n",
       "  <th>is_sundown_county[T.True]</th>  <td>-0.6134</td>  <td>0.1081</td>   <td>-5.6752</td>  <td>0.0000</td>  <td>-0.8252</td>  <td>-0.4015</td>\n",
       "</tr>\n",
       "<tr>\n",
       "  <th>is_jim_crow_state[T.True]</th> <td>-14.3026</td>  <td>0.0818</td>  <td>-174.7897</td> <td>0.0000</td> <td>-14.4630</td> <td>-14.1422</td>\n",
       "</tr>\n",
       "<tr>\n",
       "  <th>perc_white</th>                 <td>11.2589</td>  <td>0.9303</td>   <td>12.1024</td>  <td>0.0000</td>  <td>9.4355</td>   <td>13.0823</td>\n",
       "</tr>\n",
       "<tr>\n",
       "  <th>diss_index</th>                 <td>0.3806</td>   <td>0.0127</td>   <td>29.9450</td>  <td>0.0000</td>  <td>0.3557</td>   <td>0.4055</td> \n",
       "</tr>\n",
       "<tr>\n",
       "  <th>perc_white:diss_index</th>      <td>-0.2392</td>  <td>0.0172</td>  <td>-13.8792</td>  <td>0.0000</td>  <td>-0.2730</td>  <td>-0.2054</td>\n",
       "</tr>\n",
       "<tr>\n",
       "  <th>num_sundown_towns</th>          <td>0.2171</td>   <td>0.0032</td>   <td>67.2344</td>  <td>0.0000</td>  <td>0.2108</td>   <td>0.2234</td> \n",
       "</tr>\n",
       "<tr>\n",
       "  <th>perc_poverty</th>               <td>-0.7300</td>  <td>0.0089</td>  <td>-81.7914</td>  <td>0.0000</td>  <td>-0.7475</td>  <td>-0.7126</td>\n",
       "</tr>\n",
       "</table>\n",
       "<table class=\"simpletable\">\n",
       "<tr>\n",
       "     <td>Omnibus:</td>    <td>1877.850</td>  <td>Durbin-Watson:</td>     <td>0.090</td> \n",
       "</tr>\n",
       "<tr>\n",
       "  <td>Prob(Omnibus):</td>   <td>0.000</td>  <td>Jarque-Bera (JB):</td> <td>3215.763</td>\n",
       "</tr>\n",
       "<tr>\n",
       "       <td>Skew:</td>       <td>0.184</td>      <td>Prob(JB):</td>       <td>0.000</td> \n",
       "</tr>\n",
       "<tr>\n",
       "     <td>Kurtosis:</td>     <td>3.851</td>   <td>Condition No.:</td>     <td>3395</td>  \n",
       "</tr>\n",
       "</table>"
      ],
      "text/plain": [
       "<class 'statsmodels.iolib.summary2.Summary'>\n",
       "\"\"\"\n",
       "                       Results: Ordinary least squares\n",
       "==============================================================================\n",
       "Model:                  OLS                 Adj. R-squared:        0.461      \n",
       "Dependent Variable:     racism_index        AIC:                   618818.7050\n",
       "Date:                   2020-11-07 20:17    BIC:                   618893.9506\n",
       "No. Observations:       89832               Log-Likelihood:        -3.0940e+05\n",
       "Df Model:               7                   F-statistic:           1.099e+04  \n",
       "Df Residuals:           89824               Prob (F-statistic):    0.00       \n",
       "R-squared:              0.461               Scale:                 57.435     \n",
       "------------------------------------------------------------------------------\n",
       "                           Coef.   Std.Err.     t     P>|t|   [0.025   0.975] \n",
       "------------------------------------------------------------------------------\n",
       "Intercept                  46.4702   0.7431   62.5328 0.0000  45.0137  47.9267\n",
       "is_sundown_county[T.True]  -0.6134   0.1081   -5.6752 0.0000  -0.8252  -0.4015\n",
       "is_jim_crow_state[T.True] -14.3026   0.0818 -174.7897 0.0000 -14.4630 -14.1422\n",
       "perc_white                 11.2589   0.9303   12.1024 0.0000   9.4355  13.0823\n",
       "diss_index                  0.3806   0.0127   29.9450 0.0000   0.3557   0.4055\n",
       "perc_white:diss_index      -0.2392   0.0172  -13.8792 0.0000  -0.2730  -0.2054\n",
       "num_sundown_towns           0.2171   0.0032   67.2344 0.0000   0.2108   0.2234\n",
       "perc_poverty               -0.7300   0.0089  -81.7914 0.0000  -0.7475  -0.7126\n",
       "------------------------------------------------------------------------------\n",
       "Omnibus:                 1877.850          Durbin-Watson:             0.090   \n",
       "Prob(Omnibus):           0.000             Jarque-Bera (JB):          3215.763\n",
       "Skew:                    0.184             Prob(JB):                  0.000   \n",
       "Kurtosis:                3.851             Condition No.:             3395    \n",
       "==============================================================================\n",
       "* The condition number is large (3e+03). This might indicate\n",
       "strong multicollinearity or other numerical problems.\n",
       "\"\"\""
      ]
     },
     "execution_count": 203,
     "metadata": {},
     "output_type": "execute_result"
    }
   ],
   "source": [
    "ols_model = smf.ols(formula='racism_index ~ 1 + perc_white*diss_index + num_sundown_towns + is_sundown_county + perc_poverty + is_jim_crow_state',\n",
    "                   data=analysis_df_with_city_shootings)\n",
    "ols_result = ols_model.fit()\n",
    "ols_result.summary2()"
   ]
  },
  {
   "cell_type": "code",
   "execution_count": null,
   "metadata": {},
   "outputs": [],
   "source": []
  }
 ],
 "metadata": {
  "kernelspec": {
   "display_name": "venv",
   "language": "python",
   "name": "venv"
  },
  "language_info": {
   "codemirror_mode": {
    "name": "ipython",
    "version": 3
   },
   "file_extension": ".py",
   "mimetype": "text/x-python",
   "name": "python",
   "nbconvert_exporter": "python",
   "pygments_lexer": "ipython3",
   "version": "3.7.7"
  }
 },
 "nbformat": 4,
 "nbformat_minor": 4
}
