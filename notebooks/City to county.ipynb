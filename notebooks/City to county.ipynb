{
 "cells": [
  {
   "cell_type": "code",
   "execution_count": 1,
   "metadata": {},
   "outputs": [],
   "source": [
    "import csv"
   ]
  },
  {
   "cell_type": "code",
   "execution_count": 13,
   "metadata": {},
   "outputs": [],
   "source": [
    "### We use this to map cities to counties ####\n",
    "\n",
    "city_county_dict = dict()\n",
    "with open('../data/us_cities_to_county.csv') as city_mapping_file:\n",
    "    city_mapping_reader = csv.DictReader(city_mapping_file)\n",
    "    for c in city_mapping_reader:\n",
    "        # need to add in state, otherwise get missed mappings\n",
    "        city_county_dict[(c['city'] + ' ' + c['state_id']).lower()] = c['county_name']"
   ]
  },
  {
   "cell_type": "code",
   "execution_count": 12,
   "metadata": {},
   "outputs": [],
   "source": [
    "import pandas as pd\n",
    "\n",
    "sundown_data = {}\n",
    "with open('../data/sundown_states.csv') as sundown_file:\n",
    "    city_reader = csv.DictReader(sundown_file)\n",
    "    for r in city_reader:\n",
    "        city_state = r['city'] + ' ' + r['state']\n",
    "        if city_state.lower() in city_county_dict.keys():\n",
    "            data = r\n",
    "            data['county'] = city_county_dict[city_state.lower()] + ' County' +', ' + r['state']\n",
    "            sundown_data[r['id']] = data\n",
    "        elif 'County' in r['city']:\n",
    "            # print('missed mapping: {}'.format(r['city']))\n",
    "            data['county'] = r['city']\n",
    "            sundown_data[r['id']] = data\n",
    "\n"
   ]
  },
  {
   "cell_type": "code",
   "execution_count": 25,
   "metadata": {},
   "outputs": [],
   "source": [
    "def get_county_from_city(city, state, city_county_map):\n",
    "    city_to_county_output = {}\n",
    "    city_state_str = ' '.join([city, state])\n",
    "    if city_state_str.lower() in city_county_map.keys():\n",
    "        return city_county_map[city_state_str.lower()]\n",
    "    else:\n",
    "        print('missed mapping: ', city)"
   ]
  },
  {
   "cell_type": "code",
   "execution_count": 32,
   "metadata": {},
   "outputs": [],
   "source": [
    "# add county to city_shootings csv\n",
    "city_shootings = pd.read_csv('../data/police-killings-city.csv')\n",
    "city_shootings['county'] = city_shootings.apply(lambda r: get_county_from_city(r.City, r.State, city_county_dict) + ' County, {}'.format(r.State), axis=1)\n",
    "city_shootings.to_csv('../data/police-killings-city.csv')"
   ]
  }
 ],
 "metadata": {
  "kernelspec": {
   "display_name": "venv",
   "language": "python",
   "name": "venv"
  },
  "language_info": {
   "codemirror_mode": {
    "name": "ipython",
    "version": 3
   },
   "file_extension": ".py",
   "mimetype": "text/x-python",
   "name": "python",
   "nbconvert_exporter": "python",
   "pygments_lexer": "ipython3",
   "version": "3.7.7"
  }
 },
 "nbformat": 4,
 "nbformat_minor": 4
}
