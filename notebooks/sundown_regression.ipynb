{
 "cells": [
  {
   "cell_type": "code",
   "execution_count": 1,
   "metadata": {},
   "outputs": [],
   "source": [
    "import statsmodels.api as sm\n",
    "import pandas as pd\n",
    "import numpy as np\n",
    "import os\n",
    "import csv"
   ]
  },
  {
   "cell_type": "code",
   "execution_count": 13,
   "metadata": {},
   "outputs": [],
   "source": [
    "mortality_with_sundown_census_poverty = pd.read_csv('../data/mortality_with_sundown_census_poverty.csv')"
   ]
  },
  {
   "cell_type": "code",
   "execution_count": 14,
   "metadata": {},
   "outputs": [],
   "source": [
    "mortality_with_sundown_census_poverty = mortality_with_sundown_census_poverty.rename(\n",
    "    columns={\n",
    "        'All Ages in Poverty Percent': 'perc_poverty',\n",
    "        'Median Household Income in Dollars': 'median_income_str'\n",
    "    })"
   ]
  },
  {
   "cell_type": "code",
   "execution_count": 20,
   "metadata": {},
   "outputs": [],
   "source": [
    "mortality_with_sundown_census_poverty['median_income'] = mortality_with_sundown_census_poverty.median_income_str.apply(lambda x: x.replace('$', '').replace(',', ''))"
   ]
  },
  {
   "cell_type": "code",
   "execution_count": 29,
   "metadata": {},
   "outputs": [
    {
     "name": "stderr",
     "output_type": "stream",
     "text": [
      "/usr/local/lib/python3.7/site-packages/ipykernel_launcher.py:10: FutureWarning: convert_objects is deprecated.  To re-infer data dtypes for object columns, use DataFrame.infer_objects()\n",
      "For all other conversions use the data-type specific converters pd.to_datetime, pd.to_timedelta and pd.to_numeric.\n",
      "  # Remove the CWD from sys.path while we load stuff.\n",
      "/usr/local/lib/python3.7/site-packages/ipykernel_launcher.py:11: FutureWarning: convert_objects is deprecated.  To re-infer data dtypes for object columns, use Series.infer_objects()\n",
      "For all other conversions use the data-type specific converters pd.to_datetime, pd.to_timedelta and pd.to_numeric.\n",
      "  # This is added back by InteractiveShellApp.init_path()\n"
     ]
    }
   ],
   "source": [
    "y = mortality_with_sundown_census_poverty['Death_Population_Ratio']\n",
    "logit_covariates = [\n",
    "    'perc_minority',\n",
    "#     '#',\n",
    "    'is_sundown_county',\n",
    "    'perc_poverty',\n",
    "    'median_income',\n",
    "]\n",
    "X = mortality_with_sundown_census_poverty[logit_covariates]\n",
    "X = X.convert_objects(convert_numeric=True)\n",
    "y = y.convert_objects(convert_numeric=True)"
   ]
  },
  {
   "cell_type": "code",
   "execution_count": 30,
   "metadata": {},
   "outputs": [
    {
     "name": "stdout",
     "output_type": "stream",
     "text": [
      "Optimization terminated successfully.\n",
      "         Current function value: 0.014800\n",
      "         Iterations 9\n"
     ]
    }
   ],
   "source": [
    "logit_model = sm.Logit(y.astype(float), X.astype(float))\n",
    "result = logit_model.fit()"
   ]
  },
  {
   "cell_type": "code",
   "execution_count": 31,
   "metadata": {},
   "outputs": [
    {
     "name": "stderr",
     "output_type": "stream",
     "text": [
      "/usr/local/lib/python3.7/site-packages/statsmodels/discrete/discrete_model.py:3390: RuntimeWarning: divide by zero encountered in double_scalars\n",
      "  return 1 - self.llf/self.llnull\n"
     ]
    },
    {
     "data": {
      "text/html": [
       "<table class=\"simpletable\">\n",
       "<tr>\n",
       "        <td>Model:</td>                 <td>Logit</td>         <td>Pseudo R-squared:</td>    <td>inf</td>   \n",
       "</tr>\n",
       "<tr>\n",
       "  <td>Dependent Variable:</td> <td>Death_Population_Ratio</td>       <td>AIC:</td>        <td>7026.8037</td>\n",
       "</tr>\n",
       "<tr>\n",
       "         <td>Date:</td>           <td>2020-11-01 18:31</td>          <td>BIC:</td>        <td>7068.3090</td>\n",
       "</tr>\n",
       "<tr>\n",
       "   <td>No. Observations:</td>          <td>237120</td>          <td>Log-Likelihood:</td>   <td>-3509.4</td> \n",
       "</tr>\n",
       "<tr>\n",
       "       <td>Df Model:</td>                 <td>3</td>               <td>LL-Null:</td>       <td>0.0000</td>  \n",
       "</tr>\n",
       "<tr>\n",
       "     <td>Df Residuals:</td>            <td>237116</td>           <td>LLR p-value:</td>     <td>1.0000</td>  \n",
       "</tr>\n",
       "<tr>\n",
       "      <td>Converged:</td>              <td>1.0000</td>              <td>Scale:</td>        <td>1.0000</td>  \n",
       "</tr>\n",
       "<tr>\n",
       "    <td>No. Iterations:</td>           <td>9.0000</td>                 <td></td>              <td></td>     \n",
       "</tr>\n",
       "</table>\n",
       "<table class=\"simpletable\">\n",
       "<tr>\n",
       "          <td></td>           <th>Coef.</th>  <th>Std.Err.</th>     <th>z</th>     <th>P>|z|</th> <th>[0.025</th>  <th>0.975]</th> \n",
       "</tr>\n",
       "<tr>\n",
       "  <th>perc_minority</th>     <td>0.7141</td>   <td>0.1288</td>   <td>5.5451</td>  <td>0.0000</td> <td>0.4617</td>  <td>0.9665</td> \n",
       "</tr>\n",
       "<tr>\n",
       "  <th>is_sundown_county</th> <td>-0.0177</td>  <td>0.0438</td>   <td>-0.4054</td> <td>0.6852</td> <td>-0.1035</td> <td>0.0680</td> \n",
       "</tr>\n",
       "<tr>\n",
       "  <th>perc_poverty</th>      <td>-0.1105</td>  <td>0.0029</td>  <td>-38.1472</td> <td>0.0000</td> <td>-0.1161</td> <td>-0.1048</td>\n",
       "</tr>\n",
       "<tr>\n",
       "  <th>median_income</th>     <td>-0.0001</td>  <td>0.0000</td>  <td>-71.7462</td> <td>0.0000</td> <td>-0.0001</td> <td>-0.0000</td>\n",
       "</tr>\n",
       "</table>"
      ],
      "text/plain": [
       "<class 'statsmodels.iolib.summary2.Summary'>\n",
       "\"\"\"\n",
       "                            Results: Logit\n",
       "======================================================================\n",
       "Model:              Logit                  Pseudo R-squared: inf      \n",
       "Dependent Variable: Death_Population_Ratio AIC:              7026.8037\n",
       "Date:               2020-11-01 18:31       BIC:              7068.3090\n",
       "No. Observations:   237120                 Log-Likelihood:   -3509.4  \n",
       "Df Model:           3                      LL-Null:          0.0000   \n",
       "Df Residuals:       237116                 LLR p-value:      1.0000   \n",
       "Converged:          1.0000                 Scale:            1.0000   \n",
       "No. Iterations:     9.0000                                            \n",
       "----------------------------------------------------------------------\n",
       "                       Coef.  Std.Err.    z     P>|z|   [0.025  0.975]\n",
       "----------------------------------------------------------------------\n",
       "perc_minority          0.7141   0.1288   5.5451 0.0000  0.4617  0.9665\n",
       "is_sundown_county     -0.0177   0.0438  -0.4054 0.6852 -0.1035  0.0680\n",
       "perc_poverty          -0.1105   0.0029 -38.1472 0.0000 -0.1161 -0.1048\n",
       "median_income         -0.0001   0.0000 -71.7462 0.0000 -0.0001 -0.0000\n",
       "======================================================================\n",
       "\n",
       "\"\"\""
      ]
     },
     "execution_count": 31,
     "metadata": {},
     "output_type": "execute_result"
    }
   ],
   "source": [
    "result.summary2()"
   ]
  }
 ],
 "metadata": {
  "kernelspec": {
   "display_name": "venv",
   "language": "python",
   "name": "venv"
  },
  "language_info": {
   "codemirror_mode": {
    "name": "ipython",
    "version": 3
   },
   "file_extension": ".py",
   "mimetype": "text/x-python",
   "name": "python",
   "nbconvert_exporter": "python",
   "pygments_lexer": "ipython3",
   "version": "3.7.7"
  }
 },
 "nbformat": 4,
 "nbformat_minor": 4
}
