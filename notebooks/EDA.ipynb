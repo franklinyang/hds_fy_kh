{
 "cells": [
  {
   "cell_type": "code",
   "execution_count": 25,
   "metadata": {},
   "outputs": [],
   "source": [
    "import pandas as pd\n",
    "import numpy as np\n",
    "import matplotlib.pyplot as plt\n",
    "import seaborn as sns\n",
    "\n",
    "import warnings\n",
    "warnings.filterwarnings(\"ignore\")"
   ]
  },
  {
   "cell_type": "markdown",
   "metadata": {},
   "source": [
    "## create mortality data csv files"
   ]
  },
  {
   "cell_type": "code",
   "execution_count": 6,
   "metadata": {},
   "outputs": [],
   "source": [
    "df_mortality = pd.read_csv('../data/wonder_mortality.txt', sep = '\\t')"
   ]
  },
  {
   "cell_type": "code",
   "execution_count": 7,
   "metadata": {},
   "outputs": [
    {
     "data": {
      "text/plain": [
       "White                               3146\n",
       "Black or African American           2211\n",
       "American Indian or Alaska Native    1345\n",
       "Asian or Pacific Islander           1311\n",
       "Name: Race, dtype: int64"
      ]
     },
     "execution_count": 7,
     "metadata": {},
     "output_type": "execute_result"
    }
   ],
   "source": [
    "df_mortality.Race.value_counts()"
   ]
  },
  {
   "cell_type": "code",
   "execution_count": 8,
   "metadata": {},
   "outputs": [],
   "source": [
    "df_mortality[df_mortality.Race == 'Black or African American'][['County', 'County Code', 'Deaths', 'Population']].reset_index(drop = True).to_csv('../data/black_total_mortality.csv')"
   ]
  },
  {
   "cell_type": "code",
   "execution_count": 9,
   "metadata": {},
   "outputs": [],
   "source": [
    "df_mortality[df_mortality.Race == 'White'][['County', 'County Code', 'Deaths', 'Population']].reset_index(drop = True).to_csv('../data/white_total_mortality.csv')"
   ]
  },
  {
   "cell_type": "code",
   "execution_count": null,
   "metadata": {},
   "outputs": [],
   "source": []
  },
  {
   "cell_type": "code",
   "execution_count": 10,
   "metadata": {},
   "outputs": [],
   "source": [
    "df_mortality_infant = pd.read_csv('../data/mortality_infant.txt', sep = '\\t')"
   ]
  },
  {
   "cell_type": "code",
   "execution_count": 11,
   "metadata": {},
   "outputs": [],
   "source": [
    "df_mortality_infant[df_mortality_infant.Race == 'Black or African American'][['County', 'County Code', 'Deaths', 'Population']].reset_index(drop = True).to_csv('../data/black_infant_mortality.csv')\n",
    "df_mortality_infant[df_mortality_infant.Race == 'White'][['County', 'County Code', 'Deaths', 'Population']].reset_index(drop = True).to_csv('../data/white_infant_mortality.csv')"
   ]
  },
  {
   "cell_type": "code",
   "execution_count": null,
   "metadata": {},
   "outputs": [],
   "source": []
  },
  {
   "cell_type": "code",
   "execution_count": null,
   "metadata": {},
   "outputs": [],
   "source": []
  },
  {
   "cell_type": "code",
   "execution_count": null,
   "metadata": {},
   "outputs": [],
   "source": []
  },
  {
   "cell_type": "markdown",
   "metadata": {},
   "source": [
    "## loading data"
   ]
  },
  {
   "cell_type": "code",
   "execution_count": 12,
   "metadata": {},
   "outputs": [],
   "source": [
    "df_black_total_mortality = pd.read_csv('../data/black_total_mortality.csv', index_col = 0)\n",
    "df_white_total_mortality = pd.read_csv('../data/white_total_mortality.csv', index_col = 0)\n",
    "df_black_infant_mortality = pd.read_csv('../data/black_infant_mortality.csv', index_col = 0)\n",
    "df_white_infant_mortality = pd.read_csv('../data/white_infant_mortality.csv', index_col = 0)"
   ]
  },
  {
   "cell_type": "code",
   "execution_count": 13,
   "metadata": {},
   "outputs": [
    {
     "name": "stdout",
     "output_type": "stream",
     "text": [
      "County number for black infant csv:  1033\n",
      "County number for black total csv:  2211\n",
      "County number for white infant csv:  2490\n",
      "County number for white total csv:  3146\n"
     ]
    }
   ],
   "source": [
    "for i in ['black', 'white']:\n",
    "    for j in ['infant', 'total']:\n",
    "        exec(\"df_\" + i + \"_\" + j +\"_mortality['County_Split'] = df_\" + i + \"_\" + j +\"_mortality.County.str.split(',').apply(lambda x: x[0])\")\n",
    "        exec(\"df_\" + i + \"_\" + j +\"_mortality['County_Name'] = df_\" + i + \"_\" + j +\"_mortality.County_Split.str.split().apply(lambda x: x[0])\")\n",
    "        exec(\"df_\" + i + \"_\" + j +\"_mortality['State'] = df_\" + i + \"_\" + j +\"_mortality.County.str.split(',').apply(lambda x: x[1])\")\n",
    "        eval(\"print('County number for \" + i + \" \" + j + \" csv: ', len(df_\" + i + \"_\" + j +\"_mortality.County.unique()))\")\n",
    "        "
   ]
  },
  {
   "cell_type": "markdown",
   "metadata": {},
   "source": [
    "## the stats for black infant group is less than half of the counterpart... many counties don't record the black infant stat? but record the white infant stat? probably only going to study the counties that are in the black infant csv group"
   ]
  },
  {
   "cell_type": "code",
   "execution_count": 14,
   "metadata": {},
   "outputs": [],
   "source": [
    "df_infant_stat_counties_white_no_black = np.setdiff1d(df_white_infant_mortality.County.unique(), df_black_infant_mortality.County.unique()) "
   ]
  },
  {
   "cell_type": "code",
   "execution_count": 15,
   "metadata": {},
   "outputs": [],
   "source": [
    "df_infant_stat_counties_black_no_white = np.setdiff1d(df_black_infant_mortality.County.unique(), df_white_infant_mortality.County.unique()) "
   ]
  },
  {
   "cell_type": "code",
   "execution_count": 16,
   "metadata": {},
   "outputs": [
    {
     "data": {
      "text/plain": [
       "78"
      ]
     },
     "execution_count": 16,
     "metadata": {},
     "output_type": "execute_result"
    }
   ],
   "source": [
    "len(df_infant_stat_counties_black_no_white)"
   ]
  },
  {
   "cell_type": "code",
   "execution_count": 17,
   "metadata": {},
   "outputs": [
    {
     "data": {
      "text/plain": [
       "1535"
      ]
     },
     "execution_count": 17,
     "metadata": {},
     "output_type": "execute_result"
    }
   ],
   "source": [
    "len(df_infant_stat_counties_white_no_black)"
   ]
  },
  {
   "cell_type": "code",
   "execution_count": 18,
   "metadata": {},
   "outputs": [],
   "source": [
    "df_black_total_mortality = df_black_total_mortality[df_black_total_mortality.County.isin(df_black_infant_mortality.County.values)].reset_index(drop = True)\n",
    "df_white_total_mortality = df_white_total_mortality[df_white_total_mortality.County.isin(df_black_infant_mortality.County.values)].reset_index(drop = True)\n",
    "df_white_infant_mortality = df_white_infant_mortality[df_white_infant_mortality.County.isin(df_black_infant_mortality.County.values)].reset_index(drop = True)"
   ]
  },
  {
   "cell_type": "code",
   "execution_count": 19,
   "metadata": {},
   "outputs": [],
   "source": [
    "for i in ['black', 'white']:\n",
    "    for j in ['infant', 'total']:\n",
    "        exec(\"df_\" + i + \"_\" + j +\"_mortality['Death_Population_Ratio'] = df_\" + i + \"_\" + j +\"_mortality['Deaths']/ df_\" + i + \"_\" + j +\"_mortality['Population']\")"
   ]
  },
  {
   "cell_type": "code",
   "execution_count": 20,
   "metadata": {},
   "outputs": [],
   "source": [
    "df_black_total_mortality[\"Race\"] = 'Black'\n",
    "df_black_infant_mortality[\"Race\"] = 'Black'\n",
    "df_white_total_mortality[\"Race\"] = 'White'\n",
    "df_white_infant_mortality[\"Race\"] = 'White'"
   ]
  },
  {
   "cell_type": "code",
   "execution_count": 26,
   "metadata": {},
   "outputs": [],
   "source": [
    "df_total_mortality = pd.concat([df_black_total_mortality, df_white_total_mortality])\n",
    "df_infant_mortality = pd.concat([df_black_infant_mortality, df_white_infant_mortality])"
   ]
  },
  {
   "cell_type": "code",
   "execution_count": 27,
   "metadata": {},
   "outputs": [
    {
     "data": {
      "text/plain": [
       "<seaborn.axisgrid.FacetGrid at 0x11e044690>"
      ]
     },
     "execution_count": 27,
     "metadata": {},
     "output_type": "execute_result"
    },
    {
     "data": {
      "image/png": "[encoded data removed]",
      "text/plain": [
       "<Figure size 360x360 with 1 Axes>"
      ]
     },
     "metadata": {
      "needs_background": "light"
     },
     "output_type": "display_data"
    }
   ],
   "source": [
    "sns.catplot(data=df_infant_mortality, kind=\"box\", x=\"Race\", y=\"Death_Population_Ratio\")"
   ]
  },
  {
   "cell_type": "code",
   "execution_count": 28,
   "metadata": {},
   "outputs": [
    {
     "data": {
      "text/plain": [
       "<seaborn.axisgrid.FacetGrid at 0x1274eba50>"
      ]
     },
     "execution_count": 28,
     "metadata": {},
     "output_type": "execute_result"
    },
    {
     "data": {
      "image/png": "[encoded data removed]",
      "text/plain": [
       "<Figure size 360x360 with 1 Axes>"
      ]
     },
     "metadata": {
      "needs_background": "light"
     },
     "output_type": "display_data"
    }
   ],
   "source": [
    "sns.catplot(data=df_infant_mortality, kind=\"violin\", x=\"Race\", y=\"Death_Population_Ratio\")"
   ]
  },
  {
   "cell_type": "code",
   "execution_count": 29,
   "metadata": {},
   "outputs": [
    {
     "data": {
      "text/plain": [
       "<seaborn.axisgrid.FacetGrid at 0x1274711d0>"
      ]
     },
     "execution_count": 29,
     "metadata": {},
     "output_type": "execute_result"
    },
    {
     "data": {
      "image/png": "[encoded data removed]",
      "text/plain": [
       "<Figure size 360x360 with 1 Axes>"
      ]
     },
     "metadata": {
      "needs_background": "light"
     },
     "output_type": "display_data"
    }
   ],
   "source": [
    "sns.catplot(data=df_infant_mortality, kind=\"swarm\", x=\"Race\", y=\"Death_Population_Ratio\")"
   ]
  },
  {
   "cell_type": "code",
   "execution_count": null,
   "metadata": {},
   "outputs": [],
   "source": []
  },
  {
   "cell_type": "code",
   "execution_count": 30,
   "metadata": {},
   "outputs": [
    {
     "data": {
      "text/plain": [
       "<seaborn.axisgrid.FacetGrid at 0x1276976d0>"
      ]
     },
     "execution_count": 30,
     "metadata": {},
     "output_type": "execute_result"
    },
    {
     "data": {
      "image/png": "[encoded data removed]",
      "text/plain": [
       "<Figure size 360x360 with 1 Axes>"
      ]
     },
     "metadata": {
      "needs_background": "light"
     },
     "output_type": "display_data"
    }
   ],
   "source": [
    "sns.catplot(data=df_total_mortality, kind=\"violin\", x=\"Race\", y=\"Death_Population_Ratio\")"
   ]
  },
  {
   "cell_type": "code",
   "execution_count": null,
   "metadata": {},
   "outputs": [],
   "source": []
  },
  {
   "cell_type": "code",
   "execution_count": null,
   "metadata": {},
   "outputs": [],
   "source": []
  },
  {
   "cell_type": "markdown",
   "metadata": {},
   "source": [
    "## Sundown town data loading"
   ]
  },
  {
   "cell_type": "code",
   "execution_count": 31,
   "metadata": {},
   "outputs": [],
   "source": [
    "df_sundown = pd.read_csv('../data/sundown_with_counties.csv')"
   ]
  },
  {
   "cell_type": "code",
   "execution_count": 32,
   "metadata": {},
   "outputs": [
    {
     "data": {
      "text/html": [
       "<div>\n",
       "<style scoped>\n",
       "    .dataframe tbody tr th:only-of-type {\n",
       "        vertical-align: middle;\n",
       "    }\n",
       "\n",
       "    .dataframe tbody tr th {\n",
       "        vertical-align: top;\n",
       "    }\n",
       "\n",
       "    .dataframe thead th {\n",
       "        text-align: right;\n",
       "    }\n",
       "</style>\n",
       "<table border=\"1\" class=\"dataframe\">\n",
       "  <thead>\n",
       "    <tr style=\"text-align: right;\">\n",
       "      <th></th>\n",
       "      <th>Unnamed: 0</th>\n",
       "      <th>id</th>\n",
       "      <th>city</th>\n",
       "      <th>state</th>\n",
       "      <th>status</th>\n",
       "      <th>county</th>\n",
       "    </tr>\n",
       "  </thead>\n",
       "  <tbody>\n",
       "    <tr>\n",
       "      <th>0</th>\n",
       "      <td>0</td>\n",
       "      <td>8</td>\n",
       "      <td>Anna</td>\n",
       "      <td>IL</td>\n",
       "      <td>Surely</td>\n",
       "      <td>Union County, IL</td>\n",
       "    </tr>\n",
       "    <tr>\n",
       "      <th>1</th>\n",
       "      <td>1</td>\n",
       "      <td>11</td>\n",
       "      <td>Mize</td>\n",
       "      <td>MS</td>\n",
       "      <td>Surely</td>\n",
       "      <td>Smith County, MS</td>\n",
       "    </tr>\n",
       "  </tbody>\n",
       "</table>\n",
       "</div>"
      ],
      "text/plain": [
       "   Unnamed: 0  id  city state  status            county\n",
       "0           0   8  Anna    IL  Surely  Union County, IL\n",
       "1           1  11  Mize    MS  Surely  Smith County, MS"
      ]
     },
     "execution_count": 32,
     "metadata": {},
     "output_type": "execute_result"
    }
   ],
   "source": [
    "df_sundown.head(2)"
   ]
  },
  {
   "cell_type": "code",
   "execution_count": 33,
   "metadata": {},
   "outputs": [],
   "source": [
    "df_sundown['County_with_states'] = [i + ', ' + df_sundown.state.values[idx] for idx, i in enumerate(df_sundown.county.values)]"
   ]
  },
  {
   "cell_type": "code",
   "execution_count": 34,
   "metadata": {},
   "outputs": [
    {
     "data": {
      "text/plain": [
       "2258"
      ]
     },
     "execution_count": 34,
     "metadata": {},
     "output_type": "execute_result"
    }
   ],
   "source": [
    "len(df_sundown)"
   ]
  },
  {
   "cell_type": "code",
   "execution_count": 35,
   "metadata": {},
   "outputs": [
    {
     "data": {
      "text/plain": [
       "0              Union County, IL, IL\n",
       "1              Smith County, MS, MS\n",
       "2           Harrison County, MS, MS\n",
       "3              Hinds County, MS, MS\n",
       "4             Rankin County, MS, MS\n",
       "                   ...             \n",
       "2242         Luzerne County, PA, PA\n",
       "2246         Westchester County, NY\n",
       "2253            Wood County, TX, TX\n",
       "2254    Pottawatomie County, OK, OK\n",
       "2257           Union County, NJ, NJ\n",
       "Name: County_with_states, Length: 1049, dtype: object"
      ]
     },
     "execution_count": 35,
     "metadata": {},
     "output_type": "execute_result"
    }
   ],
   "source": [
    "df_sundown['County_with_states'].drop_duplicates()"
   ]
  },
  {
   "cell_type": "code",
   "execution_count": 36,
   "metadata": {},
   "outputs": [
    {
     "data": {
      "text/plain": [
       "1049"
      ]
     },
     "execution_count": 36,
     "metadata": {},
     "output_type": "execute_result"
    }
   ],
   "source": [
    "len(df_sundown[['state','county']].drop_duplicates())"
   ]
  },
  {
   "cell_type": "code",
   "execution_count": 37,
   "metadata": {},
   "outputs": [
    {
     "data": {
      "text/plain": [
       "1048"
      ]
     },
     "execution_count": 37,
     "metadata": {},
     "output_type": "execute_result"
    }
   ],
   "source": [
    "len(df_sundown.county.unique())"
   ]
  },
  {
   "cell_type": "code",
   "execution_count": 38,
   "metadata": {},
   "outputs": [],
   "source": [
    "df_sundown.state = df_sundown.state.str.upper()"
   ]
  },
  {
   "cell_type": "code",
   "execution_count": 39,
   "metadata": {},
   "outputs": [],
   "source": [
    "sundown_state_stat = df_sundown.state.value_counts()"
   ]
  },
  {
   "cell_type": "code",
   "execution_count": 40,
   "metadata": {},
   "outputs": [],
   "source": [
    "df_sundown_state_stats = pd.DataFrame(sundown_state_stat).reset_index()"
   ]
  },
  {
   "cell_type": "code",
   "execution_count": 41,
   "metadata": {},
   "outputs": [],
   "source": [
    "df_sundown_state_stats = df_sundown_state_stats.rename(columns = {\"index\": \"State\", \"state\":\"# of Sundown Town\"})"
   ]
  },
  {
   "cell_type": "code",
   "execution_count": 42,
   "metadata": {},
   "outputs": [
    {
     "data": {
      "text/plain": [
       "Text(0.5, 1.0, '# of Sundown Towns in Different State')"
      ]
     },
     "execution_count": 42,
     "metadata": {},
     "output_type": "execute_result"
    },
    {
     "data": {
      "image/png": "[encoded data removed]",
      "text/plain": [
       "<Figure size 720x360 with 1 Axes>"
      ]
     },
     "metadata": {
      "needs_background": "light"
     },
     "output_type": "display_data"
    }
   ],
   "source": [
    "import matplotlib.pyplot as plt\n",
    "import seaborn as sns\n",
    "plt.figure(figsize=(10,5))\n",
    "chart = sns.barplot(data = df_sundown_state_stats, x = 'State', y = '# of Sundown Town')\n",
    "x = chart.set_xticklabels(chart.get_xticklabels(), rotation=60)\n",
    "chart.set_title('# of Sundown Towns in Different State')"
   ]
  },
  {
   "cell_type": "code",
   "execution_count": 88,
   "metadata": {},
   "outputs": [
    {
     "data": {
      "text/plain": [
       "47.041666666666664"
      ]
     },
     "execution_count": 88,
     "metadata": {},
     "output_type": "execute_result"
    }
   ],
   "source": [
    "df_sundown_state_stats['# of Sundown Town'].mean()"
   ]
  },
  {
   "cell_type": "code",
   "execution_count": 43,
   "metadata": {},
   "outputs": [],
   "source": [
    "df_sundown_state_stats = df_sundown_state_stats.sort_values(by = '# of Sundown Town', ascending = False)"
   ]
  },
  {
   "cell_type": "code",
   "execution_count": 44,
   "metadata": {},
   "outputs": [
    {
     "ename": "ValueError",
     "evalue": "Could not interpret input 'normalized # of Sundown Towns'",
     "output_type": "error",
     "traceback": [
      "\u001b[0;31m---------------------------------------------------------------------------\u001b[0m",
      "\u001b[0;31mValueError\u001b[0m                                Traceback (most recent call last)",
      "\u001b[0;32m<ipython-input-44-d78132cefd53>\u001b[0m in \u001b[0;36m<module>\u001b[0;34m\u001b[0m\n\u001b[1;32m      1\u001b[0m \u001b[0mplt\u001b[0m\u001b[0;34m.\u001b[0m\u001b[0mfigure\u001b[0m\u001b[0;34m(\u001b[0m\u001b[0mfigsize\u001b[0m\u001b[0;34m=\u001b[0m\u001b[0;34m(\u001b[0m\u001b[0;36m10\u001b[0m\u001b[0;34m,\u001b[0m\u001b[0;36m5\u001b[0m\u001b[0;34m)\u001b[0m\u001b[0;34m)\u001b[0m\u001b[0;34m\u001b[0m\u001b[0;34m\u001b[0m\u001b[0m\n\u001b[0;32m----> 2\u001b[0;31m \u001b[0mchart\u001b[0m \u001b[0;34m=\u001b[0m \u001b[0msns\u001b[0m\u001b[0;34m.\u001b[0m\u001b[0mbarplot\u001b[0m\u001b[0;34m(\u001b[0m\u001b[0mdata\u001b[0m \u001b[0;34m=\u001b[0m \u001b[0mdf_sundown_state_stats\u001b[0m\u001b[0;34m,\u001b[0m \u001b[0mx\u001b[0m \u001b[0;34m=\u001b[0m \u001b[0;34m'State'\u001b[0m\u001b[0;34m,\u001b[0m \u001b[0my\u001b[0m \u001b[0;34m=\u001b[0m \u001b[0;34m'normalized # of Sundown Towns'\u001b[0m\u001b[0;34m)\u001b[0m\u001b[0;34m\u001b[0m\u001b[0;34m\u001b[0m\u001b[0m\n\u001b[0m\u001b[1;32m      3\u001b[0m \u001b[0mx\u001b[0m \u001b[0;34m=\u001b[0m \u001b[0mchart\u001b[0m\u001b[0;34m.\u001b[0m\u001b[0mset_xticklabels\u001b[0m\u001b[0;34m(\u001b[0m\u001b[0mchart\u001b[0m\u001b[0;34m.\u001b[0m\u001b[0mget_xticklabels\u001b[0m\u001b[0;34m(\u001b[0m\u001b[0;34m)\u001b[0m\u001b[0;34m,\u001b[0m \u001b[0mrotation\u001b[0m\u001b[0;34m=\u001b[0m\u001b[0;36m60\u001b[0m\u001b[0;34m)\u001b[0m\u001b[0;34m\u001b[0m\u001b[0;34m\u001b[0m\u001b[0m\n\u001b[1;32m      4\u001b[0m \u001b[0mchart\u001b[0m\u001b[0;34m.\u001b[0m\u001b[0mset_title\u001b[0m\u001b[0;34m(\u001b[0m\u001b[0;34m'Normalized # of Sundown Towns in Different State'\u001b[0m\u001b[0;34m)\u001b[0m\u001b[0;34m\u001b[0m\u001b[0;34m\u001b[0m\u001b[0m\n",
      "\u001b[0;32m~/skool/capstone/project/venv/lib/python3.7/site-packages/seaborn/_decorators.py\u001b[0m in \u001b[0;36minner_f\u001b[0;34m(*args, **kwargs)\u001b[0m\n\u001b[1;32m     44\u001b[0m             )\n\u001b[1;32m     45\u001b[0m         \u001b[0mkwargs\u001b[0m\u001b[0;34m.\u001b[0m\u001b[0mupdate\u001b[0m\u001b[0;34m(\u001b[0m\u001b[0;34m{\u001b[0m\u001b[0mk\u001b[0m\u001b[0;34m:\u001b[0m \u001b[0marg\u001b[0m \u001b[0;32mfor\u001b[0m \u001b[0mk\u001b[0m\u001b[0;34m,\u001b[0m \u001b[0marg\u001b[0m \u001b[0;32min\u001b[0m \u001b[0mzip\u001b[0m\u001b[0;34m(\u001b[0m\u001b[0msig\u001b[0m\u001b[0;34m.\u001b[0m\u001b[0mparameters\u001b[0m\u001b[0;34m,\u001b[0m \u001b[0margs\u001b[0m\u001b[0;34m)\u001b[0m\u001b[0;34m}\u001b[0m\u001b[0;34m)\u001b[0m\u001b[0;34m\u001b[0m\u001b[0;34m\u001b[0m\u001b[0m\n\u001b[0;32m---> 46\u001b[0;31m         \u001b[0;32mreturn\u001b[0m \u001b[0mf\u001b[0m\u001b[0;34m(\u001b[0m\u001b[0;34m**\u001b[0m\u001b[0mkwargs\u001b[0m\u001b[0;34m)\u001b[0m\u001b[0;34m\u001b[0m\u001b[0;34m\u001b[0m\u001b[0m\n\u001b[0m\u001b[1;32m     47\u001b[0m     \u001b[0;32mreturn\u001b[0m \u001b[0minner_f\u001b[0m\u001b[0;34m\u001b[0m\u001b[0;34m\u001b[0m\u001b[0m\n\u001b[1;32m     48\u001b[0m \u001b[0;34m\u001b[0m\u001b[0m\n",
      "\u001b[0;32m~/skool/capstone/project/venv/lib/python3.7/site-packages/seaborn/categorical.py\u001b[0m in \u001b[0;36mbarplot\u001b[0;34m(x, y, hue, data, order, hue_order, estimator, ci, n_boot, units, seed, orient, color, palette, saturation, errcolor, errwidth, capsize, dodge, ax, **kwargs)\u001b[0m\n\u001b[1;32m   3170\u001b[0m                           \u001b[0mestimator\u001b[0m\u001b[0;34m,\u001b[0m \u001b[0mci\u001b[0m\u001b[0;34m,\u001b[0m \u001b[0mn_boot\u001b[0m\u001b[0;34m,\u001b[0m \u001b[0munits\u001b[0m\u001b[0;34m,\u001b[0m \u001b[0mseed\u001b[0m\u001b[0;34m,\u001b[0m\u001b[0;34m\u001b[0m\u001b[0;34m\u001b[0m\u001b[0m\n\u001b[1;32m   3171\u001b[0m                           \u001b[0morient\u001b[0m\u001b[0;34m,\u001b[0m \u001b[0mcolor\u001b[0m\u001b[0;34m,\u001b[0m \u001b[0mpalette\u001b[0m\u001b[0;34m,\u001b[0m \u001b[0msaturation\u001b[0m\u001b[0;34m,\u001b[0m\u001b[0;34m\u001b[0m\u001b[0;34m\u001b[0m\u001b[0m\n\u001b[0;32m-> 3172\u001b[0;31m                           errcolor, errwidth, capsize, dodge)\n\u001b[0m\u001b[1;32m   3173\u001b[0m \u001b[0;34m\u001b[0m\u001b[0m\n\u001b[1;32m   3174\u001b[0m     \u001b[0;32mif\u001b[0m \u001b[0max\u001b[0m \u001b[0;32mis\u001b[0m \u001b[0;32mNone\u001b[0m\u001b[0;34m:\u001b[0m\u001b[0;34m\u001b[0m\u001b[0;34m\u001b[0m\u001b[0m\n",
      "\u001b[0;32m~/skool/capstone/project/venv/lib/python3.7/site-packages/seaborn/categorical.py\u001b[0m in \u001b[0;36m__init__\u001b[0;34m(self, x, y, hue, data, order, hue_order, estimator, ci, n_boot, units, seed, orient, color, palette, saturation, errcolor, errwidth, capsize, dodge)\u001b[0m\n\u001b[1;32m   1583\u001b[0m         \u001b[0;34m\"\"\"Initialize the plotter.\"\"\"\u001b[0m\u001b[0;34m\u001b[0m\u001b[0;34m\u001b[0m\u001b[0m\n\u001b[1;32m   1584\u001b[0m         self.establish_variables(x, y, hue, data, orient,\n\u001b[0;32m-> 1585\u001b[0;31m                                  order, hue_order, units)\n\u001b[0m\u001b[1;32m   1586\u001b[0m         \u001b[0mself\u001b[0m\u001b[0;34m.\u001b[0m\u001b[0mestablish_colors\u001b[0m\u001b[0;34m(\u001b[0m\u001b[0mcolor\u001b[0m\u001b[0;34m,\u001b[0m \u001b[0mpalette\u001b[0m\u001b[0;34m,\u001b[0m \u001b[0msaturation\u001b[0m\u001b[0;34m)\u001b[0m\u001b[0;34m\u001b[0m\u001b[0;34m\u001b[0m\u001b[0m\n\u001b[1;32m   1587\u001b[0m         \u001b[0mself\u001b[0m\u001b[0;34m.\u001b[0m\u001b[0mestimate_statistic\u001b[0m\u001b[0;34m(\u001b[0m\u001b[0mestimator\u001b[0m\u001b[0;34m,\u001b[0m \u001b[0mci\u001b[0m\u001b[0;34m,\u001b[0m \u001b[0mn_boot\u001b[0m\u001b[0;34m,\u001b[0m \u001b[0mseed\u001b[0m\u001b[0;34m)\u001b[0m\u001b[0;34m\u001b[0m\u001b[0;34m\u001b[0m\u001b[0m\n",
      "\u001b[0;32m~/skool/capstone/project/venv/lib/python3.7/site-packages/seaborn/categorical.py\u001b[0m in \u001b[0;36mestablish_variables\u001b[0;34m(self, x, y, hue, data, orient, order, hue_order, units)\u001b[0m\n\u001b[1;32m    151\u001b[0m                 \u001b[0;32mif\u001b[0m \u001b[0misinstance\u001b[0m\u001b[0;34m(\u001b[0m\u001b[0mvar\u001b[0m\u001b[0;34m,\u001b[0m \u001b[0mstr\u001b[0m\u001b[0;34m)\u001b[0m\u001b[0;34m:\u001b[0m\u001b[0;34m\u001b[0m\u001b[0;34m\u001b[0m\u001b[0m\n\u001b[1;32m    152\u001b[0m                     \u001b[0merr\u001b[0m \u001b[0;34m=\u001b[0m \u001b[0;34m\"Could not interpret input '{}'\"\u001b[0m\u001b[0;34m.\u001b[0m\u001b[0mformat\u001b[0m\u001b[0;34m(\u001b[0m\u001b[0mvar\u001b[0m\u001b[0;34m)\u001b[0m\u001b[0;34m\u001b[0m\u001b[0;34m\u001b[0m\u001b[0m\n\u001b[0;32m--> 153\u001b[0;31m                     \u001b[0;32mraise\u001b[0m \u001b[0mValueError\u001b[0m\u001b[0;34m(\u001b[0m\u001b[0merr\u001b[0m\u001b[0;34m)\u001b[0m\u001b[0;34m\u001b[0m\u001b[0;34m\u001b[0m\u001b[0m\n\u001b[0m\u001b[1;32m    154\u001b[0m \u001b[0;34m\u001b[0m\u001b[0m\n\u001b[1;32m    155\u001b[0m             \u001b[0;31m# Figure out the plotting orientation\u001b[0m\u001b[0;34m\u001b[0m\u001b[0;34m\u001b[0m\u001b[0;34m\u001b[0m\u001b[0m\n",
      "\u001b[0;31mValueError\u001b[0m: Could not interpret input 'normalized # of Sundown Towns'"
     ]
    },
    {
     "data": {
      "text/plain": [
       "<Figure size 720x360 with 0 Axes>"
      ]
     },
     "metadata": {},
     "output_type": "display_data"
    }
   ],
   "source": [
    "plt.figure(figsize=(10,5))\n",
    "chart = sns.barplot(data = df_sundown_state_stats, x = 'State', y = 'normalized # of Sundown Towns')\n",
    "x = chart.set_xticklabels(chart.get_xticklabels(), rotation=60)\n",
    "chart.set_title('Normalized # of Sundown Towns in Different State')"
   ]
  },
  {
   "cell_type": "code",
   "execution_count": 45,
   "metadata": {},
   "outputs": [],
   "source": [
    "df_abb_state = pd.read_csv('../data/states.csv')"
   ]
  },
  {
   "cell_type": "code",
   "execution_count": 46,
   "metadata": {},
   "outputs": [],
   "source": [
    "code2state = dict(df_abb_state[['State Code', 'State']].values)\n",
    "state2code = dict(df_abb_state[['State','State Code']].values)"
   ]
  },
  {
   "cell_type": "code",
   "execution_count": 47,
   "metadata": {},
   "outputs": [],
   "source": [
    "df_population = pd.read_excel('../data/population.xlsx')"
   ]
  },
  {
   "cell_type": "code",
   "execution_count": 48,
   "metadata": {},
   "outputs": [],
   "source": [
    "df_population = df_population[['table with row headers in column A and column headers in rows 3 through 4. (leading dots indicate sub-parts)', 'Unnamed: 12']].iloc[4:59]"
   ]
  },
  {
   "cell_type": "code",
   "execution_count": 49,
   "metadata": {},
   "outputs": [],
   "source": [
    "df_population = df_population.rename(columns={'table with row headers in column A and column headers in rows 3 through 4. (leading dots indicate sub-parts)': 'Geography', 'Unnamed: 12': 'Population'})"
   ]
  },
  {
   "cell_type": "code",
   "execution_count": 50,
   "metadata": {},
   "outputs": [],
   "source": [
    "df_population[\"Geography\"] = df_population.Geography.str.split('.').apply(lambda x: x[-1])"
   ]
  },
  {
   "cell_type": "code",
   "execution_count": 51,
   "metadata": {},
   "outputs": [],
   "source": [
    "df_population_state = df_population.loc[8:]"
   ]
  },
  {
   "cell_type": "code",
   "execution_count": 52,
   "metadata": {},
   "outputs": [],
   "source": [
    "df_population_state[\"Code\"] = df_population_state.Geography.apply(lambda x: state2code[x])"
   ]
  },
  {
   "cell_type": "code",
   "execution_count": 53,
   "metadata": {},
   "outputs": [],
   "source": [
    "df_sundown_state_stats = df_sundown_state_stats.merge(df_population_state, left_on='State', right_on='Code')"
   ]
  },
  {
   "cell_type": "code",
   "execution_count": 54,
   "metadata": {},
   "outputs": [],
   "source": [
    "df_sundown_state_stats['normalized # of Sundown Towns'] = df_sundown_state_stats['# of Sundown Town'].values/df_sundown_state_stats['Population'].values"
   ]
  },
  {
   "cell_type": "code",
   "execution_count": 55,
   "metadata": {},
   "outputs": [],
   "source": [
    "df_sundown_state_stats = df_sundown_state_stats.sort_values(by = 'normalized # of Sundown Towns', ascending = False)"
   ]
  },
  {
   "cell_type": "code",
   "execution_count": 56,
   "metadata": {},
   "outputs": [],
   "source": [
    "top10_states = df_sundown_state_stats.iloc[:10].State.values\n",
    "bottom10_states = df_sundown_state_stats.iloc[-10:].State.values"
   ]
  },
  {
   "cell_type": "code",
   "execution_count": 57,
   "metadata": {},
   "outputs": [
    {
     "data": {
      "text/plain": [
       "Text(0.5, 1.0, 'Normalized # of Sundown Towns in Different State')"
      ]
     },
     "execution_count": 57,
     "metadata": {},
     "output_type": "execute_result"
    },
    {
     "data": {
      "image/png": "[encoded data removed]",
      "text/plain": [
       "<Figure size 720x360 with 1 Axes>"
      ]
     },
     "metadata": {
      "needs_background": "light"
     },
     "output_type": "display_data"
    }
   ],
   "source": [
    "plt.figure(figsize=(10,5))\n",
    "chart = sns.barplot(data = df_sundown_state_stats, x = 'State', y = 'normalized # of Sundown Towns')\n",
    "x = chart.set_xticklabels(chart.get_xticklabels(), rotation=60)\n",
    "chart.set_title('Normalized # of Sundown Towns in Different State')"
   ]
  },
  {
   "cell_type": "code",
   "execution_count": 58,
   "metadata": {},
   "outputs": [],
   "source": [
    "df_sundown_state_stats = df_sundown_state_stats.merge(df_abb_state[['State Code', 'Region']], left_on = 'Code', right_on = 'State Code')"
   ]
  },
  {
   "cell_type": "code",
   "execution_count": 59,
   "metadata": {
    "scrolled": true
   },
   "outputs": [
    {
     "data": {
      "text/html": [
       "<div>\n",
       "<style scoped>\n",
       "    .dataframe tbody tr th:only-of-type {\n",
       "        vertical-align: middle;\n",
       "    }\n",
       "\n",
       "    .dataframe tbody tr th {\n",
       "        vertical-align: top;\n",
       "    }\n",
       "\n",
       "    .dataframe thead th {\n",
       "        text-align: right;\n",
       "    }\n",
       "</style>\n",
       "<table border=\"1\" class=\"dataframe\">\n",
       "  <thead>\n",
       "    <tr style=\"text-align: right;\">\n",
       "      <th></th>\n",
       "      <th>State</th>\n",
       "      <th># of Sundown Town</th>\n",
       "      <th>Geography</th>\n",
       "      <th>Population</th>\n",
       "      <th>Code</th>\n",
       "      <th>normalized # of Sundown Towns</th>\n",
       "      <th>State Code</th>\n",
       "      <th>Region</th>\n",
       "    </tr>\n",
       "  </thead>\n",
       "  <tbody>\n",
       "    <tr>\n",
       "      <th>0</th>\n",
       "      <td>WI</td>\n",
       "      <td>237</td>\n",
       "      <td>Wisconsin</td>\n",
       "      <td>5822434.0</td>\n",
       "      <td>WI</td>\n",
       "      <td>0.000041</td>\n",
       "      <td>WI</td>\n",
       "      <td>Midwest</td>\n",
       "    </tr>\n",
       "    <tr>\n",
       "      <th>1</th>\n",
       "      <td>IN</td>\n",
       "      <td>267</td>\n",
       "      <td>Indiana</td>\n",
       "      <td>6732219.0</td>\n",
       "      <td>IN</td>\n",
       "      <td>0.000040</td>\n",
       "      <td>IN</td>\n",
       "      <td>Midwest</td>\n",
       "    </tr>\n",
       "  </tbody>\n",
       "</table>\n",
       "</div>"
      ],
      "text/plain": [
       "  State  # of Sundown Town  Geography  Population Code  \\\n",
       "0    WI                237  Wisconsin   5822434.0   WI   \n",
       "1    IN                267    Indiana   6732219.0   IN   \n",
       "\n",
       "   normalized # of Sundown Towns State Code   Region  \n",
       "0                       0.000041         WI  Midwest  \n",
       "1                       0.000040         IN  Midwest  "
      ]
     },
     "execution_count": 59,
     "metadata": {},
     "output_type": "execute_result"
    }
   ],
   "source": [
    "df_sundown_state_stats.head(2)"
   ]
  },
  {
   "cell_type": "code",
   "execution_count": 60,
   "metadata": {},
   "outputs": [],
   "source": [
    "df_sundown_region_stats = df_sundown_state_stats.groupby(by = 'Region')[['# of Sundown Town', 'Population']].sum()"
   ]
  },
  {
   "cell_type": "code",
   "execution_count": 61,
   "metadata": {},
   "outputs": [],
   "source": [
    "df_sundown_region_stats['Normalized # of Sundown Towns'] = df_sundown_region_stats['# of Sundown Town'].values/df_sundown_region_stats['Population'].values"
   ]
  },
  {
   "cell_type": "code",
   "execution_count": 62,
   "metadata": {},
   "outputs": [],
   "source": [
    "df_sundown_region_stats = df_sundown_region_stats.reset_index()"
   ]
  },
  {
   "cell_type": "code",
   "execution_count": 63,
   "metadata": {},
   "outputs": [
    {
     "data": {
      "text/plain": [
       "Text(0.5, 1.0, 'Normalized # of Sundown Towns in Different Region')"
      ]
     },
     "execution_count": 63,
     "metadata": {},
     "output_type": "execute_result"
    },
    {
     "data": {
      "image/png": "[encoded data removed]",
      "text/plain": [
       "<Figure size 432x288 with 1 Axes>"
      ]
     },
     "metadata": {
      "needs_background": "light"
     },
     "output_type": "display_data"
    }
   ],
   "source": [
    "chart = sns.barplot(data = df_sundown_region_stats, x = 'Region', y = 'Normalized # of Sundown Towns')\n",
    "x = chart.set_xticklabels(chart.get_xticklabels(), rotation=60)\n",
    "chart.set_title('Normalized # of Sundown Towns in Different Region')"
   ]
  },
  {
   "cell_type": "code",
   "execution_count": 85,
   "metadata": {},
   "outputs": [
    {
     "data": {
      "text/plain": [
       "Text(0.5, 1.0, 'Sundown Towns by region')"
      ]
     },
     "execution_count": 85,
     "metadata": {},
     "output_type": "execute_result"
    },
    {
     "data": {
      "image/png": "[encoded data removed]",
      "text/plain": [
       "<Figure size 432x288 with 1 Axes>"
      ]
     },
     "metadata": {
      "needs_background": "light"
     },
     "output_type": "display_data"
    }
   ],
   "source": [
    "chart = sns.barplot(data = df_sundown_region_stats, x = 'Region', y = '# of Sundown Towns')\n",
    "x = chart.set_xticklabels(chart.get_xticklabels(), rotation=60)\n",
    "chart.set_title('Sundown Towns by US Region')"
   ]
  },
  {
   "cell_type": "code",
   "execution_count": 65,
   "metadata": {},
   "outputs": [],
   "source": [
    "df_sundown_region_stats.to_csv('../data/df_sundown_town_v2.csv')"
   ]
  },
  {
   "cell_type": "code",
   "execution_count": 66,
   "metadata": {},
   "outputs": [],
   "source": [
    "df_sundown_state_stats.to_csv('../data/df_sundown_town_states_stat.csv')"
   ]
  },
  {
   "cell_type": "code",
   "execution_count": 67,
   "metadata": {},
   "outputs": [
    {
     "data": {
      "text/plain": [
       "48"
      ]
     },
     "execution_count": 67,
     "metadata": {},
     "output_type": "execute_result"
    }
   ],
   "source": [
    "len(df_sundown.state.unique())"
   ]
  },
  {
   "cell_type": "code",
   "execution_count": 68,
   "metadata": {},
   "outputs": [
    {
     "data": {
      "text/plain": [
       "1812"
      ]
     },
     "execution_count": 68,
     "metadata": {},
     "output_type": "execute_result"
    }
   ],
   "source": [
    "len(df_sundown.city.unique())"
   ]
  },
  {
   "cell_type": "code",
   "execution_count": 69,
   "metadata": {},
   "outputs": [
    {
     "data": {
      "text/plain": [
       "array(['Anna', 'Mize', \"d'Iberville\", ..., 'Moore', 'Noble', 'Garwood'],\n",
       "      dtype=object)"
      ]
     },
     "execution_count": 69,
     "metadata": {},
     "output_type": "execute_result"
    }
   ],
   "source": [
    "df_sundown.city.unique()"
   ]
  },
  {
   "cell_type": "code",
   "execution_count": 70,
   "metadata": {},
   "outputs": [
    {
     "data": {
      "text/plain": [
       "156"
      ]
     },
     "execution_count": 70,
     "metadata": {},
     "output_type": "execute_result"
    }
   ],
   "source": [
    "len(np.intersect1d(df_sundown.city.unique(), df_black_infant_mortality.County_Name.unique()))"
   ]
  },
  {
   "cell_type": "code",
   "execution_count": 71,
   "metadata": {},
   "outputs": [
    {
     "data": {
      "text/plain": [
       "0"
      ]
     },
     "execution_count": 71,
     "metadata": {},
     "output_type": "execute_result"
    }
   ],
   "source": [
    "len(np.intersect1d(df_sundown.city.unique(), df_black_infant_mortality.County_Split.unique()))"
   ]
  },
  {
   "cell_type": "code",
   "execution_count": 72,
   "metadata": {},
   "outputs": [
    {
     "data": {
      "text/plain": [
       "5"
      ]
     },
     "execution_count": 72,
     "metadata": {},
     "output_type": "execute_result"
    }
   ],
   "source": [
    "len(np.intersect1d(df_black_infant_mortality.County.values, df_sundown['County_with_states'].values))"
   ]
  },
  {
   "cell_type": "code",
   "execution_count": 73,
   "metadata": {},
   "outputs": [],
   "source": [
    "intersect = np.intersect1d(df_black_infant_mortality.County.values, df_sundown['County_with_states'].values)"
   ]
  },
  {
   "cell_type": "code",
   "execution_count": 74,
   "metadata": {},
   "outputs": [],
   "source": [
    "df_black_infant_mortality.State = df_black_infant_mortality.State.str.strip()"
   ]
  },
  {
   "cell_type": "code",
   "execution_count": 75,
   "metadata": {},
   "outputs": [
    {
     "data": {
      "text/plain": [
       "array(['WI', 'IN', 'AR', 'KS', 'IL', 'NE', 'MO', 'IA', 'OH', 'MI'],\n",
       "      dtype=object)"
      ]
     },
     "execution_count": 75,
     "metadata": {},
     "output_type": "execute_result"
    }
   ],
   "source": [
    "top10_states"
   ]
  },
  {
   "cell_type": "code",
   "execution_count": 76,
   "metadata": {},
   "outputs": [],
   "source": [
    "df_black_infant_top10 = df_black_infant_mortality[df_black_infant_mortality.State.isin(top10_states)]\n",
    "df_black_infant_bottom10 = df_black_infant_mortality[df_black_infant_mortality.State.isin(bottom10_states)]"
   ]
  },
  {
   "cell_type": "code",
   "execution_count": 77,
   "metadata": {},
   "outputs": [],
   "source": [
    "df_black_infant_general = df_black_infant_mortality[~df_black_infant_mortality.County.isin(df_black_infant_top10.County.values)]"
   ]
  },
  {
   "cell_type": "code",
   "execution_count": 98,
   "metadata": {},
   "outputs": [
    {
     "data": {
      "text/html": [
       "<div>\n",
       "<style scoped>\n",
       "    .dataframe tbody tr th:only-of-type {\n",
       "        vertical-align: middle;\n",
       "    }\n",
       "\n",
       "    .dataframe tbody tr th {\n",
       "        vertical-align: top;\n",
       "    }\n",
       "\n",
       "    .dataframe thead th {\n",
       "        text-align: right;\n",
       "    }\n",
       "</style>\n",
       "<table border=\"1\" class=\"dataframe\">\n",
       "  <thead>\n",
       "    <tr style=\"text-align: right;\">\n",
       "      <th></th>\n",
       "      <th>County</th>\n",
       "      <th>County Code</th>\n",
       "      <th>Deaths</th>\n",
       "      <th>Population</th>\n",
       "      <th>County_Split</th>\n",
       "      <th>County_Name</th>\n",
       "      <th>State</th>\n",
       "      <th>Death_Population_Ratio</th>\n",
       "      <th>Race</th>\n",
       "      <th>Sundown_Status</th>\n",
       "    </tr>\n",
       "  </thead>\n",
       "  <tbody>\n",
       "    <tr>\n",
       "      <th>58</th>\n",
       "      <td>Arkansas County, AR</td>\n",
       "      <td>5001.0</td>\n",
       "      <td>12.0</td>\n",
       "      <td>1386.0</td>\n",
       "      <td>Arkansas County</td>\n",
       "      <td>Arkansas</td>\n",
       "      <td>AR</td>\n",
       "      <td>0.008658</td>\n",
       "      <td>Black</td>\n",
       "      <td>Yes</td>\n",
       "    </tr>\n",
       "    <tr>\n",
       "      <th>59</th>\n",
       "      <td>Ashley County, AR</td>\n",
       "      <td>5003.0</td>\n",
       "      <td>15.0</td>\n",
       "      <td>1483.0</td>\n",
       "      <td>Ashley County</td>\n",
       "      <td>Ashley</td>\n",
       "      <td>AR</td>\n",
       "      <td>0.010115</td>\n",
       "      <td>Black</td>\n",
       "      <td>Yes</td>\n",
       "    </tr>\n",
       "    <tr>\n",
       "      <th>60</th>\n",
       "      <td>Benton County, AR</td>\n",
       "      <td>5007.0</td>\n",
       "      <td>11.0</td>\n",
       "      <td>1208.0</td>\n",
       "      <td>Benton County</td>\n",
       "      <td>Benton</td>\n",
       "      <td>AR</td>\n",
       "      <td>0.009106</td>\n",
       "      <td>Black</td>\n",
       "      <td>Yes</td>\n",
       "    </tr>\n",
       "    <tr>\n",
       "      <th>61</th>\n",
       "      <td>Bradley County, AR</td>\n",
       "      <td>5011.0</td>\n",
       "      <td>15.0</td>\n",
       "      <td>903.0</td>\n",
       "      <td>Bradley County</td>\n",
       "      <td>Bradley</td>\n",
       "      <td>AR</td>\n",
       "      <td>0.016611</td>\n",
       "      <td>Black</td>\n",
       "      <td>Yes</td>\n",
       "    </tr>\n",
       "    <tr>\n",
       "      <th>62</th>\n",
       "      <td>Chicot County, AR</td>\n",
       "      <td>5017.0</td>\n",
       "      <td>16.0</td>\n",
       "      <td>1840.0</td>\n",
       "      <td>Chicot County</td>\n",
       "      <td>Chicot</td>\n",
       "      <td>AR</td>\n",
       "      <td>0.008696</td>\n",
       "      <td>Black</td>\n",
       "      <td>Yes</td>\n",
       "    </tr>\n",
       "    <tr>\n",
       "      <th>...</th>\n",
       "      <td>...</td>\n",
       "      <td>...</td>\n",
       "      <td>...</td>\n",
       "      <td>...</td>\n",
       "      <td>...</td>\n",
       "      <td>...</td>\n",
       "      <td>...</td>\n",
       "      <td>...</td>\n",
       "      <td>...</td>\n",
       "      <td>...</td>\n",
       "    </tr>\n",
       "    <tr>\n",
       "      <th>1019</th>\n",
       "      <td>Cabell County, WV</td>\n",
       "      <td>54011.0</td>\n",
       "      <td>28.0</td>\n",
       "      <td>1616.0</td>\n",
       "      <td>Cabell County</td>\n",
       "      <td>Cabell</td>\n",
       "      <td>WV</td>\n",
       "      <td>0.017327</td>\n",
       "      <td>Black</td>\n",
       "      <td>No</td>\n",
       "    </tr>\n",
       "    <tr>\n",
       "      <th>1020</th>\n",
       "      <td>Kanawha County, WV</td>\n",
       "      <td>54039.0</td>\n",
       "      <td>49.0</td>\n",
       "      <td>4718.0</td>\n",
       "      <td>Kanawha County</td>\n",
       "      <td>Kanawha</td>\n",
       "      <td>WV</td>\n",
       "      <td>0.010386</td>\n",
       "      <td>Black</td>\n",
       "      <td>No</td>\n",
       "    </tr>\n",
       "    <tr>\n",
       "      <th>1021</th>\n",
       "      <td>Mercer County, WV</td>\n",
       "      <td>54055.0</td>\n",
       "      <td>11.0</td>\n",
       "      <td>1362.0</td>\n",
       "      <td>Mercer County</td>\n",
       "      <td>Mercer</td>\n",
       "      <td>WV</td>\n",
       "      <td>0.008076</td>\n",
       "      <td>Black</td>\n",
       "      <td>No</td>\n",
       "    </tr>\n",
       "    <tr>\n",
       "      <th>1022</th>\n",
       "      <td>Monongalia County, WV</td>\n",
       "      <td>54061.0</td>\n",
       "      <td>18.0</td>\n",
       "      <td>973.0</td>\n",
       "      <td>Monongalia County</td>\n",
       "      <td>Monongalia</td>\n",
       "      <td>WV</td>\n",
       "      <td>0.018499</td>\n",
       "      <td>Black</td>\n",
       "      <td>No</td>\n",
       "    </tr>\n",
       "    <tr>\n",
       "      <th>1023</th>\n",
       "      <td>Raleigh County, WV</td>\n",
       "      <td>54081.0</td>\n",
       "      <td>25.0</td>\n",
       "      <td>1624.0</td>\n",
       "      <td>Raleigh County</td>\n",
       "      <td>Raleigh</td>\n",
       "      <td>WV</td>\n",
       "      <td>0.015394</td>\n",
       "      <td>Black</td>\n",
       "      <td>No</td>\n",
       "    </tr>\n",
       "  </tbody>\n",
       "</table>\n",
       "<p>1033 rows × 10 columns</p>\n",
       "</div>"
      ],
      "text/plain": [
       "                     County  County Code  Deaths  Population  \\\n",
       "58      Arkansas County, AR       5001.0    12.0      1386.0   \n",
       "59        Ashley County, AR       5003.0    15.0      1483.0   \n",
       "60        Benton County, AR       5007.0    11.0      1208.0   \n",
       "61       Bradley County, AR       5011.0    15.0       903.0   \n",
       "62        Chicot County, AR       5017.0    16.0      1840.0   \n",
       "...                     ...          ...     ...         ...   \n",
       "1019      Cabell County, WV      54011.0    28.0      1616.0   \n",
       "1020     Kanawha County, WV      54039.0    49.0      4718.0   \n",
       "1021      Mercer County, WV      54055.0    11.0      1362.0   \n",
       "1022  Monongalia County, WV      54061.0    18.0       973.0   \n",
       "1023     Raleigh County, WV      54081.0    25.0      1624.0   \n",
       "\n",
       "           County_Split County_Name State  Death_Population_Ratio   Race  \\\n",
       "58      Arkansas County    Arkansas    AR                0.008658  Black   \n",
       "59        Ashley County      Ashley    AR                0.010115  Black   \n",
       "60        Benton County      Benton    AR                0.009106  Black   \n",
       "61       Bradley County     Bradley    AR                0.016611  Black   \n",
       "62        Chicot County      Chicot    AR                0.008696  Black   \n",
       "...                 ...         ...   ...                     ...    ...   \n",
       "1019      Cabell County      Cabell    WV                0.017327  Black   \n",
       "1020     Kanawha County     Kanawha    WV                0.010386  Black   \n",
       "1021      Mercer County      Mercer    WV                0.008076  Black   \n",
       "1022  Monongalia County  Monongalia    WV                0.018499  Black   \n",
       "1023     Raleigh County     Raleigh    WV                0.015394  Black   \n",
       "\n",
       "     Sundown_Status  \n",
       "58              Yes  \n",
       "59              Yes  \n",
       "60              Yes  \n",
       "61              Yes  \n",
       "62              Yes  \n",
       "...             ...  \n",
       "1019             No  \n",
       "1020             No  \n",
       "1021             No  \n",
       "1022             No  \n",
       "1023             No  \n",
       "\n",
       "[1033 rows x 10 columns]"
      ]
     },
     "execution_count": 98,
     "metadata": {},
     "output_type": "execute_result"
    }
   ],
   "source": [
    "df_sundown_mortality_black_infant"
   ]
  },
  {
   "cell_type": "code",
   "execution_count": 97,
   "metadata": {},
   "outputs": [
    {
     "data": {
      "text/plain": [
       "[Text(0.5, 0, 'County has Sundown Towns'),\n",
       " Text(0, 0.5, 'Infant mortality to population ratio'),\n",
       " Text(0.5, 1.0, 'Figure XX: Infant mortality to Population Ratio in Counties with and without Sundown Towns')]"
      ]
     },
     "execution_count": 97,
     "metadata": {},
     "output_type": "execute_result"
    },
    {
     "data": {
      "image/png": "[encoded data removed]",
      "text/plain": [
       "<Figure size 432x288 with 1 Axes>"
      ]
     },
     "metadata": {
      "needs_background": "light"
     },
     "output_type": "display_data"
    }
   ],
   "source": [
    "df_black_infant_top10['Sundown_Status'] = 'Yes'\n",
    "df_black_infant_general['Sundown_Status'] = 'No'\n",
    "\n",
    "df_sundown_mortality_black_infant = pd.concat([df_black_infant_top10, df_black_infant_general])\n",
    "\n",
    "# sns.catplot(data=df_sundown_mortality_black_infant, kind=\"violin\", x=\"Sundown_Status\", y=\"Death_Population_Ratio\")\n",
    "\n",
    "plot = sns.boxplot(data=df_sundown_mortality_black_infant, x=\"Sundown_Status\", y=\"Death_Population_Ratio\")\n",
    "plot.set(xlabel='County has Sundown Towns',\n",
    "         ylabel='Infant mortality to population ratio',\n",
    "         title='Figure XX: Infant mortality to Population Ratio in Counties with and without Sundown Towns')"
   ]
  },
  {
   "cell_type": "code",
   "execution_count": null,
   "metadata": {},
   "outputs": [],
   "source": []
  },
  {
   "cell_type": "code",
   "execution_count": 79,
   "metadata": {},
   "outputs": [],
   "source": [
    "df_temp = df_black_infant_mortality[df_black_infant_mortality.County.isin(intersect)]\n",
    "df_temp2 = df_black_infant_mortality[~df_black_infant_mortality.County.isin(intersect)]"
   ]
  },
  {
   "cell_type": "code",
   "execution_count": 80,
   "metadata": {},
   "outputs": [
    {
     "data": {
      "text/html": [
       "<div>\n",
       "<style scoped>\n",
       "    .dataframe tbody tr th:only-of-type {\n",
       "        vertical-align: middle;\n",
       "    }\n",
       "\n",
       "    .dataframe tbody tr th {\n",
       "        vertical-align: top;\n",
       "    }\n",
       "\n",
       "    .dataframe thead th {\n",
       "        text-align: right;\n",
       "    }\n",
       "</style>\n",
       "<table border=\"1\" class=\"dataframe\">\n",
       "  <thead>\n",
       "    <tr style=\"text-align: right;\">\n",
       "      <th></th>\n",
       "      <th>County</th>\n",
       "      <th>County Code</th>\n",
       "      <th>Deaths</th>\n",
       "      <th>Population</th>\n",
       "      <th>County_Split</th>\n",
       "      <th>County_Name</th>\n",
       "      <th>State</th>\n",
       "      <th>Death_Population_Ratio</th>\n",
       "      <th>Race</th>\n",
       "      <th>Sundown_Status</th>\n",
       "    </tr>\n",
       "  </thead>\n",
       "  <tbody>\n",
       "    <tr>\n",
       "      <th>58</th>\n",
       "      <td>Arkansas County, AR</td>\n",
       "      <td>5001.0</td>\n",
       "      <td>12.0</td>\n",
       "      <td>1386.0</td>\n",
       "      <td>Arkansas County</td>\n",
       "      <td>Arkansas</td>\n",
       "      <td>AR</td>\n",
       "      <td>0.008658</td>\n",
       "      <td>Black</td>\n",
       "      <td>Yes</td>\n",
       "    </tr>\n",
       "    <tr>\n",
       "      <th>59</th>\n",
       "      <td>Ashley County, AR</td>\n",
       "      <td>5003.0</td>\n",
       "      <td>15.0</td>\n",
       "      <td>1483.0</td>\n",
       "      <td>Ashley County</td>\n",
       "      <td>Ashley</td>\n",
       "      <td>AR</td>\n",
       "      <td>0.010115</td>\n",
       "      <td>Black</td>\n",
       "      <td>Yes</td>\n",
       "    </tr>\n",
       "    <tr>\n",
       "      <th>60</th>\n",
       "      <td>Benton County, AR</td>\n",
       "      <td>5007.0</td>\n",
       "      <td>11.0</td>\n",
       "      <td>1208.0</td>\n",
       "      <td>Benton County</td>\n",
       "      <td>Benton</td>\n",
       "      <td>AR</td>\n",
       "      <td>0.009106</td>\n",
       "      <td>Black</td>\n",
       "      <td>Yes</td>\n",
       "    </tr>\n",
       "    <tr>\n",
       "      <th>61</th>\n",
       "      <td>Bradley County, AR</td>\n",
       "      <td>5011.0</td>\n",
       "      <td>15.0</td>\n",
       "      <td>903.0</td>\n",
       "      <td>Bradley County</td>\n",
       "      <td>Bradley</td>\n",
       "      <td>AR</td>\n",
       "      <td>0.016611</td>\n",
       "      <td>Black</td>\n",
       "      <td>Yes</td>\n",
       "    </tr>\n",
       "    <tr>\n",
       "      <th>62</th>\n",
       "      <td>Chicot County, AR</td>\n",
       "      <td>5017.0</td>\n",
       "      <td>16.0</td>\n",
       "      <td>1840.0</td>\n",
       "      <td>Chicot County</td>\n",
       "      <td>Chicot</td>\n",
       "      <td>AR</td>\n",
       "      <td>0.008696</td>\n",
       "      <td>Black</td>\n",
       "      <td>Yes</td>\n",
       "    </tr>\n",
       "    <tr>\n",
       "      <th>...</th>\n",
       "      <td>...</td>\n",
       "      <td>...</td>\n",
       "      <td>...</td>\n",
       "      <td>...</td>\n",
       "      <td>...</td>\n",
       "      <td>...</td>\n",
       "      <td>...</td>\n",
       "      <td>...</td>\n",
       "      <td>...</td>\n",
       "      <td>...</td>\n",
       "    </tr>\n",
       "    <tr>\n",
       "      <th>1019</th>\n",
       "      <td>Cabell County, WV</td>\n",
       "      <td>54011.0</td>\n",
       "      <td>28.0</td>\n",
       "      <td>1616.0</td>\n",
       "      <td>Cabell County</td>\n",
       "      <td>Cabell</td>\n",
       "      <td>WV</td>\n",
       "      <td>0.017327</td>\n",
       "      <td>Black</td>\n",
       "      <td>No</td>\n",
       "    </tr>\n",
       "    <tr>\n",
       "      <th>1020</th>\n",
       "      <td>Kanawha County, WV</td>\n",
       "      <td>54039.0</td>\n",
       "      <td>49.0</td>\n",
       "      <td>4718.0</td>\n",
       "      <td>Kanawha County</td>\n",
       "      <td>Kanawha</td>\n",
       "      <td>WV</td>\n",
       "      <td>0.010386</td>\n",
       "      <td>Black</td>\n",
       "      <td>No</td>\n",
       "    </tr>\n",
       "    <tr>\n",
       "      <th>1021</th>\n",
       "      <td>Mercer County, WV</td>\n",
       "      <td>54055.0</td>\n",
       "      <td>11.0</td>\n",
       "      <td>1362.0</td>\n",
       "      <td>Mercer County</td>\n",
       "      <td>Mercer</td>\n",
       "      <td>WV</td>\n",
       "      <td>0.008076</td>\n",
       "      <td>Black</td>\n",
       "      <td>No</td>\n",
       "    </tr>\n",
       "    <tr>\n",
       "      <th>1022</th>\n",
       "      <td>Monongalia County, WV</td>\n",
       "      <td>54061.0</td>\n",
       "      <td>18.0</td>\n",
       "      <td>973.0</td>\n",
       "      <td>Monongalia County</td>\n",
       "      <td>Monongalia</td>\n",
       "      <td>WV</td>\n",
       "      <td>0.018499</td>\n",
       "      <td>Black</td>\n",
       "      <td>No</td>\n",
       "    </tr>\n",
       "    <tr>\n",
       "      <th>1023</th>\n",
       "      <td>Raleigh County, WV</td>\n",
       "      <td>54081.0</td>\n",
       "      <td>25.0</td>\n",
       "      <td>1624.0</td>\n",
       "      <td>Raleigh County</td>\n",
       "      <td>Raleigh</td>\n",
       "      <td>WV</td>\n",
       "      <td>0.015394</td>\n",
       "      <td>Black</td>\n",
       "      <td>No</td>\n",
       "    </tr>\n",
       "  </tbody>\n",
       "</table>\n",
       "<p>1033 rows × 10 columns</p>\n",
       "</div>"
      ],
      "text/plain": [
       "                     County  County Code  Deaths  Population  \\\n",
       "58      Arkansas County, AR       5001.0    12.0      1386.0   \n",
       "59        Ashley County, AR       5003.0    15.0      1483.0   \n",
       "60        Benton County, AR       5007.0    11.0      1208.0   \n",
       "61       Bradley County, AR       5011.0    15.0       903.0   \n",
       "62        Chicot County, AR       5017.0    16.0      1840.0   \n",
       "...                     ...          ...     ...         ...   \n",
       "1019      Cabell County, WV      54011.0    28.0      1616.0   \n",
       "1020     Kanawha County, WV      54039.0    49.0      4718.0   \n",
       "1021      Mercer County, WV      54055.0    11.0      1362.0   \n",
       "1022  Monongalia County, WV      54061.0    18.0       973.0   \n",
       "1023     Raleigh County, WV      54081.0    25.0      1624.0   \n",
       "\n",
       "           County_Split County_Name State  Death_Population_Ratio   Race  \\\n",
       "58      Arkansas County    Arkansas    AR                0.008658  Black   \n",
       "59        Ashley County      Ashley    AR                0.010115  Black   \n",
       "60        Benton County      Benton    AR                0.009106  Black   \n",
       "61       Bradley County     Bradley    AR                0.016611  Black   \n",
       "62        Chicot County      Chicot    AR                0.008696  Black   \n",
       "...                 ...         ...   ...                     ...    ...   \n",
       "1019      Cabell County      Cabell    WV                0.017327  Black   \n",
       "1020     Kanawha County     Kanawha    WV                0.010386  Black   \n",
       "1021      Mercer County      Mercer    WV                0.008076  Black   \n",
       "1022  Monongalia County  Monongalia    WV                0.018499  Black   \n",
       "1023     Raleigh County     Raleigh    WV                0.015394  Black   \n",
       "\n",
       "     Sundown_Status  \n",
       "58              Yes  \n",
       "59              Yes  \n",
       "60              Yes  \n",
       "61              Yes  \n",
       "62              Yes  \n",
       "...             ...  \n",
       "1019             No  \n",
       "1020             No  \n",
       "1021             No  \n",
       "1022             No  \n",
       "1023             No  \n",
       "\n",
       "[1033 rows x 10 columns]"
      ]
     },
     "execution_count": 80,
     "metadata": {},
     "output_type": "execute_result"
    }
   ],
   "source": [
    "df_sundown_mortality_black_infant"
   ]
  },
  {
   "cell_type": "code",
   "execution_count": 81,
   "metadata": {},
   "outputs": [
    {
     "data": {
      "text/plain": [
       "<seaborn.axisgrid.FacetGrid at 0x11e4bd2d0>"
      ]
     },
     "execution_count": 81,
     "metadata": {},
     "output_type": "execute_result"
    },
    {
     "data": {
      "image/png": "[encoded data removed]",
      "text/plain": [
       "<Figure size 360x360 with 1 Axes>"
      ]
     },
     "metadata": {
      "needs_background": "light"
     },
     "output_type": "display_data"
    }
   ],
   "source": [
    "df_temp['Sundown_Status'] = 'Yes'\n",
    "df_temp2['Sundown_Status'] = 'No'\n",
    "df_sundown_mortality_black_infant = pd.concat([df_temp, df_temp2])\n",
    "\n",
    "sns.catplot(data=df_sundown_mortality_black_infant, kind=\"violin\", x=\"Sundown_Status\", y=\"Death_Population_Ratio\")"
   ]
  },
  {
   "cell_type": "code",
   "execution_count": 82,
   "metadata": {},
   "outputs": [
    {
     "data": {
      "text/plain": [
       "No     1028\n",
       "Yes       5\n",
       "Name: Sundown_Status, dtype: int64"
      ]
     },
     "execution_count": 82,
     "metadata": {},
     "output_type": "execute_result"
    }
   ],
   "source": [
    "df_sundown_mortality_black_infant.Sundown_Status.value_counts()"
   ]
  },
  {
   "cell_type": "code",
   "execution_count": null,
   "metadata": {},
   "outputs": [],
   "source": []
  },
  {
   "cell_type": "markdown",
   "metadata": {},
   "source": [
    "# process mortality history data"
   ]
  },
  {
   "cell_type": "code",
   "execution_count": 83,
   "metadata": {},
   "outputs": [
    {
     "ename": "FileNotFoundError",
     "evalue": "[Errno 2] No such file or directory: '../output.csv'",
     "output_type": "error",
     "traceback": [
      "\u001b[0;31m---------------------------------------------------------------------------\u001b[0m",
      "\u001b[0;31mFileNotFoundError\u001b[0m                         Traceback (most recent call last)",
      "\u001b[0;32m<ipython-input-83-6d9cfcd52ec1>\u001b[0m in \u001b[0;36m<module>\u001b[0;34m\u001b[0m\n\u001b[1;32m      1\u001b[0m \u001b[0;32mimport\u001b[0m \u001b[0mpandas\u001b[0m \u001b[0;32mas\u001b[0m \u001b[0mpd\u001b[0m\u001b[0;34m\u001b[0m\u001b[0;34m\u001b[0m\u001b[0m\n\u001b[0;32m----> 2\u001b[0;31m \u001b[0mdf\u001b[0m \u001b[0;34m=\u001b[0m \u001b[0mpd\u001b[0m\u001b[0;34m.\u001b[0m\u001b[0mread_csv\u001b[0m\u001b[0;34m(\u001b[0m\u001b[0;34m'../output.csv'\u001b[0m\u001b[0;34m)\u001b[0m\u001b[0;34m\u001b[0m\u001b[0;34m\u001b[0m\u001b[0m\n\u001b[0m",
      "\u001b[0;32m~/skool/capstone/project/venv/lib/python3.7/site-packages/pandas/io/parsers.py\u001b[0m in \u001b[0;36mread_csv\u001b[0;34m(filepath_or_buffer, sep, delimiter, header, names, index_col, usecols, squeeze, prefix, mangle_dupe_cols, dtype, engine, converters, true_values, false_values, skipinitialspace, skiprows, skipfooter, nrows, na_values, keep_default_na, na_filter, verbose, skip_blank_lines, parse_dates, infer_datetime_format, keep_date_col, date_parser, dayfirst, cache_dates, iterator, chunksize, compression, thousands, decimal, lineterminator, quotechar, quoting, doublequote, escapechar, comment, encoding, dialect, error_bad_lines, warn_bad_lines, delim_whitespace, low_memory, memory_map, float_precision)\u001b[0m\n\u001b[1;32m    684\u001b[0m     )\n\u001b[1;32m    685\u001b[0m \u001b[0;34m\u001b[0m\u001b[0m\n\u001b[0;32m--> 686\u001b[0;31m     \u001b[0;32mreturn\u001b[0m \u001b[0m_read\u001b[0m\u001b[0;34m(\u001b[0m\u001b[0mfilepath_or_buffer\u001b[0m\u001b[0;34m,\u001b[0m \u001b[0mkwds\u001b[0m\u001b[0;34m)\u001b[0m\u001b[0;34m\u001b[0m\u001b[0;34m\u001b[0m\u001b[0m\n\u001b[0m\u001b[1;32m    687\u001b[0m \u001b[0;34m\u001b[0m\u001b[0m\n\u001b[1;32m    688\u001b[0m \u001b[0;34m\u001b[0m\u001b[0m\n",
      "\u001b[0;32m~/skool/capstone/project/venv/lib/python3.7/site-packages/pandas/io/parsers.py\u001b[0m in \u001b[0;36m_read\u001b[0;34m(filepath_or_buffer, kwds)\u001b[0m\n\u001b[1;32m    450\u001b[0m \u001b[0;34m\u001b[0m\u001b[0m\n\u001b[1;32m    451\u001b[0m     \u001b[0;31m# Create the parser.\u001b[0m\u001b[0;34m\u001b[0m\u001b[0;34m\u001b[0m\u001b[0;34m\u001b[0m\u001b[0m\n\u001b[0;32m--> 452\u001b[0;31m     \u001b[0mparser\u001b[0m \u001b[0;34m=\u001b[0m \u001b[0mTextFileReader\u001b[0m\u001b[0;34m(\u001b[0m\u001b[0mfp_or_buf\u001b[0m\u001b[0;34m,\u001b[0m \u001b[0;34m**\u001b[0m\u001b[0mkwds\u001b[0m\u001b[0;34m)\u001b[0m\u001b[0;34m\u001b[0m\u001b[0;34m\u001b[0m\u001b[0m\n\u001b[0m\u001b[1;32m    453\u001b[0m \u001b[0;34m\u001b[0m\u001b[0m\n\u001b[1;32m    454\u001b[0m     \u001b[0;32mif\u001b[0m \u001b[0mchunksize\u001b[0m \u001b[0;32mor\u001b[0m \u001b[0miterator\u001b[0m\u001b[0;34m:\u001b[0m\u001b[0;34m\u001b[0m\u001b[0;34m\u001b[0m\u001b[0m\n",
      "\u001b[0;32m~/skool/capstone/project/venv/lib/python3.7/site-packages/pandas/io/parsers.py\u001b[0m in \u001b[0;36m__init__\u001b[0;34m(self, f, engine, **kwds)\u001b[0m\n\u001b[1;32m    934\u001b[0m             \u001b[0mself\u001b[0m\u001b[0;34m.\u001b[0m\u001b[0moptions\u001b[0m\u001b[0;34m[\u001b[0m\u001b[0;34m\"has_index_names\"\u001b[0m\u001b[0;34m]\u001b[0m \u001b[0;34m=\u001b[0m \u001b[0mkwds\u001b[0m\u001b[0;34m[\u001b[0m\u001b[0;34m\"has_index_names\"\u001b[0m\u001b[0;34m]\u001b[0m\u001b[0;34m\u001b[0m\u001b[0;34m\u001b[0m\u001b[0m\n\u001b[1;32m    935\u001b[0m \u001b[0;34m\u001b[0m\u001b[0m\n\u001b[0;32m--> 936\u001b[0;31m         \u001b[0mself\u001b[0m\u001b[0;34m.\u001b[0m\u001b[0m_make_engine\u001b[0m\u001b[0;34m(\u001b[0m\u001b[0mself\u001b[0m\u001b[0;34m.\u001b[0m\u001b[0mengine\u001b[0m\u001b[0;34m)\u001b[0m\u001b[0;34m\u001b[0m\u001b[0;34m\u001b[0m\u001b[0m\n\u001b[0m\u001b[1;32m    937\u001b[0m \u001b[0;34m\u001b[0m\u001b[0m\n\u001b[1;32m    938\u001b[0m     \u001b[0;32mdef\u001b[0m \u001b[0mclose\u001b[0m\u001b[0;34m(\u001b[0m\u001b[0mself\u001b[0m\u001b[0;34m)\u001b[0m\u001b[0;34m:\u001b[0m\u001b[0;34m\u001b[0m\u001b[0;34m\u001b[0m\u001b[0m\n",
      "\u001b[0;32m~/skool/capstone/project/venv/lib/python3.7/site-packages/pandas/io/parsers.py\u001b[0m in \u001b[0;36m_make_engine\u001b[0;34m(self, engine)\u001b[0m\n\u001b[1;32m   1166\u001b[0m     \u001b[0;32mdef\u001b[0m \u001b[0m_make_engine\u001b[0m\u001b[0;34m(\u001b[0m\u001b[0mself\u001b[0m\u001b[0;34m,\u001b[0m \u001b[0mengine\u001b[0m\u001b[0;34m=\u001b[0m\u001b[0;34m\"c\"\u001b[0m\u001b[0;34m)\u001b[0m\u001b[0;34m:\u001b[0m\u001b[0;34m\u001b[0m\u001b[0;34m\u001b[0m\u001b[0m\n\u001b[1;32m   1167\u001b[0m         \u001b[0;32mif\u001b[0m \u001b[0mengine\u001b[0m \u001b[0;34m==\u001b[0m \u001b[0;34m\"c\"\u001b[0m\u001b[0;34m:\u001b[0m\u001b[0;34m\u001b[0m\u001b[0;34m\u001b[0m\u001b[0m\n\u001b[0;32m-> 1168\u001b[0;31m             \u001b[0mself\u001b[0m\u001b[0;34m.\u001b[0m\u001b[0m_engine\u001b[0m \u001b[0;34m=\u001b[0m \u001b[0mCParserWrapper\u001b[0m\u001b[0;34m(\u001b[0m\u001b[0mself\u001b[0m\u001b[0;34m.\u001b[0m\u001b[0mf\u001b[0m\u001b[0;34m,\u001b[0m \u001b[0;34m**\u001b[0m\u001b[0mself\u001b[0m\u001b[0;34m.\u001b[0m\u001b[0moptions\u001b[0m\u001b[0;34m)\u001b[0m\u001b[0;34m\u001b[0m\u001b[0;34m\u001b[0m\u001b[0m\n\u001b[0m\u001b[1;32m   1169\u001b[0m         \u001b[0;32melse\u001b[0m\u001b[0;34m:\u001b[0m\u001b[0;34m\u001b[0m\u001b[0;34m\u001b[0m\u001b[0m\n\u001b[1;32m   1170\u001b[0m             \u001b[0;32mif\u001b[0m \u001b[0mengine\u001b[0m \u001b[0;34m==\u001b[0m \u001b[0;34m\"python\"\u001b[0m\u001b[0;34m:\u001b[0m\u001b[0;34m\u001b[0m\u001b[0;34m\u001b[0m\u001b[0m\n",
      "\u001b[0;32m~/skool/capstone/project/venv/lib/python3.7/site-packages/pandas/io/parsers.py\u001b[0m in \u001b[0;36m__init__\u001b[0;34m(self, src, **kwds)\u001b[0m\n\u001b[1;32m   1996\u001b[0m         \u001b[0mkwds\u001b[0m\u001b[0;34m[\u001b[0m\u001b[0;34m\"usecols\"\u001b[0m\u001b[0;34m]\u001b[0m \u001b[0;34m=\u001b[0m \u001b[0mself\u001b[0m\u001b[0;34m.\u001b[0m\u001b[0musecols\u001b[0m\u001b[0;34m\u001b[0m\u001b[0;34m\u001b[0m\u001b[0m\n\u001b[1;32m   1997\u001b[0m \u001b[0;34m\u001b[0m\u001b[0m\n\u001b[0;32m-> 1998\u001b[0;31m         \u001b[0mself\u001b[0m\u001b[0;34m.\u001b[0m\u001b[0m_reader\u001b[0m \u001b[0;34m=\u001b[0m \u001b[0mparsers\u001b[0m\u001b[0;34m.\u001b[0m\u001b[0mTextReader\u001b[0m\u001b[0;34m(\u001b[0m\u001b[0msrc\u001b[0m\u001b[0;34m,\u001b[0m \u001b[0;34m**\u001b[0m\u001b[0mkwds\u001b[0m\u001b[0;34m)\u001b[0m\u001b[0;34m\u001b[0m\u001b[0;34m\u001b[0m\u001b[0m\n\u001b[0m\u001b[1;32m   1999\u001b[0m         \u001b[0mself\u001b[0m\u001b[0;34m.\u001b[0m\u001b[0munnamed_cols\u001b[0m \u001b[0;34m=\u001b[0m \u001b[0mself\u001b[0m\u001b[0;34m.\u001b[0m\u001b[0m_reader\u001b[0m\u001b[0;34m.\u001b[0m\u001b[0munnamed_cols\u001b[0m\u001b[0;34m\u001b[0m\u001b[0;34m\u001b[0m\u001b[0m\n\u001b[1;32m   2000\u001b[0m \u001b[0;34m\u001b[0m\u001b[0m\n",
      "\u001b[0;32mpandas/_libs/parsers.pyx\u001b[0m in \u001b[0;36mpandas._libs.parsers.TextReader.__cinit__\u001b[0;34m()\u001b[0m\n",
      "\u001b[0;32mpandas/_libs/parsers.pyx\u001b[0m in \u001b[0;36mpandas._libs.parsers.TextReader._setup_parser_source\u001b[0;34m()\u001b[0m\n",
      "\u001b[0;31mFileNotFoundError\u001b[0m: [Errno 2] No such file or directory: '../output.csv'"
     ]
    }
   ],
   "source": [
    "import pandas as pd\n",
    "df = pd.read_csv('../output.csv')"
   ]
  },
  {
   "cell_type": "code",
   "execution_count": 84,
   "metadata": {},
   "outputs": [],
   "source": [
    "df_transform = pd.DataFrame()"
   ]
  },
  {
   "cell_type": "code",
   "execution_count": 15,
   "metadata": {},
   "outputs": [],
   "source": [
    "df = df.rename(columns={'Unnamed: 0': 'Year', 'Unnamed: 2': 'Infant', 'Unnamed: 3': '28 Days', 'Neonatal 1': '7 Days', 'Unnamed: 6': 'Postneonatal'})[['Year', 'Infant', '28 Days', '7 Days', 'Postneonatal']]"
   ]
  },
  {
   "cell_type": "code",
   "execution_count": 53,
   "metadata": {},
   "outputs": [
    {
     "data": {
      "text/html": [
       "<div>\n",
       "<style scoped>\n",
       "    .dataframe tbody tr th:only-of-type {\n",
       "        vertical-align: middle;\n",
       "    }\n",
       "\n",
       "    .dataframe tbody tr th {\n",
       "        vertical-align: top;\n",
       "    }\n",
       "\n",
       "    .dataframe thead th {\n",
       "        text-align: right;\n",
       "    }\n",
       "</style>\n",
       "<table border=\"1\" class=\"dataframe\">\n",
       "  <thead>\n",
       "    <tr style=\"text-align: right;\">\n",
       "      <th></th>\n",
       "      <th>Year</th>\n",
       "      <th>Infant</th>\n",
       "      <th>28 Days</th>\n",
       "      <th>7 Days</th>\n",
       "      <th>Postneonatal</th>\n",
       "    </tr>\n",
       "  </thead>\n",
       "  <tbody>\n",
       "    <tr>\n",
       "      <th>42</th>\n",
       "      <td>1980.  .  .  .  .  .  .  .  .  .  .  .  .  .  ...</td>\n",
       "      <td>22.2</td>\n",
       "      <td>14.6</td>\n",
       "      <td>12.3</td>\n",
       "      <td>7.6</td>\n",
       "    </tr>\n",
       "    <tr>\n",
       "      <th>43</th>\n",
       "      <td>1990.  .  .  .  .  .  .  .  .  .  .  .  .  .  ...</td>\n",
       "      <td>18.0</td>\n",
       "      <td>11.6</td>\n",
       "      <td>9.7</td>\n",
       "      <td>6.4</td>\n",
       "    </tr>\n",
       "    <tr>\n",
       "      <th>44</th>\n",
       "      <td>1995.  .  .  .  .  .  .  .  .  .  .  .  .  .  ...</td>\n",
       "      <td>15.1</td>\n",
       "      <td>9.8</td>\n",
       "      <td>8.2</td>\n",
       "      <td>5.3</td>\n",
       "    </tr>\n",
       "    <tr>\n",
       "      <th>45</th>\n",
       "      <td>2000.  .  .  .  .  .  .  .  .  .  .  .  .  .  ...</td>\n",
       "      <td>14.1</td>\n",
       "      <td>9.4</td>\n",
       "      <td>7.6</td>\n",
       "      <td>4.7</td>\n",
       "    </tr>\n",
       "    <tr>\n",
       "      <th>46</th>\n",
       "      <td>2004.  .  .  .  .  .  .  .  .  .  .  .  .  .  ...</td>\n",
       "      <td>13.8</td>\n",
       "      <td>9.1</td>\n",
       "      <td>7.3</td>\n",
       "      <td>4.7</td>\n",
       "    </tr>\n",
       "    <tr>\n",
       "      <th>47</th>\n",
       "      <td>2005.  .  .  .  .  .  .  .  .  .  .  .  .  .  ...</td>\n",
       "      <td>13.7</td>\n",
       "      <td>9.1</td>\n",
       "      <td>7.3</td>\n",
       "      <td>4.7</td>\n",
       "    </tr>\n",
       "    <tr>\n",
       "      <th>48</th>\n",
       "      <td>2010.  .  .  .  .  .  .  .  .  .  .  .  .  .  ...</td>\n",
       "      <td>11.6</td>\n",
       "      <td>7.5</td>\n",
       "      <td>6.0</td>\n",
       "      <td>4.1</td>\n",
       "    </tr>\n",
       "    <tr>\n",
       "      <th>49</th>\n",
       "      <td>2012.  .  .  .  .  .  .  .  .  .  .  .  .  .  ...</td>\n",
       "      <td>11.2</td>\n",
       "      <td>7.3</td>\n",
       "      <td>6.0</td>\n",
       "      <td>3.9</td>\n",
       "    </tr>\n",
       "    <tr>\n",
       "      <th>50</th>\n",
       "      <td>2013.  .  .  .  .  .  .  .  .  .  .  .  .  .  ...</td>\n",
       "      <td>11.2</td>\n",
       "      <td>7.4</td>\n",
       "      <td>6.1</td>\n",
       "      <td>3.8</td>\n",
       "    </tr>\n",
       "    <tr>\n",
       "      <th>51</th>\n",
       "      <td>2014.  .  .  .  .  .  .  .  .  .  .  .  .  .  ...</td>\n",
       "      <td>11.0</td>\n",
       "      <td>7.3</td>\n",
       "      <td>6.0</td>\n",
       "      <td>3.7</td>\n",
       "    </tr>\n",
       "    <tr>\n",
       "      <th>52</th>\n",
       "      <td>2015.  .  .  .  .  .  .  .  .  .  .  .  .  .  ...</td>\n",
       "      <td>11.4</td>\n",
       "      <td>7.4</td>\n",
       "      <td>6.0</td>\n",
       "      <td>4.0</td>\n",
       "    </tr>\n",
       "  </tbody>\n",
       "</table>\n",
       "</div>"
      ],
      "text/plain": [
       "                                                 Year Infant 28 Days 7 Days  \\\n",
       "42  1980.  .  .  .  .  .  .  .  .  .  .  .  .  .  ...   22.2    14.6   12.3   \n",
       "43  1990.  .  .  .  .  .  .  .  .  .  .  .  .  .  ...   18.0    11.6    9.7   \n",
       "44  1995.  .  .  .  .  .  .  .  .  .  .  .  .  .  ...   15.1     9.8    8.2   \n",
       "45  2000.  .  .  .  .  .  .  .  .  .  .  .  .  .  ...   14.1     9.4    7.6   \n",
       "46  2004.  .  .  .  .  .  .  .  .  .  .  .  .  .  ...   13.8     9.1    7.3   \n",
       "47  2005.  .  .  .  .  .  .  .  .  .  .  .  .  .  ...   13.7     9.1    7.3   \n",
       "48  2010.  .  .  .  .  .  .  .  .  .  .  .  .  .  ...   11.6     7.5    6.0   \n",
       "49  2012.  .  .  .  .  .  .  .  .  .  .  .  .  .  ...   11.2     7.3    6.0   \n",
       "50  2013.  .  .  .  .  .  .  .  .  .  .  .  .  .  ...   11.2     7.4    6.1   \n",
       "51  2014.  .  .  .  .  .  .  .  .  .  .  .  .  .  ...   11.0     7.3    6.0   \n",
       "52  2015.  .  .  .  .  .  .  .  .  .  .  .  .  .  ...   11.4     7.4    6.0   \n",
       "\n",
       "   Postneonatal  \n",
       "42          7.6  \n",
       "43          6.4  \n",
       "44          5.3  \n",
       "45          4.7  \n",
       "46          4.7  \n",
       "47          4.7  \n",
       "48          4.1  \n",
       "49          3.9  \n",
       "50          3.8  \n",
       "51          3.7  \n",
       "52          4.0  "
      ]
     },
     "execution_count": 53,
     "metadata": {},
     "output_type": "execute_result"
    }
   ],
   "source": [
    "start = 42\n",
    "end = 53\n",
    "df.iloc[start:end]"
   ]
  },
  {
   "cell_type": "code",
   "execution_count": 54,
   "metadata": {},
   "outputs": [],
   "source": [
    "df.loc[start:end, 'Year'] = df.iloc[start:end].Year.str.split().apply(lambda x: x[0]).str.split('.').apply(lambda x:x[0])"
   ]
  },
  {
   "cell_type": "code",
   "execution_count": 55,
   "metadata": {},
   "outputs": [
    {
     "name": "stderr",
     "output_type": "stream",
     "text": [
      "/Users/kexinhuang/opt/anaconda3/envs/gradio_deeppurpose/lib/python3.7/site-packages/ipykernel_launcher.py:2: SettingWithCopyWarning: \n",
      "A value is trying to be set on a copy of a slice from a DataFrame.\n",
      "Try using .loc[row_indexer,col_indexer] = value instead\n",
      "\n",
      "See the caveats in the documentation: https://pandas.pydata.org/pandas-docs/stable/user_guide/indexing.html#returning-a-view-versus-a-copy\n",
      "  \n"
     ]
    }
   ],
   "source": [
    "df_all_races = df.iloc[start:end]\n",
    "df_all_races['Race'] = 'Race of Mother: Black'"
   ]
  },
  {
   "cell_type": "code",
   "execution_count": 56,
   "metadata": {},
   "outputs": [],
   "source": [
    "df_transform = df_transform.append(df_all_races)"
   ]
  },
  {
   "cell_type": "code",
   "execution_count": 58,
   "metadata": {},
   "outputs": [],
   "source": [
    "df_transform.to_csv('../data/mortality_history_race.csv')"
   ]
  },
  {
   "cell_type": "code",
   "execution_count": 142,
   "metadata": {},
   "outputs": [
    {
     "data": {
      "text/plain": [
       "array(['29.2', '26.0', '20.0', '12.6', '9.2', '7.6', '6.9', '6.8', '6.9',\n",
       "       '6.1', '6.0', '6.0', '5.8', '5.9'], dtype=object)"
      ]
     },
     "execution_count": 142,
     "metadata": {},
     "output_type": "execute_result"
    }
   ],
   "source": [
    "df_transform[df_transform.Race == 'All']"
   ]
  },
  {
   "cell_type": "code",
   "execution_count": 143,
   "metadata": {},
   "outputs": [
    {
     "data": {
      "text/html": [
       "<div>\n",
       "<style scoped>\n",
       "    .dataframe tbody tr th:only-of-type {\n",
       "        vertical-align: middle;\n",
       "    }\n",
       "\n",
       "    .dataframe tbody tr th {\n",
       "        vertical-align: top;\n",
       "    }\n",
       "\n",
       "    .dataframe thead th {\n",
       "        text-align: right;\n",
       "    }\n",
       "</style>\n",
       "<table border=\"1\" class=\"dataframe\">\n",
       "  <thead>\n",
       "    <tr style=\"text-align: right;\">\n",
       "      <th></th>\n",
       "      <th>Year</th>\n",
       "      <th>Infant</th>\n",
       "      <th>28 Days</th>\n",
       "      <th>7 Days</th>\n",
       "      <th>Postneonatal</th>\n",
       "      <th>Race</th>\n",
       "    </tr>\n",
       "  </thead>\n",
       "  <tbody>\n",
       "    <tr>\n",
       "      <th>3</th>\n",
       "      <td>1950</td>\n",
       "      <td>29.2</td>\n",
       "      <td>20.5</td>\n",
       "      <td>17.8</td>\n",
       "      <td>8.7</td>\n",
       "      <td>All</td>\n",
       "    </tr>\n",
       "    <tr>\n",
       "      <th>4</th>\n",
       "      <td>1960</td>\n",
       "      <td>26.0</td>\n",
       "      <td>18.7</td>\n",
       "      <td>16.7</td>\n",
       "      <td>7.3</td>\n",
       "      <td>All</td>\n",
       "    </tr>\n",
       "    <tr>\n",
       "      <th>5</th>\n",
       "      <td>1970</td>\n",
       "      <td>20.0</td>\n",
       "      <td>15.1</td>\n",
       "      <td>13.6</td>\n",
       "      <td>4.9</td>\n",
       "      <td>All</td>\n",
       "    </tr>\n",
       "    <tr>\n",
       "      <th>6</th>\n",
       "      <td>1980</td>\n",
       "      <td>12.6</td>\n",
       "      <td>8.5</td>\n",
       "      <td>7.1</td>\n",
       "      <td>4.1</td>\n",
       "      <td>All</td>\n",
       "    </tr>\n",
       "    <tr>\n",
       "      <th>7</th>\n",
       "      <td>1990</td>\n",
       "      <td>9.2</td>\n",
       "      <td>5.8</td>\n",
       "      <td>4.8</td>\n",
       "      <td>3.4</td>\n",
       "      <td>All</td>\n",
       "    </tr>\n",
       "    <tr>\n",
       "      <th>8</th>\n",
       "      <td>1995</td>\n",
       "      <td>7.6</td>\n",
       "      <td>4.9</td>\n",
       "      <td>4.0</td>\n",
       "      <td>2.7</td>\n",
       "      <td>All</td>\n",
       "    </tr>\n",
       "    <tr>\n",
       "      <th>9</th>\n",
       "      <td>2000</td>\n",
       "      <td>6.9</td>\n",
       "      <td>4.6</td>\n",
       "      <td>3.7</td>\n",
       "      <td>2.3</td>\n",
       "      <td>All</td>\n",
       "    </tr>\n",
       "    <tr>\n",
       "      <th>10</th>\n",
       "      <td>2004</td>\n",
       "      <td>6.8</td>\n",
       "      <td>4.5</td>\n",
       "      <td>3.6</td>\n",
       "      <td>2.3</td>\n",
       "      <td>All</td>\n",
       "    </tr>\n",
       "    <tr>\n",
       "      <th>11</th>\n",
       "      <td>2005</td>\n",
       "      <td>6.9</td>\n",
       "      <td>4.5</td>\n",
       "      <td>3.6</td>\n",
       "      <td>2.3</td>\n",
       "      <td>All</td>\n",
       "    </tr>\n",
       "    <tr>\n",
       "      <th>12</th>\n",
       "      <td>2010</td>\n",
       "      <td>6.1</td>\n",
       "      <td>4.0</td>\n",
       "      <td>3.2</td>\n",
       "      <td>2.1</td>\n",
       "      <td>All</td>\n",
       "    </tr>\n",
       "    <tr>\n",
       "      <th>13</th>\n",
       "      <td>2012</td>\n",
       "      <td>6.0</td>\n",
       "      <td>4.0</td>\n",
       "      <td>3.3</td>\n",
       "      <td>2.0</td>\n",
       "      <td>All</td>\n",
       "    </tr>\n",
       "    <tr>\n",
       "      <th>14</th>\n",
       "      <td>2013</td>\n",
       "      <td>6.0</td>\n",
       "      <td>4.0</td>\n",
       "      <td>3.3</td>\n",
       "      <td>1.9</td>\n",
       "      <td>All</td>\n",
       "    </tr>\n",
       "    <tr>\n",
       "      <th>15</th>\n",
       "      <td>2014</td>\n",
       "      <td>5.8</td>\n",
       "      <td>3.9</td>\n",
       "      <td>3.2</td>\n",
       "      <td>1.9</td>\n",
       "      <td>All</td>\n",
       "    </tr>\n",
       "    <tr>\n",
       "      <th>16</th>\n",
       "      <td>2015</td>\n",
       "      <td>5.9</td>\n",
       "      <td>3.9</td>\n",
       "      <td>3.2</td>\n",
       "      <td>2.0</td>\n",
       "      <td>All</td>\n",
       "    </tr>\n",
       "    <tr>\n",
       "      <th>18</th>\n",
       "      <td>1950</td>\n",
       "      <td>26.8</td>\n",
       "      <td>19.4</td>\n",
       "      <td>17.1</td>\n",
       "      <td>7.4</td>\n",
       "      <td>Race of Child: White</td>\n",
       "    </tr>\n",
       "    <tr>\n",
       "      <th>19</th>\n",
       "      <td>1960</td>\n",
       "      <td>22.9</td>\n",
       "      <td>17.2</td>\n",
       "      <td>15.6</td>\n",
       "      <td>5.7</td>\n",
       "      <td>Race of Child: White</td>\n",
       "    </tr>\n",
       "    <tr>\n",
       "      <th>20</th>\n",
       "      <td>1970</td>\n",
       "      <td>17.8</td>\n",
       "      <td>13.8</td>\n",
       "      <td>12.5</td>\n",
       "      <td>4.0</td>\n",
       "      <td>Race of Child: White</td>\n",
       "    </tr>\n",
       "    <tr>\n",
       "      <th>21</th>\n",
       "      <td>1980</td>\n",
       "      <td>11.0</td>\n",
       "      <td>7.5</td>\n",
       "      <td>6.2</td>\n",
       "      <td>3.5</td>\n",
       "      <td>Race of Child: White</td>\n",
       "    </tr>\n",
       "    <tr>\n",
       "      <th>23</th>\n",
       "      <td>1980</td>\n",
       "      <td>10.9</td>\n",
       "      <td>7.4</td>\n",
       "      <td>6.1</td>\n",
       "      <td>3.5</td>\n",
       "      <td>Race of Mother: White</td>\n",
       "    </tr>\n",
       "    <tr>\n",
       "      <th>24</th>\n",
       "      <td>1990</td>\n",
       "      <td>7.6</td>\n",
       "      <td>4.8</td>\n",
       "      <td>3.9</td>\n",
       "      <td>2.8</td>\n",
       "      <td>Race of Mother: White</td>\n",
       "    </tr>\n",
       "    <tr>\n",
       "      <th>25</th>\n",
       "      <td>1995</td>\n",
       "      <td>6.3</td>\n",
       "      <td>4.1</td>\n",
       "      <td>3.3</td>\n",
       "      <td>2.2</td>\n",
       "      <td>Race of Mother: White</td>\n",
       "    </tr>\n",
       "    <tr>\n",
       "      <th>26</th>\n",
       "      <td>2000</td>\n",
       "      <td>5.7</td>\n",
       "      <td>3.8</td>\n",
       "      <td>3.0</td>\n",
       "      <td>1.9</td>\n",
       "      <td>Race of Mother: White</td>\n",
       "    </tr>\n",
       "    <tr>\n",
       "      <th>27</th>\n",
       "      <td>2004</td>\n",
       "      <td>5.7</td>\n",
       "      <td>3.8</td>\n",
       "      <td>3.0</td>\n",
       "      <td>1.9</td>\n",
       "      <td>Race of Mother: White</td>\n",
       "    </tr>\n",
       "    <tr>\n",
       "      <th>28</th>\n",
       "      <td>2005</td>\n",
       "      <td>5.7</td>\n",
       "      <td>3.8</td>\n",
       "      <td>3.0</td>\n",
       "      <td>1.9</td>\n",
       "      <td>Race of Mother: White</td>\n",
       "    </tr>\n",
       "    <tr>\n",
       "      <th>29</th>\n",
       "      <td>2010</td>\n",
       "      <td>5.2</td>\n",
       "      <td>3.5</td>\n",
       "      <td>2.7</td>\n",
       "      <td>1.7</td>\n",
       "      <td>Race of Mother: White</td>\n",
       "    </tr>\n",
       "    <tr>\n",
       "      <th>30</th>\n",
       "      <td>2012</td>\n",
       "      <td>5.1</td>\n",
       "      <td>3.5</td>\n",
       "      <td>2.8</td>\n",
       "      <td>1.6</td>\n",
       "      <td>Race of Mother: White</td>\n",
       "    </tr>\n",
       "    <tr>\n",
       "      <th>31</th>\n",
       "      <td>2013</td>\n",
       "      <td>5.1</td>\n",
       "      <td>3.5</td>\n",
       "      <td>2.8</td>\n",
       "      <td>1.6</td>\n",
       "      <td>Race of Mother: White</td>\n",
       "    </tr>\n",
       "    <tr>\n",
       "      <th>32</th>\n",
       "      <td>2014</td>\n",
       "      <td>4.9</td>\n",
       "      <td>3.4</td>\n",
       "      <td>2.7</td>\n",
       "      <td>1.6</td>\n",
       "      <td>Race of Mother: White</td>\n",
       "    </tr>\n",
       "    <tr>\n",
       "      <th>33</th>\n",
       "      <td>2015</td>\n",
       "      <td>4.9</td>\n",
       "      <td>3.3</td>\n",
       "      <td>2.7</td>\n",
       "      <td>1.6</td>\n",
       "      <td>Race of Mother: White</td>\n",
       "    </tr>\n",
       "    <tr>\n",
       "      <th>36</th>\n",
       "      <td>1950</td>\n",
       "      <td>43.9</td>\n",
       "      <td>27.8</td>\n",
       "      <td>23.0</td>\n",
       "      <td>16.1</td>\n",
       "      <td>Race of Child: Black</td>\n",
       "    </tr>\n",
       "    <tr>\n",
       "      <th>37</th>\n",
       "      <td>1960</td>\n",
       "      <td>44.3</td>\n",
       "      <td>27.8</td>\n",
       "      <td>23.7</td>\n",
       "      <td>16.5</td>\n",
       "      <td>Race of Child: Black</td>\n",
       "    </tr>\n",
       "    <tr>\n",
       "      <th>38</th>\n",
       "      <td>1970</td>\n",
       "      <td>32.6</td>\n",
       "      <td>22.8</td>\n",
       "      <td>20.3</td>\n",
       "      <td>9.9</td>\n",
       "      <td>Race of Child: Black</td>\n",
       "    </tr>\n",
       "    <tr>\n",
       "      <th>39</th>\n",
       "      <td>1980</td>\n",
       "      <td>21.4</td>\n",
       "      <td>14.1</td>\n",
       "      <td>11.9</td>\n",
       "      <td>7.3</td>\n",
       "      <td>Race of Child: Black</td>\n",
       "    </tr>\n",
       "    <tr>\n",
       "      <th>42</th>\n",
       "      <td>1980</td>\n",
       "      <td>22.2</td>\n",
       "      <td>14.6</td>\n",
       "      <td>12.3</td>\n",
       "      <td>7.6</td>\n",
       "      <td>Race of Mother: Black</td>\n",
       "    </tr>\n",
       "    <tr>\n",
       "      <th>43</th>\n",
       "      <td>1990</td>\n",
       "      <td>18.0</td>\n",
       "      <td>11.6</td>\n",
       "      <td>9.7</td>\n",
       "      <td>6.4</td>\n",
       "      <td>Race of Mother: Black</td>\n",
       "    </tr>\n",
       "    <tr>\n",
       "      <th>44</th>\n",
       "      <td>1995</td>\n",
       "      <td>15.1</td>\n",
       "      <td>9.8</td>\n",
       "      <td>8.2</td>\n",
       "      <td>5.3</td>\n",
       "      <td>Race of Mother: Black</td>\n",
       "    </tr>\n",
       "    <tr>\n",
       "      <th>45</th>\n",
       "      <td>2000</td>\n",
       "      <td>14.1</td>\n",
       "      <td>9.4</td>\n",
       "      <td>7.6</td>\n",
       "      <td>4.7</td>\n",
       "      <td>Race of Mother: Black</td>\n",
       "    </tr>\n",
       "    <tr>\n",
       "      <th>46</th>\n",
       "      <td>2004</td>\n",
       "      <td>13.8</td>\n",
       "      <td>9.1</td>\n",
       "      <td>7.3</td>\n",
       "      <td>4.7</td>\n",
       "      <td>Race of Mother: Black</td>\n",
       "    </tr>\n",
       "    <tr>\n",
       "      <th>47</th>\n",
       "      <td>2005</td>\n",
       "      <td>13.7</td>\n",
       "      <td>9.1</td>\n",
       "      <td>7.3</td>\n",
       "      <td>4.7</td>\n",
       "      <td>Race of Mother: Black</td>\n",
       "    </tr>\n",
       "    <tr>\n",
       "      <th>48</th>\n",
       "      <td>2010</td>\n",
       "      <td>11.6</td>\n",
       "      <td>7.5</td>\n",
       "      <td>6.0</td>\n",
       "      <td>4.1</td>\n",
       "      <td>Race of Mother: Black</td>\n",
       "    </tr>\n",
       "    <tr>\n",
       "      <th>49</th>\n",
       "      <td>2012</td>\n",
       "      <td>11.2</td>\n",
       "      <td>7.3</td>\n",
       "      <td>6.0</td>\n",
       "      <td>3.9</td>\n",
       "      <td>Race of Mother: Black</td>\n",
       "    </tr>\n",
       "    <tr>\n",
       "      <th>50</th>\n",
       "      <td>2013</td>\n",
       "      <td>11.2</td>\n",
       "      <td>7.4</td>\n",
       "      <td>6.1</td>\n",
       "      <td>3.8</td>\n",
       "      <td>Race of Mother: Black</td>\n",
       "    </tr>\n",
       "    <tr>\n",
       "      <th>51</th>\n",
       "      <td>2014</td>\n",
       "      <td>11.0</td>\n",
       "      <td>7.3</td>\n",
       "      <td>6.0</td>\n",
       "      <td>3.7</td>\n",
       "      <td>Race of Mother: Black</td>\n",
       "    </tr>\n",
       "    <tr>\n",
       "      <th>52</th>\n",
       "      <td>2015</td>\n",
       "      <td>11.4</td>\n",
       "      <td>7.4</td>\n",
       "      <td>6.0</td>\n",
       "      <td>4.0</td>\n",
       "      <td>Race of Mother: Black</td>\n",
       "    </tr>\n",
       "  </tbody>\n",
       "</table>\n",
       "</div>"
      ],
      "text/plain": [
       "    Year Infant 28 Days 7 Days Postneonatal                   Race\n",
       "3   1950   29.2    20.5   17.8          8.7                    All\n",
       "4   1960   26.0    18.7   16.7          7.3                    All\n",
       "5   1970   20.0    15.1   13.6          4.9                    All\n",
       "6   1980   12.6     8.5    7.1          4.1                    All\n",
       "7   1990    9.2     5.8    4.8          3.4                    All\n",
       "8   1995    7.6     4.9    4.0          2.7                    All\n",
       "9   2000    6.9     4.6    3.7          2.3                    All\n",
       "10  2004    6.8     4.5    3.6          2.3                    All\n",
       "11  2005    6.9     4.5    3.6          2.3                    All\n",
       "12  2010    6.1     4.0    3.2          2.1                    All\n",
       "13  2012    6.0     4.0    3.3          2.0                    All\n",
       "14  2013    6.0     4.0    3.3          1.9                    All\n",
       "15  2014    5.8     3.9    3.2          1.9                    All\n",
       "16  2015    5.9     3.9    3.2          2.0                    All\n",
       "18  1950   26.8    19.4   17.1          7.4   Race of Child: White\n",
       "19  1960   22.9    17.2   15.6          5.7   Race of Child: White\n",
       "20  1970   17.8    13.8   12.5          4.0   Race of Child: White\n",
       "21  1980   11.0     7.5    6.2          3.5   Race of Child: White\n",
       "23  1980   10.9     7.4    6.1          3.5  Race of Mother: White\n",
       "24  1990    7.6     4.8    3.9          2.8  Race of Mother: White\n",
       "25  1995    6.3     4.1    3.3          2.2  Race of Mother: White\n",
       "26  2000    5.7     3.8    3.0          1.9  Race of Mother: White\n",
       "27  2004    5.7     3.8    3.0          1.9  Race of Mother: White\n",
       "28  2005    5.7     3.8    3.0          1.9  Race of Mother: White\n",
       "29  2010    5.2     3.5    2.7          1.7  Race of Mother: White\n",
       "30  2012    5.1     3.5    2.8          1.6  Race of Mother: White\n",
       "31  2013    5.1     3.5    2.8          1.6  Race of Mother: White\n",
       "32  2014    4.9     3.4    2.7          1.6  Race of Mother: White\n",
       "33  2015    4.9     3.3    2.7          1.6  Race of Mother: White\n",
       "36  1950   43.9    27.8   23.0         16.1   Race of Child: Black\n",
       "37  1960   44.3    27.8   23.7         16.5   Race of Child: Black\n",
       "38  1970   32.6    22.8   20.3          9.9   Race of Child: Black\n",
       "39  1980   21.4    14.1   11.9          7.3   Race of Child: Black\n",
       "42  1980   22.2    14.6   12.3          7.6  Race of Mother: Black\n",
       "43  1990   18.0    11.6    9.7          6.4  Race of Mother: Black\n",
       "44  1995   15.1     9.8    8.2          5.3  Race of Mother: Black\n",
       "45  2000   14.1     9.4    7.6          4.7  Race of Mother: Black\n",
       "46  2004   13.8     9.1    7.3          4.7  Race of Mother: Black\n",
       "47  2005   13.7     9.1    7.3          4.7  Race of Mother: Black\n",
       "48  2010   11.6     7.5    6.0          4.1  Race of Mother: Black\n",
       "49  2012   11.2     7.3    6.0          3.9  Race of Mother: Black\n",
       "50  2013   11.2     7.4    6.1          3.8  Race of Mother: Black\n",
       "51  2014   11.0     7.3    6.0          3.7  Race of Mother: Black\n",
       "52  2015   11.4     7.4    6.0          4.0  Race of Mother: Black"
      ]
     },
     "execution_count": 143,
     "metadata": {},
     "output_type": "execute_result"
    }
   ],
   "source": [
    "df_transform"
   ]
  },
  {
   "cell_type": "code",
   "execution_count": 148,
   "metadata": {},
   "outputs": [],
   "source": [
    "df_transform[['Infant','28 Days', '7 Days', 'Postneonatal']] = df_transform[['Infant','28 Days', '7 Days', 'Postneonatal']].astype(float)"
   ]
  },
  {
   "cell_type": "code",
   "execution_count": 154,
   "metadata": {},
   "outputs": [
    {
     "data": {
      "text/plain": [
       "Text(0.5, 1.0, 'Infant Mortality Over the Year vs Races')"
      ]
     },
     "execution_count": 154,
     "metadata": {},
     "output_type": "execute_result"
    },
    {
     "data": {
      "image/png": "[encoded data removed]",
      "text/plain": [
       "<Figure size 720x360 with 1 Axes>"
      ]
     },
     "metadata": {
      "needs_background": "light"
     },
     "output_type": "display_data"
    }
   ],
   "source": [
    "plt.figure(figsize=(10,5))\n",
    "chart = sns.lineplot(data = df_transform, x = 'Year', y = 'Infant', hue = 'Race')\n",
    "chart.set_title('Infant Mortality Over the Year vs Races')"
   ]
  },
  {
   "cell_type": "code",
   "execution_count": 155,
   "metadata": {},
   "outputs": [
    {
     "data": {
      "text/plain": [
       "Text(0.5, 1.0, '28 Days Mortality Over the Year vs Races')"
      ]
     },
     "execution_count": 155,
     "metadata": {},
     "output_type": "execute_result"
    },
    {
     "data": {
      "image/png": "[encoded data removed]",
      "text/plain": [
       "<Figure size 720x360 with 1 Axes>"
      ]
     },
     "metadata": {
      "needs_background": "light"
     },
     "output_type": "display_data"
    }
   ],
   "source": [
    "plt.figure(figsize=(10,5))\n",
    "chart = sns.lineplot(data = df_transform, x = 'Year', y = '28 Days', hue = 'Race')\n",
    "chart.set_title('28 Days Mortality Over the Year vs Races')"
   ]
  },
  {
   "cell_type": "code",
   "execution_count": 156,
   "metadata": {},
   "outputs": [
    {
     "data": {
      "text/plain": [
       "Text(0.5, 1.0, 'Infant Mortality Over the Year vs Races')"
      ]
     },
     "execution_count": 156,
     "metadata": {},
     "output_type": "execute_result"
    },
    {
     "data": {
      "image/png": "[encoded data removed]",
      "text/plain": [
       "<Figure size 720x360 with 1 Axes>"
      ]
     },
     "metadata": {
      "needs_background": "light"
     },
     "output_type": "display_data"
    }
   ],
   "source": [
    "plt.figure(figsize=(10,5))\n",
    "chart = sns.lineplot(data = df_transform, x = 'Year', y = '7 Days', hue = 'Race')\n",
    "chart.set_title('Infant Mortality Over the Year vs Races')"
   ]
  },
  {
   "cell_type": "code",
   "execution_count": 157,
   "metadata": {},
   "outputs": [
    {
     "data": {
      "text/plain": [
       "Text(0.5, 1.0, 'Infant Mortality Over the Year vs Races')"
      ]
     },
     "execution_count": 157,
     "metadata": {},
     "output_type": "execute_result"
    },
    {
     "data": {
      "image/png": "[encoded data removed]",
      "text/plain": [
       "<Figure size 720x360 with 1 Axes>"
      ]
     },
     "metadata": {
      "needs_background": "light"
     },
     "output_type": "display_data"
    }
   ],
   "source": [
    "plt.figure(figsize=(10,5))\n",
    "chart = sns.lineplot(data = df_transform, x = 'Year', y = 'Postneonatal', hue = 'Race')\n",
    "chart.set_title('Infant Mortality Over the Year vs Races')"
   ]
  },
  {
   "cell_type": "code",
   "execution_count": 228,
   "metadata": {},
   "outputs": [
    {
     "data": {
      "text/plain": [
       "0.020833333333333332"
      ]
     },
     "execution_count": 228,
     "metadata": {},
     "output_type": "execute_result"
    }
   ],
   "source": [
    "alpha*(beta+1)/(alpha + beta + 1)**2/(alpha + beta + 2)"
   ]
  },
  {
   "cell_type": "code",
   "execution_count": null,
   "metadata": {},
   "outputs": [],
   "source": []
  }
 ],
 "metadata": {
  "kernelspec": {
   "display_name": "Python 3",
   "language": "python",
   "name": "python3"
  },
  "language_info": {
   "codemirror_mode": {
    "name": "ipython",
    "version": 3
   },
   "file_extension": ".py",
   "mimetype": "text/x-python",
   "name": "python",
   "nbconvert_exporter": "python",
   "pygments_lexer": "ipython3",
   "version": "3.7.7"
  }
 },
 "nbformat": 4,
 "nbformat_minor": 4
}
