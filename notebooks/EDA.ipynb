{
 "cells": [
  {
   "cell_type": "code",
   "execution_count": 1,
   "metadata": {},
   "outputs": [],
   "source": [
    "import pandas as pd\n",
    "import numpy as np\n",
    "import matplotlib.pyplot as plt\n",
    "import seaborn as sns\n",
    "\n",
    "import warnings\n",
    "warnings.filterwarnings(\"ignore\")"
   ]
  },
  {
   "cell_type": "markdown",
   "metadata": {},
   "source": [
    "## create mortality data csv files"
   ]
  },
  {
   "cell_type": "code",
   "execution_count": 2,
   "metadata": {},
   "outputs": [],
   "source": [
    "df_mortality = pd.read_csv('../data/wonder_mortality.txt', sep = '\\t')"
   ]
  },
  {
   "cell_type": "code",
   "execution_count": 3,
   "metadata": {},
   "outputs": [
    {
     "data": {
      "text/plain": [
       "White                               3146\n",
       "Black or African American           2211\n",
       "American Indian or Alaska Native    1345\n",
       "Asian or Pacific Islander           1311\n",
       "Name: Race, dtype: int64"
      ]
     },
     "execution_count": 3,
     "metadata": {},
     "output_type": "execute_result"
    }
   ],
   "source": [
    "df_mortality.Race.value_counts()"
   ]
  },
  {
   "cell_type": "code",
   "execution_count": 4,
   "metadata": {},
   "outputs": [],
   "source": [
    "df_mortality[df_mortality.Race == 'Black or African American'][['County', 'County Code', 'Deaths', 'Population']].reset_index(drop = True).to_csv('../data/black_total_mortality.csv')"
   ]
  },
  {
   "cell_type": "code",
   "execution_count": 5,
   "metadata": {},
   "outputs": [],
   "source": [
    "df_mortality[df_mortality.Race == 'White'][['County', 'County Code', 'Deaths', 'Population']].reset_index(drop = True).to_csv('../data/white_total_mortality.csv')"
   ]
  },
  {
   "cell_type": "code",
   "execution_count": null,
   "metadata": {},
   "outputs": [],
   "source": []
  },
  {
   "cell_type": "code",
   "execution_count": 6,
   "metadata": {},
   "outputs": [],
   "source": [
    "df_mortality_infant = pd.read_csv('../data/mortality_infant.txt', sep = '\\t')"
   ]
  },
  {
   "cell_type": "code",
   "execution_count": 7,
   "metadata": {},
   "outputs": [],
   "source": [
    "df_mortality_infant[df_mortality_infant.Race == 'Black or African American'][['County', 'County Code', 'Deaths', 'Population']].reset_index(drop = True).to_csv('../data/black_infant_mortality.csv')\n",
    "df_mortality_infant[df_mortality_infant.Race == 'White'][['County', 'County Code', 'Deaths', 'Population']].reset_index(drop = True).to_csv('../data/white_infant_mortality.csv')"
   ]
  },
  {
   "cell_type": "code",
   "execution_count": null,
   "metadata": {},
   "outputs": [],
   "source": []
  },
  {
   "cell_type": "code",
   "execution_count": null,
   "metadata": {},
   "outputs": [],
   "source": []
  },
  {
   "cell_type": "code",
   "execution_count": null,
   "metadata": {},
   "outputs": [],
   "source": []
  },
  {
   "cell_type": "markdown",
   "metadata": {},
   "source": [
    "## loading data"
   ]
  },
  {
   "cell_type": "code",
   "execution_count": 8,
   "metadata": {},
   "outputs": [],
   "source": [
    "df_black_total_mortality = pd.read_csv('../data/black_total_mortality.csv', index_col = 0)\n",
    "df_white_total_mortality = pd.read_csv('../data/white_total_mortality.csv', index_col = 0)\n",
    "df_black_infant_mortality = pd.read_csv('../data/black_infant_mortality.csv', index_col = 0)\n",
    "df_white_infant_mortality = pd.read_csv('../data/white_infant_mortality.csv', index_col = 0)"
   ]
  },
  {
   "cell_type": "code",
   "execution_count": 9,
   "metadata": {},
   "outputs": [
    {
     "name": "stdout",
     "output_type": "stream",
     "text": [
      "County number for black infant csv:  1033\n",
      "County number for black total csv:  2211\n",
      "County number for white infant csv:  2490\n",
      "County number for white total csv:  3146\n"
     ]
    }
   ],
   "source": [
    "for i in ['black', 'white']:\n",
    "    for j in ['infant', 'total']:\n",
    "        exec(\"df_\" + i + \"_\" + j +\"_mortality['County_Split'] = df_\" + i + \"_\" + j +\"_mortality.County.str.split(',').apply(lambda x: x[0])\")\n",
    "        exec(\"df_\" + i + \"_\" + j +\"_mortality['County_Name'] = df_\" + i + \"_\" + j +\"_mortality.County_Split.str.split().apply(lambda x: x[0])\")\n",
    "        exec(\"df_\" + i + \"_\" + j +\"_mortality['State'] = df_\" + i + \"_\" + j +\"_mortality.County.str.split(',').apply(lambda x: x[1])\")\n",
    "        eval(\"print('County number for \" + i + \" \" + j + \" csv: ', len(df_\" + i + \"_\" + j +\"_mortality.County.unique()))\")\n",
    "        "
   ]
  },
  {
   "cell_type": "markdown",
   "metadata": {},
   "source": [
    "## the stats for black infant group is less than half of the counterpart... many counties don't record the black infant stat? but record the white infant stat? probably only going to study the counties that are in the black infant csv group"
   ]
  },
  {
   "cell_type": "code",
   "execution_count": 10,
   "metadata": {},
   "outputs": [],
   "source": [
    "df_infant_stat_counties_white_no_black = np.setdiff1d(df_white_infant_mortality.County.unique(), df_black_infant_mortality.County.unique()) "
   ]
  },
  {
   "cell_type": "code",
   "execution_count": 11,
   "metadata": {},
   "outputs": [],
   "source": [
    "df_infant_stat_counties_black_no_white = np.setdiff1d(df_black_infant_mortality.County.unique(), df_white_infant_mortality.County.unique()) "
   ]
  },
  {
   "cell_type": "code",
   "execution_count": 12,
   "metadata": {},
   "outputs": [
    {
     "data": {
      "text/plain": [
       "78"
      ]
     },
     "execution_count": 12,
     "metadata": {},
     "output_type": "execute_result"
    }
   ],
   "source": [
    "len(df_infant_stat_counties_black_no_white)"
   ]
  },
  {
   "cell_type": "code",
   "execution_count": 13,
   "metadata": {},
   "outputs": [
    {
     "data": {
      "text/plain": [
       "1535"
      ]
     },
     "execution_count": 13,
     "metadata": {},
     "output_type": "execute_result"
    }
   ],
   "source": [
    "len(df_infant_stat_counties_white_no_black)"
   ]
  },
  {
   "cell_type": "code",
   "execution_count": 14,
   "metadata": {},
   "outputs": [],
   "source": [
    "df_black_total_mortality = df_black_total_mortality[df_black_total_mortality.County.isin(df_black_infant_mortality.County.values)].reset_index(drop = True)\n",
    "df_white_total_mortality = df_white_total_mortality[df_white_total_mortality.County.isin(df_black_infant_mortality.County.values)].reset_index(drop = True)\n",
    "df_white_infant_mortality = df_white_infant_mortality[df_white_infant_mortality.County.isin(df_black_infant_mortality.County.values)].reset_index(drop = True)"
   ]
  },
  {
   "cell_type": "code",
   "execution_count": 15,
   "metadata": {},
   "outputs": [],
   "source": [
    "for i in ['black', 'white']:\n",
    "    for j in ['infant', 'total']:\n",
    "        exec(\"df_\" + i + \"_\" + j +\"_mortality['Death_Population_Ratio'] = df_\" + i + \"_\" + j +\"_mortality['Deaths']/ df_\" + i + \"_\" + j +\"_mortality['Population']\")"
   ]
  },
  {
   "cell_type": "code",
   "execution_count": 16,
   "metadata": {},
   "outputs": [],
   "source": [
    "df_black_total_mortality[\"Race\"] = 'Black'\n",
    "df_black_infant_mortality[\"Race\"] = 'Black'\n",
    "df_white_total_mortality[\"Race\"] = 'White'\n",
    "df_white_infant_mortality[\"Race\"] = 'White'"
   ]
  },
  {
   "cell_type": "code",
   "execution_count": 17,
   "metadata": {},
   "outputs": [],
   "source": [
    "df_total_mortality = pd.concat([df_black_total_mortality, df_white_total_mortality])\n",
    "df_infant_mortality = pd.concat([df_black_infant_mortality, df_white_infant_mortality])"
   ]
  },
  {
   "cell_type": "code",
   "execution_count": 18,
   "metadata": {},
   "outputs": [
    {
     "data": {
      "text/plain": [
       "<seaborn.axisgrid.FacetGrid at 0x1114a7f50>"
      ]
     },
     "execution_count": 18,
     "metadata": {},
     "output_type": "execute_result"
    },
    {
     "data": {
      "image/png": "[encoded data removed]",
      "text/plain": [
       "<Figure size 360x360 with 1 Axes>"
      ]
     },
     "metadata": {
      "needs_background": "light"
     },
     "output_type": "display_data"
    }
   ],
   "source": [
    "sns.catplot(data=df_infant_mortality, kind=\"box\", x=\"Race\", y=\"Death_Population_Ratio\")"
   ]
  },
  {
   "cell_type": "code",
   "execution_count": 19,
   "metadata": {},
   "outputs": [
    {
     "data": {
      "text/plain": [
       "<seaborn.axisgrid.FacetGrid at 0x1240d7a50>"
      ]
     },
     "execution_count": 19,
     "metadata": {},
     "output_type": "execute_result"
    },
    {
     "data": {
      "image/png": "[encoded data removed]",
      "text/plain": [
       "<Figure size 360x360 with 1 Axes>"
      ]
     },
     "metadata": {
      "needs_background": "light"
     },
     "output_type": "display_data"
    }
   ],
   "source": [
    "sns.catplot(data=df_infant_mortality, kind=\"violin\", x=\"Race\", y=\"Death_Population_Ratio\")"
   ]
  },
  {
   "cell_type": "code",
   "execution_count": 20,
   "metadata": {},
   "outputs": [
    {
     "data": {
      "text/plain": [
       "<seaborn.axisgrid.FacetGrid at 0x124199c50>"
      ]
     },
     "execution_count": 20,
     "metadata": {},
     "output_type": "execute_result"
    },
    {
     "data": {
      "image/png": "[encoded data removed]",
      "text/plain": [
       "<Figure size 360x360 with 1 Axes>"
      ]
     },
     "metadata": {
      "needs_background": "light"
     },
     "output_type": "display_data"
    }
   ],
   "source": [
    "sns.catplot(data=df_infant_mortality, kind=\"swarm\", x=\"Race\", y=\"Death_Population_Ratio\")"
   ]
  },
  {
   "cell_type": "code",
   "execution_count": null,
   "metadata": {},
   "outputs": [],
   "source": []
  },
  {
   "cell_type": "code",
   "execution_count": 15,
   "metadata": {},
   "outputs": [
    {
     "data": {
      "text/plain": [
       "<seaborn.axisgrid.FacetGrid at 0x7ff3e3bbe150>"
      ]
     },
     "execution_count": 15,
     "metadata": {},
     "output_type": "execute_result"
    },
    {
     "data": {
      "image/png": "[encoded data removed]",
      "text/plain": [
       "<Figure size 360x360 with 1 Axes>"
      ]
     },
     "metadata": {
      "needs_background": "light"
     },
     "output_type": "display_data"
    }
   ],
   "source": [
    "sns.catplot(data=df_total_mortality, kind=\"violin\", x=\"Race\", y=\"Death_Population_Ratio\")"
   ]
  },
  {
   "cell_type": "code",
   "execution_count": null,
   "metadata": {},
   "outputs": [],
   "source": []
  },
  {
   "cell_type": "code",
   "execution_count": null,
   "metadata": {},
   "outputs": [],
   "source": []
  },
  {
   "cell_type": "markdown",
   "metadata": {},
   "source": [
    "## Sundown town data loading"
   ]
  },
  {
   "cell_type": "code",
   "execution_count": 16,
   "metadata": {},
   "outputs": [],
   "source": [
    "df_sundown = pd.read_csv('../data/sundown_with_counties.csv')"
   ]
  },
  {
   "cell_type": "code",
   "execution_count": 17,
   "metadata": {},
   "outputs": [
    {
     "data": {
      "text/html": [
       "<div>\n",
       "<style scoped>\n",
       "    .dataframe tbody tr th:only-of-type {\n",
       "        vertical-align: middle;\n",
       "    }\n",
       "\n",
       "    .dataframe tbody tr th {\n",
       "        vertical-align: top;\n",
       "    }\n",
       "\n",
       "    .dataframe thead th {\n",
       "        text-align: right;\n",
       "    }\n",
       "</style>\n",
       "<table border=\"1\" class=\"dataframe\">\n",
       "  <thead>\n",
       "    <tr style=\"text-align: right;\">\n",
       "      <th></th>\n",
       "      <th>Unnamed: 0</th>\n",
       "      <th>id</th>\n",
       "      <th>city</th>\n",
       "      <th>state</th>\n",
       "      <th>status</th>\n",
       "      <th>county</th>\n",
       "    </tr>\n",
       "  </thead>\n",
       "  <tbody>\n",
       "    <tr>\n",
       "      <th>0</th>\n",
       "      <td>0</td>\n",
       "      <td>8</td>\n",
       "      <td>Anna</td>\n",
       "      <td>IL</td>\n",
       "      <td>Surely</td>\n",
       "      <td>Shelby County, IL</td>\n",
       "    </tr>\n",
       "    <tr>\n",
       "      <th>1</th>\n",
       "      <td>1</td>\n",
       "      <td>9</td>\n",
       "      <td>Glendale</td>\n",
       "      <td>PA</td>\n",
       "      <td>NaN</td>\n",
       "      <td>Boulder County, PA</td>\n",
       "    </tr>\n",
       "  </tbody>\n",
       "</table>\n",
       "</div>"
      ],
      "text/plain": [
       "   Unnamed: 0  id      city state  status              county\n",
       "0           0   8      Anna    IL  Surely   Shelby County, IL\n",
       "1           1   9  Glendale    PA     NaN  Boulder County, PA"
      ]
     },
     "execution_count": 17,
     "metadata": {},
     "output_type": "execute_result"
    }
   ],
   "source": [
    "df_sundown.head(2)"
   ]
  },
  {
   "cell_type": "code",
   "execution_count": 18,
   "metadata": {},
   "outputs": [],
   "source": [
    "df_sundown['County_with_states'] = [i + ', ' + df_sundown.state.values[idx] for idx, i in enumerate(df_sundown.county.values)]"
   ]
  },
  {
   "cell_type": "code",
   "execution_count": 19,
   "metadata": {},
   "outputs": [
    {
     "data": {
      "text/plain": [
       "2335"
      ]
     },
     "execution_count": 19,
     "metadata": {},
     "output_type": "execute_result"
    }
   ],
   "source": [
    "len(df_sundown)"
   ]
  },
  {
   "cell_type": "code",
   "execution_count": 20,
   "metadata": {},
   "outputs": [
    {
     "data": {
      "text/plain": [
       "0         Shelby County, IL, IL\n",
       "1        Boulder County, PA, PA\n",
       "2          Smith County, MS, MS\n",
       "3       Sheridan County, MS, MS\n",
       "4           Pike County, MS, MS\n",
       "                 ...           \n",
       "2329    Bradford County, TX, TX\n",
       "2330        Vigo County, OK, OK\n",
       "2332      Sabine County, OK, OK\n",
       "2333       Union County, NJ, NJ\n",
       "2334    Stoddard County, NJ, NJ\n",
       "Name: County_with_states, Length: 1615, dtype: object"
      ]
     },
     "execution_count": 20,
     "metadata": {},
     "output_type": "execute_result"
    }
   ],
   "source": [
    "df_sundown['County_with_states'].drop_duplicates()"
   ]
  },
  {
   "cell_type": "code",
   "execution_count": 21,
   "metadata": {},
   "outputs": [
    {
     "data": {
      "text/plain": [
       "1615"
      ]
     },
     "execution_count": 21,
     "metadata": {},
     "output_type": "execute_result"
    }
   ],
   "source": [
    "len(df_sundown[['state','county']].drop_duplicates())"
   ]
  },
  {
   "cell_type": "code",
   "execution_count": 22,
   "metadata": {},
   "outputs": [
    {
     "data": {
      "text/plain": [
       "1614"
      ]
     },
     "execution_count": 22,
     "metadata": {},
     "output_type": "execute_result"
    }
   ],
   "source": [
    "len(df_sundown.county.unique())"
   ]
  },
  {
   "cell_type": "code",
   "execution_count": 23,
   "metadata": {},
   "outputs": [],
   "source": [
    "df_sundown.state = df_sundown.state.str.upper()"
   ]
  },
  {
   "cell_type": "code",
   "execution_count": 24,
   "metadata": {},
   "outputs": [],
   "source": [
    "sundown_state_stat = df_sundown.state.value_counts()"
   ]
  },
  {
   "cell_type": "code",
   "execution_count": 25,
   "metadata": {},
   "outputs": [],
   "source": [
    "df_sundown_state_stats = pd.DataFrame(sundown_state_stat).reset_index()"
   ]
  },
  {
   "cell_type": "code",
   "execution_count": 26,
   "metadata": {},
   "outputs": [],
   "source": [
    "df_sundown_state_stats = df_sundown_state_stats.rename(columns = {\"index\": \"State\", \"state\":\"# of Sundown Town\"})"
   ]
  },
  {
   "cell_type": "code",
   "execution_count": 72,
   "metadata": {},
   "outputs": [
    {
     "data": {
      "text/plain": [
       "Text(0.5, 1.0, '# of Sundown Towns in Different State')"
      ]
     },
     "execution_count": 72,
     "metadata": {},
     "output_type": "execute_result"
    },
    {
     "data": {
      "image/png": "[encoded data removed]",
      "text/plain": [
       "<Figure size 720x360 with 1 Axes>"
      ]
     },
     "metadata": {
      "needs_background": "light"
     },
     "output_type": "display_data"
    }
   ],
   "source": [
    "import matplotlib.pyplot as plt\n",
    "import seaborn as sns\n",
    "plt.figure(figsize=(10,5))\n",
    "chart = sns.barplot(data = df_sundown_state_stats, x = 'State', y = '# of Sundown Town')\n",
    "x = chart.set_xticklabels(chart.get_xticklabels(), rotation=60)\n",
    "chart.set_title('# of Sundown Towns in Different State')"
   ]
  },
  {
   "cell_type": "code",
   "execution_count": 159,
   "metadata": {},
   "outputs": [],
   "source": [
    "df_sundown_state_stats = df_sundown_state_stats.sort_values(by = '# of Sundown Town', ascending = False)"
   ]
  },
  {
   "cell_type": "code",
   "execution_count": 160,
   "metadata": {},
   "outputs": [
    {
     "data": {
      "text/plain": [
       "Text(0.5, 1.0, 'Normalized # of Sundown Towns in Different State')"
      ]
     },
     "execution_count": 160,
     "metadata": {},
     "output_type": "execute_result"
    },
    {
     "data": {
      "image/png": "[encoded data removed]",
      "text/plain": [
       "<Figure size 720x360 with 1 Axes>"
      ]
     },
     "metadata": {
      "needs_background": "light"
     },
     "output_type": "display_data"
    }
   ],
   "source": [
    "plt.figure(figsize=(10,5))\n",
    "chart = sns.barplot(data = df_sundown_state_stats, x = 'State', y = 'normalized # of Sundown Towns')\n",
    "x = chart.set_xticklabels(chart.get_xticklabels(), rotation=60)\n",
    "chart.set_title('Normalized # of Sundown Towns in Different State')"
   ]
  },
  {
   "cell_type": "code",
   "execution_count": 27,
   "metadata": {},
   "outputs": [],
   "source": [
    "df_abb_state = pd.read_csv('../data/states.csv')"
   ]
  },
  {
   "cell_type": "code",
   "execution_count": 28,
   "metadata": {},
   "outputs": [],
   "source": [
    "code2state = dict(df_abb_state[['State Code', 'State']].values)\n",
    "state2code = dict(df_abb_state[['State','State Code']].values)"
   ]
  },
  {
   "cell_type": "code",
   "execution_count": 29,
   "metadata": {},
   "outputs": [],
   "source": [
    "df_population = pd.read_excel('../data/population.xlsx')"
   ]
  },
  {
   "cell_type": "code",
   "execution_count": 30,
   "metadata": {},
   "outputs": [],
   "source": [
    "df_population = df_population[['table with row headers in column A and column headers in rows 3 through 4. (leading dots indicate sub-parts)', 'Unnamed: 12']].iloc[4:59]"
   ]
  },
  {
   "cell_type": "code",
   "execution_count": 31,
   "metadata": {},
   "outputs": [],
   "source": [
    "df_population = df_population.rename(columns={'table with row headers in column A and column headers in rows 3 through 4. (leading dots indicate sub-parts)': 'Geography', 'Unnamed: 12': 'Population'})"
   ]
  },
  {
   "cell_type": "code",
   "execution_count": 32,
   "metadata": {},
   "outputs": [],
   "source": [
    "df_population[\"Geography\"] = df_population.Geography.str.split('.').apply(lambda x: x[-1])"
   ]
  },
  {
   "cell_type": "code",
   "execution_count": 33,
   "metadata": {},
   "outputs": [],
   "source": [
    "df_population_state = df_population.loc[8:]"
   ]
  },
  {
   "cell_type": "code",
   "execution_count": 34,
   "metadata": {},
   "outputs": [],
   "source": [
    "df_population_state[\"Code\"] = df_population_state.Geography.apply(lambda x: state2code[x])"
   ]
  },
  {
   "cell_type": "code",
   "execution_count": 35,
   "metadata": {},
   "outputs": [],
   "source": [
    "df_sundown_state_stats = df_sundown_state_stats.merge(df_population_state, left_on='State', right_on='Code')"
   ]
  },
  {
   "cell_type": "code",
   "execution_count": 36,
   "metadata": {},
   "outputs": [],
   "source": [
    "df_sundown_state_stats['normalized # of Sundown Towns'] = df_sundown_state_stats['# of Sundown Town'].values/df_sundown_state_stats['Population'].values"
   ]
  },
  {
   "cell_type": "code",
   "execution_count": 37,
   "metadata": {},
   "outputs": [],
   "source": [
    "df_sundown_state_stats = df_sundown_state_stats.sort_values(by = 'normalized # of Sundown Towns', ascending = False)"
   ]
  },
  {
   "cell_type": "code",
   "execution_count": 38,
   "metadata": {},
   "outputs": [],
   "source": [
    "top10_states = df_sundown_state_stats.iloc[:10].State.values\n",
    "bottom10_states = df_sundown_state_stats.iloc[-10:].State.values"
   ]
  },
  {
   "cell_type": "code",
   "execution_count": 39,
   "metadata": {},
   "outputs": [
    {
     "data": {
      "text/plain": [
       "Text(0.5, 1.0, 'Normalized # of Sundown Towns in Different State')"
      ]
     },
     "execution_count": 39,
     "metadata": {},
     "output_type": "execute_result"
    },
    {
     "data": {
      "image/png": "[encoded data removed]",
      "text/plain": [
       "<Figure size 720x360 with 1 Axes>"
      ]
     },
     "metadata": {
      "needs_background": "light"
     },
     "output_type": "display_data"
    }
   ],
   "source": [
    "plt.figure(figsize=(10,5))\n",
    "chart = sns.barplot(data = df_sundown_state_stats, x = 'State', y = 'normalized # of Sundown Towns')\n",
    "x = chart.set_xticklabels(chart.get_xticklabels(), rotation=60)\n",
    "chart.set_title('Normalized # of Sundown Towns in Different State')"
   ]
  },
  {
   "cell_type": "code",
   "execution_count": 40,
   "metadata": {},
   "outputs": [],
   "source": [
    "df_sundown_state_stats = df_sundown_state_stats.merge(df_abb_state[['State Code', 'Region']], left_on = 'Code', right_on = 'State Code')"
   ]
  },
  {
   "cell_type": "code",
   "execution_count": 41,
   "metadata": {
    "scrolled": true
   },
   "outputs": [
    {
     "data": {
      "text/html": [
       "<div>\n",
       "<style scoped>\n",
       "    .dataframe tbody tr th:only-of-type {\n",
       "        vertical-align: middle;\n",
       "    }\n",
       "\n",
       "    .dataframe tbody tr th {\n",
       "        vertical-align: top;\n",
       "    }\n",
       "\n",
       "    .dataframe thead th {\n",
       "        text-align: right;\n",
       "    }\n",
       "</style>\n",
       "<table border=\"1\" class=\"dataframe\">\n",
       "  <thead>\n",
       "    <tr style=\"text-align: right;\">\n",
       "      <th></th>\n",
       "      <th>State</th>\n",
       "      <th># of Sundown Town</th>\n",
       "      <th>Geography</th>\n",
       "      <th>Population</th>\n",
       "      <th>Code</th>\n",
       "      <th>normalized # of Sundown Towns</th>\n",
       "      <th>State Code</th>\n",
       "      <th>Region</th>\n",
       "    </tr>\n",
       "  </thead>\n",
       "  <tbody>\n",
       "    <tr>\n",
       "      <th>0</th>\n",
       "      <td>WI</td>\n",
       "      <td>241</td>\n",
       "      <td>Wisconsin</td>\n",
       "      <td>5822434.0</td>\n",
       "      <td>WI</td>\n",
       "      <td>0.000041</td>\n",
       "      <td>WI</td>\n",
       "      <td>Midwest</td>\n",
       "    </tr>\n",
       "    <tr>\n",
       "      <th>1</th>\n",
       "      <td>IN</td>\n",
       "      <td>271</td>\n",
       "      <td>Indiana</td>\n",
       "      <td>6732219.0</td>\n",
       "      <td>IN</td>\n",
       "      <td>0.000040</td>\n",
       "      <td>IN</td>\n",
       "      <td>Midwest</td>\n",
       "    </tr>\n",
       "  </tbody>\n",
       "</table>\n",
       "</div>"
      ],
      "text/plain": [
       "  State  # of Sundown Town  Geography  Population Code  \\\n",
       "0    WI                241  Wisconsin   5822434.0   WI   \n",
       "1    IN                271    Indiana   6732219.0   IN   \n",
       "\n",
       "   normalized # of Sundown Towns State Code   Region  \n",
       "0                       0.000041         WI  Midwest  \n",
       "1                       0.000040         IN  Midwest  "
      ]
     },
     "execution_count": 41,
     "metadata": {},
     "output_type": "execute_result"
    }
   ],
   "source": [
    "df_sundown_state_stats.head(2)"
   ]
  },
  {
   "cell_type": "code",
   "execution_count": 42,
   "metadata": {},
   "outputs": [],
   "source": [
    "df_sundown_region_stats = df_sundown_state_stats.groupby(by = 'Region')[['# of Sundown Town', 'Population']].sum()"
   ]
  },
  {
   "cell_type": "code",
   "execution_count": 43,
   "metadata": {},
   "outputs": [],
   "source": [
    "df_sundown_region_stats['Normalized # of Sundown Towns'] = df_sundown_region_stats['# of Sundown Town'].values/df_sundown_region_stats['Population'].values"
   ]
  },
  {
   "cell_type": "code",
   "execution_count": 44,
   "metadata": {},
   "outputs": [],
   "source": [
    "df_sundown_region_stats = df_sundown_region_stats.reset_index()"
   ]
  },
  {
   "cell_type": "code",
   "execution_count": 45,
   "metadata": {},
   "outputs": [
    {
     "data": {
      "text/plain": [
       "Text(0.5, 1.0, 'Normalized # of Sundown Towns in Different Region')"
      ]
     },
     "execution_count": 45,
     "metadata": {},
     "output_type": "execute_result"
    },
    {
     "data": {
      "image/png": "[encoded data removed]",
      "text/plain": [
       "<Figure size 432x288 with 1 Axes>"
      ]
     },
     "metadata": {
      "needs_background": "light"
     },
     "output_type": "display_data"
    }
   ],
   "source": [
    "chart = sns.barplot(data = df_sundown_region_stats, x = 'Region', y = 'Normalized # of Sundown Towns')\n",
    "x = chart.set_xticklabels(chart.get_xticklabels(), rotation=60)\n",
    "chart.set_title('Normalized # of Sundown Towns in Different Region')"
   ]
  },
  {
   "cell_type": "code",
   "execution_count": 46,
   "metadata": {},
   "outputs": [
    {
     "data": {
      "text/plain": [
       "Text(0.5, 1.0, 'Normalized # of Sundown Towns in Different Region')"
      ]
     },
     "execution_count": 46,
     "metadata": {},
     "output_type": "execute_result"
    },
    {
     "data": {
      "image/png": "[encoded data removed]",
      "text/plain": [
       "<Figure size 432x288 with 1 Axes>"
      ]
     },
     "metadata": {
      "needs_background": "light"
     },
     "output_type": "display_data"
    }
   ],
   "source": [
    "chart = sns.barplot(data = df_sundown_region_stats, x = 'Region', y = '# of Sundown Town')\n",
    "x = chart.set_xticklabels(chart.get_xticklabels(), rotation=60)\n",
    "chart.set_title('Normalized # of Sundown Towns in Different Region')"
   ]
  },
  {
   "cell_type": "code",
   "execution_count": 47,
   "metadata": {},
   "outputs": [],
   "source": [
    "df_sundown_region_stats.to_csv('../data/df_sundown_town_v2.csv')"
   ]
  },
  {
   "cell_type": "code",
   "execution_count": 49,
   "metadata": {},
   "outputs": [],
   "source": [
    "df_sundown_state_stats.to_csv('../data/df_sundown_town_states_stat.csv')"
   ]
  },
  {
   "cell_type": "code",
   "execution_count": 172,
   "metadata": {},
   "outputs": [
    {
     "data": {
      "text/plain": [
       "49"
      ]
     },
     "execution_count": 172,
     "metadata": {},
     "output_type": "execute_result"
    }
   ],
   "source": [
    "len(df_sundown.state.unique())"
   ]
  },
  {
   "cell_type": "code",
   "execution_count": 173,
   "metadata": {},
   "outputs": [
    {
     "data": {
      "text/plain": [
       "1856"
      ]
     },
     "execution_count": 173,
     "metadata": {},
     "output_type": "execute_result"
    }
   ],
   "source": [
    "len(df_sundown.city.unique())"
   ]
  },
  {
   "cell_type": "code",
   "execution_count": 174,
   "metadata": {},
   "outputs": [
    {
     "data": {
      "text/plain": [
       "array(['Anna', 'Glendale', 'Mize', ..., 'Noble', 'Garwood', 'Baker'],\n",
       "      dtype=object)"
      ]
     },
     "execution_count": 174,
     "metadata": {},
     "output_type": "execute_result"
    }
   ],
   "source": [
    "df_sundown.city.unique()"
   ]
  },
  {
   "cell_type": "code",
   "execution_count": 50,
   "metadata": {},
   "outputs": [
    {
     "data": {
      "text/plain": [
       "159"
      ]
     },
     "execution_count": 50,
     "metadata": {},
     "output_type": "execute_result"
    }
   ],
   "source": [
    "len(np.intersect1d(df_sundown.city.unique(), df_black_infant_mortality.County_Name.unique()))"
   ]
  },
  {
   "cell_type": "code",
   "execution_count": 51,
   "metadata": {},
   "outputs": [
    {
     "data": {
      "text/plain": [
       "0"
      ]
     },
     "execution_count": 51,
     "metadata": {},
     "output_type": "execute_result"
    }
   ],
   "source": [
    "len(np.intersect1d(df_sundown.city.unique(), df_black_infant_mortality.County_Split.unique()))"
   ]
  },
  {
   "cell_type": "code",
   "execution_count": 53,
   "metadata": {},
   "outputs": [
    {
     "data": {
      "text/plain": [
       "5"
      ]
     },
     "execution_count": 53,
     "metadata": {},
     "output_type": "execute_result"
    }
   ],
   "source": [
    "len(np.intersect1d(df_black_infant_mortality.County.values, df_sundown['County_with_states'].values))"
   ]
  },
  {
   "cell_type": "code",
   "execution_count": 186,
   "metadata": {},
   "outputs": [],
   "source": [
    "intersect = np.intersect1d(df_black_infant_mortality.County.values, df_sundown['County_with_states'].values)"
   ]
  },
  {
   "cell_type": "code",
   "execution_count": 199,
   "metadata": {},
   "outputs": [],
   "source": [
    "df_black_infant_mortality.State = df_black_infant_mortality.State.str.strip()"
   ]
  },
  {
   "cell_type": "code",
   "execution_count": 194,
   "metadata": {},
   "outputs": [
    {
     "data": {
      "text/plain": [
       "array(['WI', 'IN', 'AR', 'KS', 'IL', 'MO', 'OH', 'IA', 'MI', 'NE'],\n",
       "      dtype=object)"
      ]
     },
     "execution_count": 194,
     "metadata": {},
     "output_type": "execute_result"
    }
   ],
   "source": [
    "top10_states"
   ]
  },
  {
   "cell_type": "code",
   "execution_count": 200,
   "metadata": {},
   "outputs": [],
   "source": [
    "df_black_infant_top10 = df_black_infant_mortality[df_black_infant_mortality.State.isin(top10_states)]\n",
    "df_black_infant_bottom10 = df_black_infant_mortality[df_black_infant_mortality.State.isin(bottom10_states)]"
   ]
  },
  {
   "cell_type": "code",
   "execution_count": 203,
   "metadata": {},
   "outputs": [],
   "source": [
    "df_black_infant_general = df_black_infant_mortality[~df_black_infant_mortality.County.isin(df_black_infant_top10.County.values)]"
   ]
  },
  {
   "cell_type": "code",
   "execution_count": 204,
   "metadata": {},
   "outputs": [
    {
     "data": {
      "text/plain": [
       "<seaborn.axisgrid.FacetGrid at 0x7f83c17a0150>"
      ]
     },
     "execution_count": 204,
     "metadata": {},
     "output_type": "execute_result"
    },
    {
     "data": {
      "image/png": "[encoded data removed]",
      "text/plain": [
       "<Figure size 360x360 with 1 Axes>"
      ]
     },
     "metadata": {
      "needs_background": "light"
     },
     "output_type": "display_data"
    }
   ],
   "source": [
    "df_black_infant_top10['Sundown_Status'] = 'Yes'\n",
    "df_black_infant_general['Sundown_Status'] = 'No'\n",
    "\n",
    "df_sundown_mortality_black_infant = pd.concat([df_black_infant_top10, df_black_infant_general])\n",
    "\n",
    "sns.catplot(data=df_sundown_mortality_black_infant, kind=\"violin\", x=\"Sundown_Status\", y=\"Death_Population_Ratio\")"
   ]
  },
  {
   "cell_type": "code",
   "execution_count": null,
   "metadata": {},
   "outputs": [],
   "source": []
  },
  {
   "cell_type": "code",
   "execution_count": 45,
   "metadata": {},
   "outputs": [],
   "source": [
    "df_temp = df_black_infant_mortality[df_black_infant_mortality.County.isin(intersect)]\n",
    "df_temp2 = df_black_infant_mortality[~df_black_infant_mortality.County.isin(intersect)]"
   ]
  },
  {
   "cell_type": "code",
   "execution_count": 46,
   "metadata": {},
   "outputs": [
    {
     "data": {
      "text/html": [
       "<div>\n",
       "<style scoped>\n",
       "    .dataframe tbody tr th:only-of-type {\n",
       "        vertical-align: middle;\n",
       "    }\n",
       "\n",
       "    .dataframe tbody tr th {\n",
       "        vertical-align: top;\n",
       "    }\n",
       "\n",
       "    .dataframe thead th {\n",
       "        text-align: right;\n",
       "    }\n",
       "</style>\n",
       "<table border=\"1\" class=\"dataframe\">\n",
       "  <thead>\n",
       "    <tr style=\"text-align: right;\">\n",
       "      <th></th>\n",
       "      <th>County</th>\n",
       "      <th>County Code</th>\n",
       "      <th>Deaths</th>\n",
       "      <th>Population</th>\n",
       "      <th>County_Split</th>\n",
       "      <th>County_Name</th>\n",
       "      <th>State</th>\n",
       "      <th>Sundown_Status</th>\n",
       "    </tr>\n",
       "  </thead>\n",
       "  <tbody>\n",
       "    <tr>\n",
       "      <th>1</th>\n",
       "      <td>Baldwin County, AL</td>\n",
       "      <td>1003.0</td>\n",
       "      <td>69.0</td>\n",
       "      <td>4811.0</td>\n",
       "      <td>Baldwin County</td>\n",
       "      <td>Baldwin</td>\n",
       "      <td>AL</td>\n",
       "      <td>Yes</td>\n",
       "    </tr>\n",
       "    <tr>\n",
       "      <th>21</th>\n",
       "      <td>Etowah County, AL</td>\n",
       "      <td>1055.0</td>\n",
       "      <td>60.0</td>\n",
       "      <td>4276.0</td>\n",
       "      <td>Etowah County</td>\n",
       "      <td>Etowah</td>\n",
       "      <td>AL</td>\n",
       "      <td>Yes</td>\n",
       "    </tr>\n",
       "    <tr>\n",
       "      <th>25</th>\n",
       "      <td>Jefferson County, AL</td>\n",
       "      <td>1073.0</td>\n",
       "      <td>1287.0</td>\n",
       "      <td>75362.0</td>\n",
       "      <td>Jefferson County</td>\n",
       "      <td>Jefferson</td>\n",
       "      <td>AL</td>\n",
       "      <td>Yes</td>\n",
       "    </tr>\n",
       "    <tr>\n",
       "      <th>48</th>\n",
       "      <td>Walker County, AL</td>\n",
       "      <td>1127.0</td>\n",
       "      <td>23.0</td>\n",
       "      <td>1194.0</td>\n",
       "      <td>Walker County</td>\n",
       "      <td>Walker</td>\n",
       "      <td>AL</td>\n",
       "      <td>Yes</td>\n",
       "    </tr>\n",
       "    <tr>\n",
       "      <th>54</th>\n",
       "      <td>Maricopa County, AZ</td>\n",
       "      <td>4013.0</td>\n",
       "      <td>813.0</td>\n",
       "      <td>73697.0</td>\n",
       "      <td>Maricopa County</td>\n",
       "      <td>Maricopa</td>\n",
       "      <td>AZ</td>\n",
       "      <td>Yes</td>\n",
       "    </tr>\n",
       "    <tr>\n",
       "      <th>...</th>\n",
       "      <td>...</td>\n",
       "      <td>...</td>\n",
       "      <td>...</td>\n",
       "      <td>...</td>\n",
       "      <td>...</td>\n",
       "      <td>...</td>\n",
       "      <td>...</td>\n",
       "      <td>...</td>\n",
       "    </tr>\n",
       "    <tr>\n",
       "      <th>1021</th>\n",
       "      <td>Mercer County, WV</td>\n",
       "      <td>54055.0</td>\n",
       "      <td>11.0</td>\n",
       "      <td>1362.0</td>\n",
       "      <td>Mercer County</td>\n",
       "      <td>Mercer</td>\n",
       "      <td>WV</td>\n",
       "      <td>No</td>\n",
       "    </tr>\n",
       "    <tr>\n",
       "      <th>1022</th>\n",
       "      <td>Monongalia County, WV</td>\n",
       "      <td>54061.0</td>\n",
       "      <td>18.0</td>\n",
       "      <td>973.0</td>\n",
       "      <td>Monongalia County</td>\n",
       "      <td>Monongalia</td>\n",
       "      <td>WV</td>\n",
       "      <td>No</td>\n",
       "    </tr>\n",
       "    <tr>\n",
       "      <th>1023</th>\n",
       "      <td>Raleigh County, WV</td>\n",
       "      <td>54081.0</td>\n",
       "      <td>25.0</td>\n",
       "      <td>1624.0</td>\n",
       "      <td>Raleigh County</td>\n",
       "      <td>Raleigh</td>\n",
       "      <td>WV</td>\n",
       "      <td>No</td>\n",
       "    </tr>\n",
       "    <tr>\n",
       "      <th>1026</th>\n",
       "      <td>Kenosha County, WI</td>\n",
       "      <td>55059.0</td>\n",
       "      <td>53.0</td>\n",
       "      <td>4807.0</td>\n",
       "      <td>Kenosha County</td>\n",
       "      <td>Kenosha</td>\n",
       "      <td>WI</td>\n",
       "      <td>No</td>\n",
       "    </tr>\n",
       "    <tr>\n",
       "      <th>1030</th>\n",
       "      <td>Rock County, WI</td>\n",
       "      <td>55105.0</td>\n",
       "      <td>46.0</td>\n",
       "      <td>3545.0</td>\n",
       "      <td>Rock County</td>\n",
       "      <td>Rock</td>\n",
       "      <td>WI</td>\n",
       "      <td>No</td>\n",
       "    </tr>\n",
       "  </tbody>\n",
       "</table>\n",
       "<p>1033 rows × 8 columns</p>\n",
       "</div>"
      ],
      "text/plain": [
       "                     County  County Code  Deaths  Population  \\\n",
       "1        Baldwin County, AL       1003.0    69.0      4811.0   \n",
       "21        Etowah County, AL       1055.0    60.0      4276.0   \n",
       "25     Jefferson County, AL       1073.0  1287.0     75362.0   \n",
       "48        Walker County, AL       1127.0    23.0      1194.0   \n",
       "54      Maricopa County, AZ       4013.0   813.0     73697.0   \n",
       "...                     ...          ...     ...         ...   \n",
       "1021      Mercer County, WV      54055.0    11.0      1362.0   \n",
       "1022  Monongalia County, WV      54061.0    18.0       973.0   \n",
       "1023     Raleigh County, WV      54081.0    25.0      1624.0   \n",
       "1026     Kenosha County, WI      55059.0    53.0      4807.0   \n",
       "1030        Rock County, WI      55105.0    46.0      3545.0   \n",
       "\n",
       "           County_Split County_Name State Sundown_Status  \n",
       "1        Baldwin County     Baldwin    AL            Yes  \n",
       "21        Etowah County      Etowah    AL            Yes  \n",
       "25     Jefferson County   Jefferson    AL            Yes  \n",
       "48        Walker County      Walker    AL            Yes  \n",
       "54      Maricopa County    Maricopa    AZ            Yes  \n",
       "...                 ...         ...   ...            ...  \n",
       "1021      Mercer County      Mercer    WV             No  \n",
       "1022  Monongalia County  Monongalia    WV             No  \n",
       "1023     Raleigh County     Raleigh    WV             No  \n",
       "1026     Kenosha County     Kenosha    WI             No  \n",
       "1030        Rock County        Rock    WI             No  \n",
       "\n",
       "[1033 rows x 8 columns]"
      ]
     },
     "execution_count": 46,
     "metadata": {},
     "output_type": "execute_result"
    }
   ],
   "source": [
    "df_sundown_mortality_black_infant"
   ]
  },
  {
   "cell_type": "code",
   "execution_count": 47,
   "metadata": {},
   "outputs": [
    {
     "data": {
      "text/plain": [
       "<seaborn.axisgrid.FacetGrid at 0x7fdbd7fc6e50>"
      ]
     },
     "execution_count": 47,
     "metadata": {},
     "output_type": "execute_result"
    },
    {
     "data": {
      "image/png": "[encoded data removed]",
      "text/plain": [
       "<Figure size 360x360 with 1 Axes>"
      ]
     },
     "metadata": {
      "needs_background": "light"
     },
     "output_type": "display_data"
    }
   ],
   "source": [
    "df_temp['Sundown_Status'] = 'Yes'\n",
    "df_temp2['Sundown_Status'] = 'No'\n",
    "df_sundown_mortality_black_infant = pd.concat([df_temp, df_temp2])\n",
    "\n",
    "sns.catplot(data=df_sundown_mortality_black_infant, kind=\"violin\", x=\"Sundown_Status\", y=\"Death_Population_Ratio\")"
   ]
  },
  {
   "cell_type": "code",
   "execution_count": 162,
   "metadata": {},
   "outputs": [
    {
     "data": {
      "text/plain": [
       "No     875\n",
       "Yes    158\n",
       "Name: Sundown_Status, dtype: int64"
      ]
     },
     "execution_count": 162,
     "metadata": {},
     "output_type": "execute_result"
    }
   ],
   "source": [
    "df_sundown_mortality_black_infant.Sundown_Status.value_counts()"
   ]
  },
  {
   "cell_type": "code",
   "execution_count": null,
   "metadata": {},
   "outputs": [],
   "source": []
  },
  {
   "cell_type": "markdown",
   "metadata": {},
   "source": [
    "# process mortality history data"
   ]
  },
  {
   "cell_type": "code",
   "execution_count": 5,
   "metadata": {},
   "outputs": [],
   "source": [
    "import pandas as pd\n",
    "df = pd.read_csv('../output.csv')"
   ]
  },
  {
   "cell_type": "code",
   "execution_count": 32,
   "metadata": {},
   "outputs": [],
   "source": [
    "df_transform = pd.DataFrame()"
   ]
  },
  {
   "cell_type": "code",
   "execution_count": 15,
   "metadata": {},
   "outputs": [],
   "source": [
    "df = df.rename(columns={'Unnamed: 0': 'Year', 'Unnamed: 2': 'Infant', 'Unnamed: 3': '28 Days', 'Neonatal 1': '7 Days', 'Unnamed: 6': 'Postneonatal'})[['Year', 'Infant', '28 Days', '7 Days', 'Postneonatal']]"
   ]
  },
  {
   "cell_type": "code",
   "execution_count": 53,
   "metadata": {},
   "outputs": [
    {
     "data": {
      "text/html": [
       "<div>\n",
       "<style scoped>\n",
       "    .dataframe tbody tr th:only-of-type {\n",
       "        vertical-align: middle;\n",
       "    }\n",
       "\n",
       "    .dataframe tbody tr th {\n",
       "        vertical-align: top;\n",
       "    }\n",
       "\n",
       "    .dataframe thead th {\n",
       "        text-align: right;\n",
       "    }\n",
       "</style>\n",
       "<table border=\"1\" class=\"dataframe\">\n",
       "  <thead>\n",
       "    <tr style=\"text-align: right;\">\n",
       "      <th></th>\n",
       "      <th>Year</th>\n",
       "      <th>Infant</th>\n",
       "      <th>28 Days</th>\n",
       "      <th>7 Days</th>\n",
       "      <th>Postneonatal</th>\n",
       "    </tr>\n",
       "  </thead>\n",
       "  <tbody>\n",
       "    <tr>\n",
       "      <th>42</th>\n",
       "      <td>1980.  .  .  .  .  .  .  .  .  .  .  .  .  .  ...</td>\n",
       "      <td>22.2</td>\n",
       "      <td>14.6</td>\n",
       "      <td>12.3</td>\n",
       "      <td>7.6</td>\n",
       "    </tr>\n",
       "    <tr>\n",
       "      <th>43</th>\n",
       "      <td>1990.  .  .  .  .  .  .  .  .  .  .  .  .  .  ...</td>\n",
       "      <td>18.0</td>\n",
       "      <td>11.6</td>\n",
       "      <td>9.7</td>\n",
       "      <td>6.4</td>\n",
       "    </tr>\n",
       "    <tr>\n",
       "      <th>44</th>\n",
       "      <td>1995.  .  .  .  .  .  .  .  .  .  .  .  .  .  ...</td>\n",
       "      <td>15.1</td>\n",
       "      <td>9.8</td>\n",
       "      <td>8.2</td>\n",
       "      <td>5.3</td>\n",
       "    </tr>\n",
       "    <tr>\n",
       "      <th>45</th>\n",
       "      <td>2000.  .  .  .  .  .  .  .  .  .  .  .  .  .  ...</td>\n",
       "      <td>14.1</td>\n",
       "      <td>9.4</td>\n",
       "      <td>7.6</td>\n",
       "      <td>4.7</td>\n",
       "    </tr>\n",
       "    <tr>\n",
       "      <th>46</th>\n",
       "      <td>2004.  .  .  .  .  .  .  .  .  .  .  .  .  .  ...</td>\n",
       "      <td>13.8</td>\n",
       "      <td>9.1</td>\n",
       "      <td>7.3</td>\n",
       "      <td>4.7</td>\n",
       "    </tr>\n",
       "    <tr>\n",
       "      <th>47</th>\n",
       "      <td>2005.  .  .  .  .  .  .  .  .  .  .  .  .  .  ...</td>\n",
       "      <td>13.7</td>\n",
       "      <td>9.1</td>\n",
       "      <td>7.3</td>\n",
       "      <td>4.7</td>\n",
       "    </tr>\n",
       "    <tr>\n",
       "      <th>48</th>\n",
       "      <td>2010.  .  .  .  .  .  .  .  .  .  .  .  .  .  ...</td>\n",
       "      <td>11.6</td>\n",
       "      <td>7.5</td>\n",
       "      <td>6.0</td>\n",
       "      <td>4.1</td>\n",
       "    </tr>\n",
       "    <tr>\n",
       "      <th>49</th>\n",
       "      <td>2012.  .  .  .  .  .  .  .  .  .  .  .  .  .  ...</td>\n",
       "      <td>11.2</td>\n",
       "      <td>7.3</td>\n",
       "      <td>6.0</td>\n",
       "      <td>3.9</td>\n",
       "    </tr>\n",
       "    <tr>\n",
       "      <th>50</th>\n",
       "      <td>2013.  .  .  .  .  .  .  .  .  .  .  .  .  .  ...</td>\n",
       "      <td>11.2</td>\n",
       "      <td>7.4</td>\n",
       "      <td>6.1</td>\n",
       "      <td>3.8</td>\n",
       "    </tr>\n",
       "    <tr>\n",
       "      <th>51</th>\n",
       "      <td>2014.  .  .  .  .  .  .  .  .  .  .  .  .  .  ...</td>\n",
       "      <td>11.0</td>\n",
       "      <td>7.3</td>\n",
       "      <td>6.0</td>\n",
       "      <td>3.7</td>\n",
       "    </tr>\n",
       "    <tr>\n",
       "      <th>52</th>\n",
       "      <td>2015.  .  .  .  .  .  .  .  .  .  .  .  .  .  ...</td>\n",
       "      <td>11.4</td>\n",
       "      <td>7.4</td>\n",
       "      <td>6.0</td>\n",
       "      <td>4.0</td>\n",
       "    </tr>\n",
       "  </tbody>\n",
       "</table>\n",
       "</div>"
      ],
      "text/plain": [
       "                                                 Year Infant 28 Days 7 Days  \\\n",
       "42  1980.  .  .  .  .  .  .  .  .  .  .  .  .  .  ...   22.2    14.6   12.3   \n",
       "43  1990.  .  .  .  .  .  .  .  .  .  .  .  .  .  ...   18.0    11.6    9.7   \n",
       "44  1995.  .  .  .  .  .  .  .  .  .  .  .  .  .  ...   15.1     9.8    8.2   \n",
       "45  2000.  .  .  .  .  .  .  .  .  .  .  .  .  .  ...   14.1     9.4    7.6   \n",
       "46  2004.  .  .  .  .  .  .  .  .  .  .  .  .  .  ...   13.8     9.1    7.3   \n",
       "47  2005.  .  .  .  .  .  .  .  .  .  .  .  .  .  ...   13.7     9.1    7.3   \n",
       "48  2010.  .  .  .  .  .  .  .  .  .  .  .  .  .  ...   11.6     7.5    6.0   \n",
       "49  2012.  .  .  .  .  .  .  .  .  .  .  .  .  .  ...   11.2     7.3    6.0   \n",
       "50  2013.  .  .  .  .  .  .  .  .  .  .  .  .  .  ...   11.2     7.4    6.1   \n",
       "51  2014.  .  .  .  .  .  .  .  .  .  .  .  .  .  ...   11.0     7.3    6.0   \n",
       "52  2015.  .  .  .  .  .  .  .  .  .  .  .  .  .  ...   11.4     7.4    6.0   \n",
       "\n",
       "   Postneonatal  \n",
       "42          7.6  \n",
       "43          6.4  \n",
       "44          5.3  \n",
       "45          4.7  \n",
       "46          4.7  \n",
       "47          4.7  \n",
       "48          4.1  \n",
       "49          3.9  \n",
       "50          3.8  \n",
       "51          3.7  \n",
       "52          4.0  "
      ]
     },
     "execution_count": 53,
     "metadata": {},
     "output_type": "execute_result"
    }
   ],
   "source": [
    "start = 42\n",
    "end = 53\n",
    "df.iloc[start:end]"
   ]
  },
  {
   "cell_type": "code",
   "execution_count": 54,
   "metadata": {},
   "outputs": [],
   "source": [
    "df.loc[start:end, 'Year'] = df.iloc[start:end].Year.str.split().apply(lambda x: x[0]).str.split('.').apply(lambda x:x[0])"
   ]
  },
  {
   "cell_type": "code",
   "execution_count": 55,
   "metadata": {},
   "outputs": [
    {
     "name": "stderr",
     "output_type": "stream",
     "text": [
      "/Users/kexinhuang/opt/anaconda3/envs/gradio_deeppurpose/lib/python3.7/site-packages/ipykernel_launcher.py:2: SettingWithCopyWarning: \n",
      "A value is trying to be set on a copy of a slice from a DataFrame.\n",
      "Try using .loc[row_indexer,col_indexer] = value instead\n",
      "\n",
      "See the caveats in the documentation: https://pandas.pydata.org/pandas-docs/stable/user_guide/indexing.html#returning-a-view-versus-a-copy\n",
      "  \n"
     ]
    }
   ],
   "source": [
    "df_all_races = df.iloc[start:end]\n",
    "df_all_races['Race'] = 'Race of Mother: Black'"
   ]
  },
  {
   "cell_type": "code",
   "execution_count": 56,
   "metadata": {},
   "outputs": [],
   "source": [
    "df_transform = df_transform.append(df_all_races)"
   ]
  },
  {
   "cell_type": "code",
   "execution_count": 58,
   "metadata": {},
   "outputs": [],
   "source": [
    "df_transform.to_csv('../data/mortality_history_race.csv')"
   ]
  },
  {
   "cell_type": "code",
   "execution_count": 142,
   "metadata": {},
   "outputs": [
    {
     "data": {
      "text/plain": [
       "array(['29.2', '26.0', '20.0', '12.6', '9.2', '7.6', '6.9', '6.8', '6.9',\n",
       "       '6.1', '6.0', '6.0', '5.8', '5.9'], dtype=object)"
      ]
     },
     "execution_count": 142,
     "metadata": {},
     "output_type": "execute_result"
    }
   ],
   "source": [
    "df_transform[df_transform.Race == 'All']"
   ]
  },
  {
   "cell_type": "code",
   "execution_count": 143,
   "metadata": {},
   "outputs": [
    {
     "data": {
      "text/html": [
       "<div>\n",
       "<style scoped>\n",
       "    .dataframe tbody tr th:only-of-type {\n",
       "        vertical-align: middle;\n",
       "    }\n",
       "\n",
       "    .dataframe tbody tr th {\n",
       "        vertical-align: top;\n",
       "    }\n",
       "\n",
       "    .dataframe thead th {\n",
       "        text-align: right;\n",
       "    }\n",
       "</style>\n",
       "<table border=\"1\" class=\"dataframe\">\n",
       "  <thead>\n",
       "    <tr style=\"text-align: right;\">\n",
       "      <th></th>\n",
       "      <th>Year</th>\n",
       "      <th>Infant</th>\n",
       "      <th>28 Days</th>\n",
       "      <th>7 Days</th>\n",
       "      <th>Postneonatal</th>\n",
       "      <th>Race</th>\n",
       "    </tr>\n",
       "  </thead>\n",
       "  <tbody>\n",
       "    <tr>\n",
       "      <th>3</th>\n",
       "      <td>1950</td>\n",
       "      <td>29.2</td>\n",
       "      <td>20.5</td>\n",
       "      <td>17.8</td>\n",
       "      <td>8.7</td>\n",
       "      <td>All</td>\n",
       "    </tr>\n",
       "    <tr>\n",
       "      <th>4</th>\n",
       "      <td>1960</td>\n",
       "      <td>26.0</td>\n",
       "      <td>18.7</td>\n",
       "      <td>16.7</td>\n",
       "      <td>7.3</td>\n",
       "      <td>All</td>\n",
       "    </tr>\n",
       "    <tr>\n",
       "      <th>5</th>\n",
       "      <td>1970</td>\n",
       "      <td>20.0</td>\n",
       "      <td>15.1</td>\n",
       "      <td>13.6</td>\n",
       "      <td>4.9</td>\n",
       "      <td>All</td>\n",
       "    </tr>\n",
       "    <tr>\n",
       "      <th>6</th>\n",
       "      <td>1980</td>\n",
       "      <td>12.6</td>\n",
       "      <td>8.5</td>\n",
       "      <td>7.1</td>\n",
       "      <td>4.1</td>\n",
       "      <td>All</td>\n",
       "    </tr>\n",
       "    <tr>\n",
       "      <th>7</th>\n",
       "      <td>1990</td>\n",
       "      <td>9.2</td>\n",
       "      <td>5.8</td>\n",
       "      <td>4.8</td>\n",
       "      <td>3.4</td>\n",
       "      <td>All</td>\n",
       "    </tr>\n",
       "    <tr>\n",
       "      <th>8</th>\n",
       "      <td>1995</td>\n",
       "      <td>7.6</td>\n",
       "      <td>4.9</td>\n",
       "      <td>4.0</td>\n",
       "      <td>2.7</td>\n",
       "      <td>All</td>\n",
       "    </tr>\n",
       "    <tr>\n",
       "      <th>9</th>\n",
       "      <td>2000</td>\n",
       "      <td>6.9</td>\n",
       "      <td>4.6</td>\n",
       "      <td>3.7</td>\n",
       "      <td>2.3</td>\n",
       "      <td>All</td>\n",
       "    </tr>\n",
       "    <tr>\n",
       "      <th>10</th>\n",
       "      <td>2004</td>\n",
       "      <td>6.8</td>\n",
       "      <td>4.5</td>\n",
       "      <td>3.6</td>\n",
       "      <td>2.3</td>\n",
       "      <td>All</td>\n",
       "    </tr>\n",
       "    <tr>\n",
       "      <th>11</th>\n",
       "      <td>2005</td>\n",
       "      <td>6.9</td>\n",
       "      <td>4.5</td>\n",
       "      <td>3.6</td>\n",
       "      <td>2.3</td>\n",
       "      <td>All</td>\n",
       "    </tr>\n",
       "    <tr>\n",
       "      <th>12</th>\n",
       "      <td>2010</td>\n",
       "      <td>6.1</td>\n",
       "      <td>4.0</td>\n",
       "      <td>3.2</td>\n",
       "      <td>2.1</td>\n",
       "      <td>All</td>\n",
       "    </tr>\n",
       "    <tr>\n",
       "      <th>13</th>\n",
       "      <td>2012</td>\n",
       "      <td>6.0</td>\n",
       "      <td>4.0</td>\n",
       "      <td>3.3</td>\n",
       "      <td>2.0</td>\n",
       "      <td>All</td>\n",
       "    </tr>\n",
       "    <tr>\n",
       "      <th>14</th>\n",
       "      <td>2013</td>\n",
       "      <td>6.0</td>\n",
       "      <td>4.0</td>\n",
       "      <td>3.3</td>\n",
       "      <td>1.9</td>\n",
       "      <td>All</td>\n",
       "    </tr>\n",
       "    <tr>\n",
       "      <th>15</th>\n",
       "      <td>2014</td>\n",
       "      <td>5.8</td>\n",
       "      <td>3.9</td>\n",
       "      <td>3.2</td>\n",
       "      <td>1.9</td>\n",
       "      <td>All</td>\n",
       "    </tr>\n",
       "    <tr>\n",
       "      <th>16</th>\n",
       "      <td>2015</td>\n",
       "      <td>5.9</td>\n",
       "      <td>3.9</td>\n",
       "      <td>3.2</td>\n",
       "      <td>2.0</td>\n",
       "      <td>All</td>\n",
       "    </tr>\n",
       "    <tr>\n",
       "      <th>18</th>\n",
       "      <td>1950</td>\n",
       "      <td>26.8</td>\n",
       "      <td>19.4</td>\n",
       "      <td>17.1</td>\n",
       "      <td>7.4</td>\n",
       "      <td>Race of Child: White</td>\n",
       "    </tr>\n",
       "    <tr>\n",
       "      <th>19</th>\n",
       "      <td>1960</td>\n",
       "      <td>22.9</td>\n",
       "      <td>17.2</td>\n",
       "      <td>15.6</td>\n",
       "      <td>5.7</td>\n",
       "      <td>Race of Child: White</td>\n",
       "    </tr>\n",
       "    <tr>\n",
       "      <th>20</th>\n",
       "      <td>1970</td>\n",
       "      <td>17.8</td>\n",
       "      <td>13.8</td>\n",
       "      <td>12.5</td>\n",
       "      <td>4.0</td>\n",
       "      <td>Race of Child: White</td>\n",
       "    </tr>\n",
       "    <tr>\n",
       "      <th>21</th>\n",
       "      <td>1980</td>\n",
       "      <td>11.0</td>\n",
       "      <td>7.5</td>\n",
       "      <td>6.2</td>\n",
       "      <td>3.5</td>\n",
       "      <td>Race of Child: White</td>\n",
       "    </tr>\n",
       "    <tr>\n",
       "      <th>23</th>\n",
       "      <td>1980</td>\n",
       "      <td>10.9</td>\n",
       "      <td>7.4</td>\n",
       "      <td>6.1</td>\n",
       "      <td>3.5</td>\n",
       "      <td>Race of Mother: White</td>\n",
       "    </tr>\n",
       "    <tr>\n",
       "      <th>24</th>\n",
       "      <td>1990</td>\n",
       "      <td>7.6</td>\n",
       "      <td>4.8</td>\n",
       "      <td>3.9</td>\n",
       "      <td>2.8</td>\n",
       "      <td>Race of Mother: White</td>\n",
       "    </tr>\n",
       "    <tr>\n",
       "      <th>25</th>\n",
       "      <td>1995</td>\n",
       "      <td>6.3</td>\n",
       "      <td>4.1</td>\n",
       "      <td>3.3</td>\n",
       "      <td>2.2</td>\n",
       "      <td>Race of Mother: White</td>\n",
       "    </tr>\n",
       "    <tr>\n",
       "      <th>26</th>\n",
       "      <td>2000</td>\n",
       "      <td>5.7</td>\n",
       "      <td>3.8</td>\n",
       "      <td>3.0</td>\n",
       "      <td>1.9</td>\n",
       "      <td>Race of Mother: White</td>\n",
       "    </tr>\n",
       "    <tr>\n",
       "      <th>27</th>\n",
       "      <td>2004</td>\n",
       "      <td>5.7</td>\n",
       "      <td>3.8</td>\n",
       "      <td>3.0</td>\n",
       "      <td>1.9</td>\n",
       "      <td>Race of Mother: White</td>\n",
       "    </tr>\n",
       "    <tr>\n",
       "      <th>28</th>\n",
       "      <td>2005</td>\n",
       "      <td>5.7</td>\n",
       "      <td>3.8</td>\n",
       "      <td>3.0</td>\n",
       "      <td>1.9</td>\n",
       "      <td>Race of Mother: White</td>\n",
       "    </tr>\n",
       "    <tr>\n",
       "      <th>29</th>\n",
       "      <td>2010</td>\n",
       "      <td>5.2</td>\n",
       "      <td>3.5</td>\n",
       "      <td>2.7</td>\n",
       "      <td>1.7</td>\n",
       "      <td>Race of Mother: White</td>\n",
       "    </tr>\n",
       "    <tr>\n",
       "      <th>30</th>\n",
       "      <td>2012</td>\n",
       "      <td>5.1</td>\n",
       "      <td>3.5</td>\n",
       "      <td>2.8</td>\n",
       "      <td>1.6</td>\n",
       "      <td>Race of Mother: White</td>\n",
       "    </tr>\n",
       "    <tr>\n",
       "      <th>31</th>\n",
       "      <td>2013</td>\n",
       "      <td>5.1</td>\n",
       "      <td>3.5</td>\n",
       "      <td>2.8</td>\n",
       "      <td>1.6</td>\n",
       "      <td>Race of Mother: White</td>\n",
       "    </tr>\n",
       "    <tr>\n",
       "      <th>32</th>\n",
       "      <td>2014</td>\n",
       "      <td>4.9</td>\n",
       "      <td>3.4</td>\n",
       "      <td>2.7</td>\n",
       "      <td>1.6</td>\n",
       "      <td>Race of Mother: White</td>\n",
       "    </tr>\n",
       "    <tr>\n",
       "      <th>33</th>\n",
       "      <td>2015</td>\n",
       "      <td>4.9</td>\n",
       "      <td>3.3</td>\n",
       "      <td>2.7</td>\n",
       "      <td>1.6</td>\n",
       "      <td>Race of Mother: White</td>\n",
       "    </tr>\n",
       "    <tr>\n",
       "      <th>36</th>\n",
       "      <td>1950</td>\n",
       "      <td>43.9</td>\n",
       "      <td>27.8</td>\n",
       "      <td>23.0</td>\n",
       "      <td>16.1</td>\n",
       "      <td>Race of Child: Black</td>\n",
       "    </tr>\n",
       "    <tr>\n",
       "      <th>37</th>\n",
       "      <td>1960</td>\n",
       "      <td>44.3</td>\n",
       "      <td>27.8</td>\n",
       "      <td>23.7</td>\n",
       "      <td>16.5</td>\n",
       "      <td>Race of Child: Black</td>\n",
       "    </tr>\n",
       "    <tr>\n",
       "      <th>38</th>\n",
       "      <td>1970</td>\n",
       "      <td>32.6</td>\n",
       "      <td>22.8</td>\n",
       "      <td>20.3</td>\n",
       "      <td>9.9</td>\n",
       "      <td>Race of Child: Black</td>\n",
       "    </tr>\n",
       "    <tr>\n",
       "      <th>39</th>\n",
       "      <td>1980</td>\n",
       "      <td>21.4</td>\n",
       "      <td>14.1</td>\n",
       "      <td>11.9</td>\n",
       "      <td>7.3</td>\n",
       "      <td>Race of Child: Black</td>\n",
       "    </tr>\n",
       "    <tr>\n",
       "      <th>42</th>\n",
       "      <td>1980</td>\n",
       "      <td>22.2</td>\n",
       "      <td>14.6</td>\n",
       "      <td>12.3</td>\n",
       "      <td>7.6</td>\n",
       "      <td>Race of Mother: Black</td>\n",
       "    </tr>\n",
       "    <tr>\n",
       "      <th>43</th>\n",
       "      <td>1990</td>\n",
       "      <td>18.0</td>\n",
       "      <td>11.6</td>\n",
       "      <td>9.7</td>\n",
       "      <td>6.4</td>\n",
       "      <td>Race of Mother: Black</td>\n",
       "    </tr>\n",
       "    <tr>\n",
       "      <th>44</th>\n",
       "      <td>1995</td>\n",
       "      <td>15.1</td>\n",
       "      <td>9.8</td>\n",
       "      <td>8.2</td>\n",
       "      <td>5.3</td>\n",
       "      <td>Race of Mother: Black</td>\n",
       "    </tr>\n",
       "    <tr>\n",
       "      <th>45</th>\n",
       "      <td>2000</td>\n",
       "      <td>14.1</td>\n",
       "      <td>9.4</td>\n",
       "      <td>7.6</td>\n",
       "      <td>4.7</td>\n",
       "      <td>Race of Mother: Black</td>\n",
       "    </tr>\n",
       "    <tr>\n",
       "      <th>46</th>\n",
       "      <td>2004</td>\n",
       "      <td>13.8</td>\n",
       "      <td>9.1</td>\n",
       "      <td>7.3</td>\n",
       "      <td>4.7</td>\n",
       "      <td>Race of Mother: Black</td>\n",
       "    </tr>\n",
       "    <tr>\n",
       "      <th>47</th>\n",
       "      <td>2005</td>\n",
       "      <td>13.7</td>\n",
       "      <td>9.1</td>\n",
       "      <td>7.3</td>\n",
       "      <td>4.7</td>\n",
       "      <td>Race of Mother: Black</td>\n",
       "    </tr>\n",
       "    <tr>\n",
       "      <th>48</th>\n",
       "      <td>2010</td>\n",
       "      <td>11.6</td>\n",
       "      <td>7.5</td>\n",
       "      <td>6.0</td>\n",
       "      <td>4.1</td>\n",
       "      <td>Race of Mother: Black</td>\n",
       "    </tr>\n",
       "    <tr>\n",
       "      <th>49</th>\n",
       "      <td>2012</td>\n",
       "      <td>11.2</td>\n",
       "      <td>7.3</td>\n",
       "      <td>6.0</td>\n",
       "      <td>3.9</td>\n",
       "      <td>Race of Mother: Black</td>\n",
       "    </tr>\n",
       "    <tr>\n",
       "      <th>50</th>\n",
       "      <td>2013</td>\n",
       "      <td>11.2</td>\n",
       "      <td>7.4</td>\n",
       "      <td>6.1</td>\n",
       "      <td>3.8</td>\n",
       "      <td>Race of Mother: Black</td>\n",
       "    </tr>\n",
       "    <tr>\n",
       "      <th>51</th>\n",
       "      <td>2014</td>\n",
       "      <td>11.0</td>\n",
       "      <td>7.3</td>\n",
       "      <td>6.0</td>\n",
       "      <td>3.7</td>\n",
       "      <td>Race of Mother: Black</td>\n",
       "    </tr>\n",
       "    <tr>\n",
       "      <th>52</th>\n",
       "      <td>2015</td>\n",
       "      <td>11.4</td>\n",
       "      <td>7.4</td>\n",
       "      <td>6.0</td>\n",
       "      <td>4.0</td>\n",
       "      <td>Race of Mother: Black</td>\n",
       "    </tr>\n",
       "  </tbody>\n",
       "</table>\n",
       "</div>"
      ],
      "text/plain": [
       "    Year Infant 28 Days 7 Days Postneonatal                   Race\n",
       "3   1950   29.2    20.5   17.8          8.7                    All\n",
       "4   1960   26.0    18.7   16.7          7.3                    All\n",
       "5   1970   20.0    15.1   13.6          4.9                    All\n",
       "6   1980   12.6     8.5    7.1          4.1                    All\n",
       "7   1990    9.2     5.8    4.8          3.4                    All\n",
       "8   1995    7.6     4.9    4.0          2.7                    All\n",
       "9   2000    6.9     4.6    3.7          2.3                    All\n",
       "10  2004    6.8     4.5    3.6          2.3                    All\n",
       "11  2005    6.9     4.5    3.6          2.3                    All\n",
       "12  2010    6.1     4.0    3.2          2.1                    All\n",
       "13  2012    6.0     4.0    3.3          2.0                    All\n",
       "14  2013    6.0     4.0    3.3          1.9                    All\n",
       "15  2014    5.8     3.9    3.2          1.9                    All\n",
       "16  2015    5.9     3.9    3.2          2.0                    All\n",
       "18  1950   26.8    19.4   17.1          7.4   Race of Child: White\n",
       "19  1960   22.9    17.2   15.6          5.7   Race of Child: White\n",
       "20  1970   17.8    13.8   12.5          4.0   Race of Child: White\n",
       "21  1980   11.0     7.5    6.2          3.5   Race of Child: White\n",
       "23  1980   10.9     7.4    6.1          3.5  Race of Mother: White\n",
       "24  1990    7.6     4.8    3.9          2.8  Race of Mother: White\n",
       "25  1995    6.3     4.1    3.3          2.2  Race of Mother: White\n",
       "26  2000    5.7     3.8    3.0          1.9  Race of Mother: White\n",
       "27  2004    5.7     3.8    3.0          1.9  Race of Mother: White\n",
       "28  2005    5.7     3.8    3.0          1.9  Race of Mother: White\n",
       "29  2010    5.2     3.5    2.7          1.7  Race of Mother: White\n",
       "30  2012    5.1     3.5    2.8          1.6  Race of Mother: White\n",
       "31  2013    5.1     3.5    2.8          1.6  Race of Mother: White\n",
       "32  2014    4.9     3.4    2.7          1.6  Race of Mother: White\n",
       "33  2015    4.9     3.3    2.7          1.6  Race of Mother: White\n",
       "36  1950   43.9    27.8   23.0         16.1   Race of Child: Black\n",
       "37  1960   44.3    27.8   23.7         16.5   Race of Child: Black\n",
       "38  1970   32.6    22.8   20.3          9.9   Race of Child: Black\n",
       "39  1980   21.4    14.1   11.9          7.3   Race of Child: Black\n",
       "42  1980   22.2    14.6   12.3          7.6  Race of Mother: Black\n",
       "43  1990   18.0    11.6    9.7          6.4  Race of Mother: Black\n",
       "44  1995   15.1     9.8    8.2          5.3  Race of Mother: Black\n",
       "45  2000   14.1     9.4    7.6          4.7  Race of Mother: Black\n",
       "46  2004   13.8     9.1    7.3          4.7  Race of Mother: Black\n",
       "47  2005   13.7     9.1    7.3          4.7  Race of Mother: Black\n",
       "48  2010   11.6     7.5    6.0          4.1  Race of Mother: Black\n",
       "49  2012   11.2     7.3    6.0          3.9  Race of Mother: Black\n",
       "50  2013   11.2     7.4    6.1          3.8  Race of Mother: Black\n",
       "51  2014   11.0     7.3    6.0          3.7  Race of Mother: Black\n",
       "52  2015   11.4     7.4    6.0          4.0  Race of Mother: Black"
      ]
     },
     "execution_count": 143,
     "metadata": {},
     "output_type": "execute_result"
    }
   ],
   "source": [
    "df_transform"
   ]
  },
  {
   "cell_type": "code",
   "execution_count": 148,
   "metadata": {},
   "outputs": [],
   "source": [
    "df_transform[['Infant','28 Days', '7 Days', 'Postneonatal']] = df_transform[['Infant','28 Days', '7 Days', 'Postneonatal']].astype(float)"
   ]
  },
  {
   "cell_type": "code",
   "execution_count": 154,
   "metadata": {},
   "outputs": [
    {
     "data": {
      "text/plain": [
       "Text(0.5, 1.0, 'Infant Mortality Over the Year vs Races')"
      ]
     },
     "execution_count": 154,
     "metadata": {},
     "output_type": "execute_result"
    },
    {
     "data": {
      "image/png": "[encoded data removed]",
      "text/plain": [
       "<Figure size 720x360 with 1 Axes>"
      ]
     },
     "metadata": {
      "needs_background": "light"
     },
     "output_type": "display_data"
    }
   ],
   "source": [
    "plt.figure(figsize=(10,5))\n",
    "chart = sns.lineplot(data = df_transform, x = 'Year', y = 'Infant', hue = 'Race')\n",
    "chart.set_title('Infant Mortality Over the Year vs Races')"
   ]
  },
  {
   "cell_type": "code",
   "execution_count": 155,
   "metadata": {},
   "outputs": [
    {
     "data": {
      "text/plain": [
       "Text(0.5, 1.0, '28 Days Mortality Over the Year vs Races')"
      ]
     },
     "execution_count": 155,
     "metadata": {},
     "output_type": "execute_result"
    },
    {
     "data": {
      "image/png": "[encoded data removed]",
      "text/plain": [
       "<Figure size 720x360 with 1 Axes>"
      ]
     },
     "metadata": {
      "needs_background": "light"
     },
     "output_type": "display_data"
    }
   ],
   "source": [
    "plt.figure(figsize=(10,5))\n",
    "chart = sns.lineplot(data = df_transform, x = 'Year', y = '28 Days', hue = 'Race')\n",
    "chart.set_title('28 Days Mortality Over the Year vs Races')"
   ]
  },
  {
   "cell_type": "code",
   "execution_count": 156,
   "metadata": {},
   "outputs": [
    {
     "data": {
      "text/plain": [
       "Text(0.5, 1.0, 'Infant Mortality Over the Year vs Races')"
      ]
     },
     "execution_count": 156,
     "metadata": {},
     "output_type": "execute_result"
    },
    {
     "data": {
      "image/png": "[encoded data removed]",
      "text/plain": [
       "<Figure size 720x360 with 1 Axes>"
      ]
     },
     "metadata": {
      "needs_background": "light"
     },
     "output_type": "display_data"
    }
   ],
   "source": [
    "plt.figure(figsize=(10,5))\n",
    "chart = sns.lineplot(data = df_transform, x = 'Year', y = '7 Days', hue = 'Race')\n",
    "chart.set_title('Infant Mortality Over the Year vs Races')"
   ]
  },
  {
   "cell_type": "code",
   "execution_count": 157,
   "metadata": {},
   "outputs": [
    {
     "data": {
      "text/plain": [
       "Text(0.5, 1.0, 'Infant Mortality Over the Year vs Races')"
      ]
     },
     "execution_count": 157,
     "metadata": {},
     "output_type": "execute_result"
    },
    {
     "data": {
      "image/png": "[encoded data removed]",
      "text/plain": [
       "<Figure size 720x360 with 1 Axes>"
      ]
     },
     "metadata": {
      "needs_background": "light"
     },
     "output_type": "display_data"
    }
   ],
   "source": [
    "plt.figure(figsize=(10,5))\n",
    "chart = sns.lineplot(data = df_transform, x = 'Year', y = 'Postneonatal', hue = 'Race')\n",
    "chart.set_title('Infant Mortality Over the Year vs Races')"
   ]
  },
  {
   "cell_type": "code",
   "execution_count": 228,
   "metadata": {},
   "outputs": [
    {
     "data": {
      "text/plain": [
       "0.020833333333333332"
      ]
     },
     "execution_count": 228,
     "metadata": {},
     "output_type": "execute_result"
    }
   ],
   "source": [
    "alpha*(beta+1)/(alpha + beta + 1)**2/(alpha + beta + 2)"
   ]
  },
  {
   "cell_type": "code",
   "execution_count": null,
   "metadata": {},
   "outputs": [],
   "source": []
  }
 ],
 "metadata": {
  "kernelspec": {
   "display_name": "venv",
   "language": "python",
   "name": "venv"
  },
  "language_info": {
   "codemirror_mode": {
    "name": "ipython",
    "version": 3
   },
   "file_extension": ".py",
   "mimetype": "text/x-python",
   "name": "python",
   "nbconvert_exporter": "python",
   "pygments_lexer": "ipython3",
   "version": "3.7.7"
  }
 },
 "nbformat": 4,
 "nbformat_minor": 4
}
